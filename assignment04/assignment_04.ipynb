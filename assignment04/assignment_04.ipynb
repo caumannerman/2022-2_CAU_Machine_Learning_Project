{
 "cells": [
  {
   "cell_type": "markdown",
   "metadata": {
    "id": "KlAPtj-LOvT-"
   },
   "source": [
    "# A neural network for a classification with multiple labels"
   ]
  },
  {
   "cell_type": "markdown",
   "metadata": {
    "id": "acbisSu-OvUB"
   },
   "source": [
    "## import library"
   ]
  },
  {
   "cell_type": "code",
   "execution_count": 1,
   "metadata": {
    "id": "bimlm3ygOvUB"
   },
   "outputs": [],
   "source": [
    "import numpy as np\n",
    "import matplotlib.image as img\n",
    "import matplotlib.pyplot as plt\n",
    "import matplotlib.colors as colors\n",
    "from matplotlib import ticker, cm\n",
    "import os\n",
    "from tqdm import tqdm"
   ]
  },
  {
   "cell_type": "markdown",
   "metadata": {
    "id": "7NtrnOKCOvUD"
   },
   "source": [
    "## load data"
   ]
  },
  {
   "cell_type": "code",
   "execution_count": 2,
   "metadata": {
    "id": "bOtTY2wtOvUD"
   },
   "outputs": [],
   "source": [
    "directory_data  = './sample_data'\n",
    "filename_data   = 'assignment_04_data.npz'\n",
    "path_data       = os.path.join(directory_data, filename_data) \n",
    "data            = np.load(path_data)\n",
    "\n",
    "x_train = data['x_train']\n",
    "y_train = data['y_train']\n",
    "\n",
    "x_test  = data['x_test']\n",
    "y_test  = data['y_test']\n",
    "\n",
    "x_train = np.asarray(x_train)\n",
    "y_train = np.asarray(y_train)\n",
    "\n",
    "x_test  = np.asarray(x_test)\n",
    "y_test  = np.asarray(y_test)\n",
    "\n",
    "vec_x_train = x_train.reshape(x_train.shape[0], x_train.shape[1] * x_train.shape[2])\n",
    "vec_x_test  = x_test.reshape(x_test.shape[0], x_test.shape[1] * x_test.shape[2])"
   ]
  },
  {
   "cell_type": "code",
   "execution_count": 3,
   "metadata": {
    "colab": {
     "base_uri": "https://localhost:8080/"
    },
    "id": "q1g3Cj1bOvUD",
    "outputId": "9f812aa5-d5cb-4c76-e39b-10fa6f109531"
   },
   "outputs": [
    {
     "name": "stdout",
     "output_type": "stream",
     "text": [
      "*************************************************\n",
      "size of x_train : (10000, 28, 28)\n",
      "size of y_train : (10000, 5)\n",
      "*************************************************\n",
      "size of x_test : (4500, 28, 28)\n",
      "size of y_test : (4500, 5)\n",
      "*************************************************\n",
      "size of vector_x_train : (10000, 784)\n",
      "size of vector_x_test : (4500, 784)\n",
      "*************************************************\n"
     ]
    }
   ],
   "source": [
    "print('*************************************************')\n",
    "print('size of x_train :', x_train.shape)\n",
    "print('size of y_train :', y_train.shape)\n",
    "print('*************************************************')\n",
    "print('size of x_test :', x_test.shape)\n",
    "print('size of y_test :', y_test.shape)\n",
    "print('*************************************************')\n",
    "print('size of vector_x_train :', vec_x_train.shape)\n",
    "print('size of vector_x_test :', vec_x_test.shape)\n",
    "print('*************************************************')"
   ]
  },
  {
   "cell_type": "markdown",
   "metadata": {
    "id": "o7pMreEROvUE"
   },
   "source": [
    "## index for each class"
   ]
  },
  {
   "cell_type": "code",
   "execution_count": 4,
   "metadata": {
    "colab": {
     "base_uri": "https://localhost:8080/"
    },
    "id": "0dHoNxEnOvUF",
    "outputId": "7299c670-f15e-4751-f99d-3f1750717210"
   },
   "outputs": [
    {
     "name": "stdout",
     "output_type": "stream",
     "text": [
      "<class 'dict'> <class 'dict'>\n"
     ]
    }
   ],
   "source": [
    "# 5\n",
    "number_class    = y_train.shape[1]\n",
    "# 784\n",
    "length_data     = vec_x_train.shape[1]\n",
    "\n",
    "index_train = {}\n",
    "index_test  = {}\n",
    "print(type(index_train), type(index_test))\n",
    "number_index_train  = np.zeros(number_class)\n",
    "number_index_test   = np.zeros(number_class)\n",
    "\n",
    "for i in range(number_class):\n",
    "    # 딕셔너리에 key,value 추가\n",
    "    # ground truth에서 각 열에 1이 몇 개 있는지 세서 저장\n",
    "    index_train[i]  = np.where(y_train[:, i] == 1)\n",
    "    index_test[i]   = np.where(y_test[:, i] == 1)\n",
    "    \n",
    "    number_index_train[i]   = np.shape(index_train[i])[1]\n",
    "    number_index_test[i]    = np.shape(index_test[i])[1]"
   ]
  },
  {
   "cell_type": "code",
   "execution_count": 5,
   "metadata": {
    "colab": {
     "base_uri": "https://localhost:8080/"
    },
    "id": "RiuAI2cpl7Wz",
    "outputId": "aaa62f4d-615f-4f71-8f12-85eb42bec16a"
   },
   "outputs": [
    {
     "name": "stdout",
     "output_type": "stream",
     "text": [
      "(array([0, 3]),)\n",
      "(array([   0,    1,    2, ..., 1997, 1998, 1999]),)\n",
      "(1, 2000)\n",
      "[2000. 2000. 2000. 2000. 2000.]\n",
      "[900. 900. 900. 900. 900.]\n"
     ]
    }
   ],
   "source": [
    "test_array = np.array([[0,0,1,0,0],[0,1,0,0,0],[1,0,0,0,0],[0,0,1,0,0]])\n",
    "print(np.where(test_array[: ,2] == 1))\n",
    "\n",
    "print(index_train[0])\n",
    "print(np.shape(index_train[0]))\n",
    "print(number_index_train )\n",
    "print(number_index_test)"
   ]
  },
  {
   "cell_type": "code",
   "execution_count": 6,
   "metadata": {
    "colab": {
     "base_uri": "https://localhost:8080/"
    },
    "id": "gYCVai4VOvUG",
    "outputId": "5e428b4e-96dc-478e-911e-78798098b93f"
   },
   "outputs": [
    {
     "name": "stdout",
     "output_type": "stream",
     "text": [
      "*************************************************\n",
      "number of classes : 5\n",
      "length of data : 784\n",
      "*************************************************\n",
      "number of training images for each class : [2000. 2000. 2000. 2000. 2000.]\n",
      "number of testing images for each class : [900. 900. 900. 900. 900.]\n",
      "*************************************************\n"
     ]
    }
   ],
   "source": [
    "print('*************************************************')\n",
    "print('number of classes :', number_class)\n",
    "print('length of data :', length_data)\n",
    "print('*************************************************')\n",
    "print('number of training images for each class :', number_index_train)\n",
    "print('number of testing images for each class :', number_index_test)\n",
    "print('*************************************************')"
   ]
  },
  {
   "cell_type": "markdown",
   "metadata": {
    "id": "mYao7w-fOvUG"
   },
   "source": [
    "## plot grey image"
   ]
  },
  {
   "cell_type": "code",
   "execution_count": 7,
   "metadata": {
    "id": "9rhncRasOvUG"
   },
   "outputs": [],
   "source": [
    "def plot_image(title, data):\n",
    "\n",
    "    nRow = 2\n",
    "    nCol = 4\n",
    "    size = 3 \n",
    "    \n",
    "    fig, axes = plt.subplots(nRow, nCol, figsize=(size * nCol, size * nRow))\n",
    "    fig.suptitle(title, fontsize=16)\n",
    "    \n",
    "    for i in range(nRow):\n",
    "        for j in range(nCol):\n",
    "\n",
    "            k = i * nCol + j\n",
    "            axes[i, j].imshow(data[k], cmap='gray', vmin=0, vmax=1)\n",
    "\n",
    "    plt.tight_layout()\n",
    "    plt.show()"
   ]
  },
  {
   "cell_type": "code",
   "execution_count": 8,
   "metadata": {
    "colab": {
     "base_uri": "https://localhost:8080/",
     "height": 1000
    },
    "id": "Mn8fclJYOvUH",
    "outputId": "f0707269-3cce-4216-fb2f-afa898363073"
   },
   "outputs": [
    {
     "data": {
      "image/png": "[encoded data removed]",
      "text/plain": [
       "<Figure size 864x432 with 8 Axes>"
      ]
     },
     "metadata": {
      "needs_background": "light"
     },
     "output_type": "display_data"
    },
    {
     "data": {
      "image/png": "[encoded data removed]",
      "text/plain": [
       "<Figure size 864x432 with 8 Axes>"
      ]
     },
     "metadata": {
      "needs_background": "light"
     },
     "output_type": "display_data"
    },
    {
     "data": {
      "image/png": "[encoded data removed]",
      "text/plain": [
       "<Figure size 864x432 with 8 Axes>"
      ]
     },
     "metadata": {
      "needs_background": "light"
     },
     "output_type": "display_data"
    },
    {
     "data": {
      "image/png": "[encoded data removed]",
      "text/plain": [
       "<Figure size 864x432 with 8 Axes>"
      ]
     },
     "metadata": {
      "needs_background": "light"
     },
     "output_type": "display_data"
    },
    {
     "data": {
      "image/png": "[encoded data removed]",
      "text/plain": [
       "<Figure size 864x432 with 8 Axes>"
      ]
     },
     "metadata": {
      "needs_background": "light"
     },
     "output_type": "display_data"
    }
   ],
   "source": [
    "for c in range(number_class):\n",
    "\n",
    "    index_class = c\n",
    "    title       = 'training image for digit ' + str(index_class)\n",
    "    plot_image(title, x_train[index_train[index_class][0]])"
   ]
  },
  {
   "cell_type": "markdown",
   "metadata": {
    "id": "Xznf4tKDOvUH"
   },
   "source": [
    "## initialize the neural network"
   ]
  },
  {
   "cell_type": "markdown",
   "metadata": {
    "id": "Jp7bAFQrOvUH"
   },
   "source": [
    "- neural network consists of fullly connected linear layer followed by softmax activation function\n",
    "- the size of the fully connected layer is input (length of data) and output (number of classes)"
   ]
  },
  {
   "cell_type": "markdown",
   "metadata": {
    "id": "6xhenP-WOvUI"
   },
   "source": [
    "## initialize the weights for the fully connected layer"
   ]
  },
  {
   "cell_type": "markdown",
   "metadata": {
    "id": "aoEUnONKOvUI"
   },
   "source": [
    "- create one matrix for the weights"
   ]
  },
  {
   "cell_type": "code",
   "execution_count": 9,
   "metadata": {
    "id": "5uivGZE3OvUI"
   },
   "outputs": [],
   "source": [
    "# 784\n",
    "size_input  = length_data \n",
    "# 5\n",
    "size_output = number_class\n",
    "\n",
    "weight = np.ones((size_input, size_output))"
   ]
  },
  {
   "cell_type": "code",
   "execution_count": 10,
   "metadata": {
    "colab": {
     "base_uri": "https://localhost:8080/"
    },
    "id": "QowAQW9cOvUI",
    "outputId": "a303f664-702c-486b-b0a5-2dd890eeffc7"
   },
   "outputs": [
    {
     "name": "stdout",
     "output_type": "stream",
     "text": [
      "size of the weight : (784, 5)\n"
     ]
    }
   ],
   "source": [
    "print('size of the weight :', weight.shape)"
   ]
  },
  {
   "cell_type": "markdown",
   "metadata": {
    "id": "OtnG3QIJOvUJ"
   },
   "source": [
    "## define neural network "
   ]
  },
  {
   "cell_type": "markdown",
   "metadata": {
    "id": "m9z7wkB6OvUJ"
   },
   "source": [
    "### define softmax function "
   ]
  },
  {
   "cell_type": "markdown",
   "metadata": {
    "id": "_XcVPBydOvUJ"
   },
   "source": [
    "- input : number of data $\\times$ number of classes\n",
    "- output : number of data $\\times$ number of classes"
   ]
  },
  {
   "cell_type": "code",
   "execution_count": 11,
   "metadata": {
    "id": "I3dvudG5OvUJ"
   },
   "outputs": [],
   "source": [
    "def activation_softmax(input):\n",
    "\n",
    "# ================================================== \n",
    "# fill up the blank\n",
    "#\n",
    "# 10000, 5 shape\n",
    "    # apply exp calculation to all elements\n",
    "    exp_input = np.exp(input)\n",
    "    # Sum the rows and take the reciprocal of all elements & reshape to make broadcast calculation possible\n",
    "    exp_input_rowsum = np.reciprocal(exp_input.sum(axis=1)).reshape(input.shape[0], 1)\n",
    "    # broadcast calculation of numpy\n",
    "    output = exp_input * exp_input_rowsum\n",
    "#\n",
    "# ================================================== \n",
    "\n",
    "    return output "
   ]
  },
  {
   "cell_type": "code",
   "execution_count": 13,
   "metadata": {
    "id": "_AMo4byK_jsg"
   },
   "outputs": [],
   "source": [
    "# temp = np.array([[1,2,3,4,5],[1,2,7,4,5],[1,9,3,4,5],[1,11,3,4,5]])\n",
    "# print(activation_softmax(temp))\n",
    "# print(activation_softmax(temp).sum(axis=1))\n",
    "\n",
    "# print(vec_x_train[0])"
   ]
  },
  {
   "cell_type": "markdown",
   "metadata": {
    "id": "svsPZ-2xOvUJ"
   },
   "source": [
    "### define the layer"
   ]
  },
  {
   "cell_type": "markdown",
   "metadata": {
    "id": "squWOsKOOvUK"
   },
   "source": [
    "- input : number of data $\\times$ length of data\n",
    "- weight : length of data $\\times$ number of classes\n",
    "- output : number of data $\\times$  number of classes"
   ]
  },
  {
   "cell_type": "code",
   "execution_count": 14,
   "metadata": {
    "id": "hiTvrkVsOvUK"
   },
   "outputs": [],
   "source": [
    "def layer_fully_connected(input, weight):\n",
    "\n",
    "# ================================================== \n",
    "# fill up the blank\n",
    "# input : ( 10000, 784) / weight: ( 784, 5) / output: ( 10000, 5)\n",
    "    \n",
    "    output = input.dot(weight)\n",
    "\n",
    "#\n",
    "# ================================================== \n",
    "\n",
    "    return output"
   ]
  },
  {
   "cell_type": "markdown",
   "metadata": {
    "id": "Oct_Iy5jOvUK"
   },
   "source": [
    "## define forward propagation"
   ]
  },
  {
   "cell_type": "markdown",
   "metadata": {
    "id": "qdrc7l4gOvUK"
   },
   "source": [
    "- input : number of data $\\times$ length of data\n",
    "- weight : length of data $\\times$ number of classes\n",
    "- prediction : number of data $\\times$  number of classes"
   ]
  },
  {
   "cell_type": "code",
   "execution_count": 15,
   "metadata": {
    "id": "_MKK0NUkOvUK"
   },
   "outputs": [],
   "source": [
    "def compute_prediction(input, weight):\n",
    "\n",
    "# ================================================== \n",
    "# fill up the blank\n",
    "# fully-connected Layer -> softmax \n",
    "\n",
    "    fully = layer_fully_connected(input, weight)\n",
    "    # print(fully.shape)\n",
    "    # print(fully)\n",
    "    \n",
    "    prediction = activation_softmax(fully)\n",
    "\n",
    "#\n",
    "# ================================================== \n",
    "    \n",
    "    return prediction "
   ]
  },
  {
   "cell_type": "code",
   "execution_count": 16,
   "metadata": {
    "id": "4D__O4dP-R2n"
   },
   "outputs": [],
   "source": [
    "# print(vec_x_train.shape, weight.shape)\n",
    "# print(vec_x_test)\n",
    "# print(np.ones((784,5)))\n",
    "# print(compute_prediction(vec_x_test, np.ones((784,5))))\n",
    "\n"
   ]
  },
  {
   "cell_type": "markdown",
   "metadata": {
    "id": "n9Xidk40OvUK"
   },
   "source": [
    "## define the loss function"
   ]
  },
  {
   "cell_type": "markdown",
   "metadata": {
    "id": "XyQPLXmIOvUK"
   },
   "source": [
    "- cross entropy between the ground truth and the prediction\n",
    "- cross entropy : $- \\sum_k y_k \\log(h_k)$\n",
    "  - $y_k$ : $k$-th element in grount truth\n",
    "  - $h_k$ : $k$-th element in prediction\n",
    "- prediction : number of data $\\times$  number of classes\n",
    "- label : number of data $\\times$  number of classes\n",
    "- loss : number of data $\\times$ 1 "
   ]
  },
  {
   "cell_type": "code",
   "execution_count": 17,
   "metadata": {
    "id": "TcXEyvweOvUL"
   },
   "outputs": [],
   "source": [
    "def compute_loss(prediction, label):\n",
    "\n",
    "# ================================================== \n",
    "# fill up the blank\n",
    "#\n",
    "    # parameters have (10000, 5) shape\n",
    "    temp_pred = prediction + 1e-20\n",
    "    temp_pred = -np.log(temp_pred)\n",
    "    # element-wise multiplication\n",
    "    # The loss value from each of the train Image. so the shape bacame (10000, 1)\n",
    "    each_loss = (temp_pred * label).sum(axis = 1)\n",
    "    loss = each_loss.reshape(prediction.shape[0],1)\n",
    "\n",
    "#\n",
    "# ================================================== \n",
    "\n",
    "    return loss"
   ]
  },
  {
   "cell_type": "markdown",
   "metadata": {
    "id": "YNLuGrhKOvUL"
   },
   "source": [
    "## compute the accuracy"
   ]
  },
  {
   "cell_type": "markdown",
   "metadata": {
    "id": "OSmSHUDbOvUL"
   },
   "source": [
    "- prediction : number of data $\\times$  number of classes\n",
    "- label : number of data $\\times$  number of classes\n",
    "- accuracy : scalar\n",
    "- note that iterations over the input data are not allowed inside the function"
   ]
  },
  {
   "cell_type": "code",
   "execution_count": 18,
   "metadata": {
    "id": "JezbuvfaOvUL"
   },
   "outputs": [],
   "source": [
    "def compute_accuracy(prediction, label):\n",
    "\n",
    "# ================================================== \n",
    "# fill up the blank\n",
    "#\n",
    "    num_data = prediction.shape[0]\n",
    "    pred_max = np.argmax(prediction, axis=1)\n",
    "    label_max = np.argmax(label ,axis=1)\n",
    "    accuracy = np.sum(pred_max == label_max) / num_data\n",
    "\n",
    "#\n",
    "# ================================================== \n",
    "\n",
    "    return accuracy"
   ]
  },
  {
   "cell_type": "markdown",
   "metadata": {
    "id": "Y--LylZ_OvUL"
   },
   "source": [
    "## compute the gradient with respect to the weights"
   ]
  },
  {
   "cell_type": "markdown",
   "metadata": {
    "id": "WSsKnJPBOvUL"
   },
   "source": [
    "- note that iterations over the input data are not allowed inside the function\n",
    "- input : number of data $\\times$ length of data\n",
    "- label : number of data $\\times$ number of classes\n",
    "- prediction : number of data $\\times$  number of classes\n",
    "- gradient : length of data $\\times$ number of classes"
   ]
  },
  {
   "cell_type": "code",
   "execution_count": 19,
   "metadata": {
    "id": "jETm_xYZOvUL"
   },
   "outputs": [],
   "source": [
    "def compute_gradient_weight(input, label, prediction):\n",
    "\n",
    "# ================================================== \n",
    "# fill up the blank\n",
    "#\n",
    "# input: (10000, 784) \n",
    "# label, prediction: (10000, 5)\n",
    "    #(784, 5)\n",
    "    gradient = (input.T).dot(prediction - label) / input.shape[0]\n",
    "\n",
    "#\n",
    "# ================================================== \n",
    "\n",
    "    return gradient"
   ]
  },
  {
   "cell_type": "markdown",
   "metadata": {
    "id": "ZZgV8yPcOvUM"
   },
   "source": [
    "## gradient descent algorithm"
   ]
  },
  {
   "cell_type": "markdown",
   "metadata": {
    "id": "5hYrNgGnOvUM"
   },
   "source": [
    "- hyper-parameters"
   ]
  },
  {
   "cell_type": "code",
   "execution_count": 20,
   "metadata": {
    "id": "03fXO6JAOvUM",
    "tags": []
   },
   "outputs": [],
   "source": [
    "number_iteration    = 1000\n",
    "learning_rate       = 0.05\n",
    "weight              = weight * 0.001"
   ]
  },
  {
   "cell_type": "markdown",
   "metadata": {
    "id": "5NW6RN2TOvUM"
   },
   "source": [
    "## variables for storing intermediate results"
   ]
  },
  {
   "cell_type": "code",
   "execution_count": 21,
   "metadata": {
    "id": "l70WxYOvOvUM"
   },
   "outputs": [],
   "source": [
    "accuracy_train  = np.zeros(number_iteration)\n",
    "accuracy_test   = np.zeros(number_iteration)\n",
    "\n",
    "loss_train_mean = np.zeros(number_iteration)\n",
    "loss_train_std  = np.zeros(number_iteration)\n",
    "loss_test_mean  = np.zeros(number_iteration)\n",
    "loss_test_std   = np.zeros(number_iteration)\n",
    "\n",
    "prediction_train_mean = np.zeros((number_class, number_iteration))\n",
    "prediction_test_mean  = np.zeros((number_class, number_iteration))"
   ]
  },
  {
   "cell_type": "markdown",
   "metadata": {
    "id": "OAlsCk-4OvUM"
   },
   "source": [
    "## run the gradient descent algorithm"
   ]
  },
  {
   "cell_type": "code",
   "execution_count": 22,
   "metadata": {
    "colab": {
     "base_uri": "https://localhost:8080/"
    },
    "id": "Vc4pUtiuOvUM",
    "outputId": "49024382-2a21-4f4d-a5c7-6e73ca0d9256"
   },
   "outputs": [
    {
     "name": "stderr",
     "output_type": "stream",
     "text": [
      "100%|██████████| 1000/1000 [01:13<00:00, 13.67it/s]\n"
     ]
    }
   ],
   "source": [
    "for i in tqdm(range(number_iteration)):\n",
    "\n",
    "# ================================================== \n",
    "# fill up the blank\n",
    "#\n",
    "\n",
    "    # (10000, 5)\n",
    "    pred_train = compute_prediction(vec_x_train, weight)\n",
    "    # print(vec_x_train[10])\n",
    "    # ( 4500, 5)\n",
    "    pred_test = compute_prediction(vec_x_test, weight)\n",
    "  \n",
    "    # accuracy (Scalar value)\n",
    "    accr_train = compute_accuracy(pred_train, y_train)\n",
    "    # print(accr_train)\n",
    "    accr_test = compute_accuracy(pred_test, y_test)\n",
    "\n",
    "    # (10000, 1)\n",
    "    loss_train = compute_loss(pred_train, y_train)\n",
    "    # (4500, 1)\n",
    "    loss_test = compute_loss(pred_test, y_test)\n",
    "    \n",
    "    weight = weight - learning_rate * compute_gradient_weight(vec_x_train, y_train, pred_train)\n",
    "\n",
    "#\n",
    "# ================================================== \n",
    "\n",
    "    accuracy_train[i]   = accr_train\n",
    "    accuracy_test[i]    = accr_test\n",
    "    \n",
    "    loss_train_mean[i]  = np.mean(loss_train.reshape(1, 10000))\n",
    "    loss_train_std[i]   = np.std(loss_train.reshape(1, 10000))\n",
    "    loss_test_mean[i]   = np.mean(loss_test.reshape(1, 4500))\n",
    "    loss_test_std[i]    = np.std(loss_test.reshape(1, 4500))\n",
    "\n",
    "    for c in range(number_class):\n",
    "\n",
    "       prediction_train_mean[c, i]   = np.mean(pred_train.sum(axis = 0)[c])\n",
    "       prediction_test_mean[c, i]    = np.mean(pred_test.sum(axis = 0)[c])"
   ]
  },
  {
   "cell_type": "markdown",
   "metadata": {
    "id": "yqHQeMQROvUN"
   },
   "source": [
    "---"
   ]
  },
  {
   "cell_type": "markdown",
   "metadata": {
    "id": "6vWUAt99OvUN"
   },
   "source": [
    "## functions for presenting the results"
   ]
  },
  {
   "cell_type": "markdown",
   "metadata": {
    "id": "zVekx3cTOvUN"
   },
   "source": [
    "---"
   ]
  },
  {
   "cell_type": "code",
   "execution_count": 23,
   "metadata": {
    "id": "SgAEDlduOvUN"
   },
   "outputs": [],
   "source": [
    "def function_result_01():\n",
    "\n",
    "    title           = 'loss (training)'\n",
    "    label_axis_x    = 'iteration' \n",
    "    label_axis_y    = 'loss'\n",
    "    color_mean      = 'red'\n",
    "    color_std       = 'blue'\n",
    "    alpha           = 0.3\n",
    "\n",
    "    plt.figure(figsize=(8, 6))\n",
    "    plt.title(title)\n",
    "\n",
    "    plt.plot(range(len(loss_train_mean)), loss_train_mean, '-', color = color_mean)\n",
    "    plt.fill_between(range(len(loss_train_mean)), loss_train_mean - loss_train_std, loss_train_mean + loss_train_std, facecolor = color_std, alpha = alpha) \n",
    "    \n",
    "    plt.xlabel(label_axis_x)\n",
    "    plt.ylabel(label_axis_y)\n",
    "\n",
    "    plt.tight_layout()\n",
    "    plt.show()"
   ]
  },
  {
   "cell_type": "code",
   "execution_count": 24,
   "metadata": {
    "id": "NaT5AytzOvUN"
   },
   "outputs": [],
   "source": [
    "def function_result_02():\n",
    "\n",
    "    title           = 'loss (testing)'\n",
    "    label_axis_x    = 'iteration' \n",
    "    label_axis_y    = 'loss'\n",
    "    color_mean      = 'red'\n",
    "    color_std       = 'blue'\n",
    "    alpha           = 0.3\n",
    "\n",
    "    plt.figure(figsize=(8, 6))\n",
    "    plt.title(title)\n",
    "\n",
    "    plt.plot(range(len(loss_test_mean)), loss_test_mean, '-', color = color_mean)\n",
    "    plt.fill_between(range(len(loss_test_mean)), loss_test_mean - loss_test_std, loss_test_mean + loss_test_std, facecolor = color_std, alpha = alpha) \n",
    "    \n",
    "    plt.xlabel(label_axis_x)\n",
    "    plt.ylabel(label_axis_y)\n",
    "\n",
    "    plt.tight_layout()\n",
    "    plt.show()"
   ]
  },
  {
   "cell_type": "code",
   "execution_count": 25,
   "metadata": {
    "id": "PMhJAg-HOvUN"
   },
   "outputs": [],
   "source": [
    "def function_result_03():\n",
    "\n",
    "    title           = 'accuracy (training)'\n",
    "    label_axis_x    = 'iteration' \n",
    "    label_axis_y    = 'accuracy'\n",
    "\n",
    "    plt.figure(figsize=(8, 6))\n",
    "    plt.title(title)\n",
    "\n",
    "    plt.plot(range(len(accuracy_train)), accuracy_train, '-', color = 'red')\n",
    "    \n",
    "    plt.xlabel(label_axis_x)\n",
    "    plt.ylabel(label_axis_y)\n",
    "\n",
    "    plt.tight_layout()\n",
    "    plt.show()"
   ]
  },
  {
   "cell_type": "code",
   "execution_count": 26,
   "metadata": {
    "id": "iNz-XtLGOvUN"
   },
   "outputs": [],
   "source": [
    "def function_result_04():\n",
    "\n",
    "    title           = 'accuracy (testing)'\n",
    "    label_axis_x    = 'iteration' \n",
    "    label_axis_y    = 'accuracy'\n",
    "\n",
    "    plt.figure(figsize=(8, 6))\n",
    "    plt.title(title)\n",
    "\n",
    "    plt.plot(range(len(accuracy_test)), accuracy_test, '-', color = 'red')\n",
    "    \n",
    "    plt.xlabel(label_axis_x)\n",
    "    plt.ylabel(label_axis_y)\n",
    "\n",
    "    plt.tight_layout()\n",
    "    plt.show()"
   ]
  },
  {
   "cell_type": "code",
   "execution_count": 27,
   "metadata": {
    "id": "n_rRdAJyOvUO"
   },
   "outputs": [],
   "source": [
    "def function_result_05():\n",
    "    \n",
    "    title           = 'prediction (training)'\n",
    "    label_axis_x    = 'iteration' \n",
    "    label_axis_y    = 'prediction'\n",
    "\n",
    "    plt.figure(figsize=(8, 6))\n",
    "    plt.title(title)\n",
    "\n",
    "    for c in range(number_class):\n",
    "\n",
    "        plt.plot(prediction_train_mean[c], '-', label=str(c))\n",
    "    \n",
    "    plt.xlabel(label_axis_x)\n",
    "    plt.ylabel(label_axis_y)\n",
    "    plt.legend()\n",
    "    \n",
    "    plt.tight_layout()\n",
    "    plt.show()"
   ]
  },
  {
   "cell_type": "code",
   "execution_count": 28,
   "metadata": {
    "id": "KAGRcfq7OvUO"
   },
   "outputs": [],
   "source": [
    "def function_result_06():\n",
    "    \n",
    "    title           = 'prediction (testing)'\n",
    "    label_axis_x    = 'iteration' \n",
    "    label_axis_y    = 'prediction'\n",
    "\n",
    "    plt.figure(figsize=(8, 6))\n",
    "    plt.title(title)\n",
    "\n",
    "    for c in range(number_class):\n",
    "\n",
    "        plt.plot(prediction_test_mean[c], '-', label=str(c))\n",
    "    \n",
    "    plt.xlabel(label_axis_x)\n",
    "    plt.ylabel(label_axis_y)\n",
    "    plt.legend()\n",
    "    \n",
    "    plt.tight_layout()\n",
    "    plt.show()"
   ]
  },
  {
   "cell_type": "code",
   "execution_count": 29,
   "metadata": {
    "id": "YELFHBCWOvUO"
   },
   "outputs": [],
   "source": [
    "def function_result_07():\n",
    "\n",
    "    print('final training loss = %6.5f' % (loss_train_mean[-1]))"
   ]
  },
  {
   "cell_type": "code",
   "execution_count": 30,
   "metadata": {
    "id": "7DK0PMxUOvUO"
   },
   "outputs": [],
   "source": [
    "def function_result_08():\n",
    "\n",
    "    print('final testing loss = %6.5f' % (loss_test_mean[-1]))"
   ]
  },
  {
   "cell_type": "code",
   "execution_count": 31,
   "metadata": {
    "id": "9pxqkEEqOvUO"
   },
   "outputs": [],
   "source": [
    "def function_result_09():\n",
    "\n",
    "    print('final training accuracy = %6.5f' % (accuracy_train[-1]))"
   ]
  },
  {
   "cell_type": "code",
   "execution_count": 32,
   "metadata": {
    "id": "3HiE3Mb7OvUO"
   },
   "outputs": [],
   "source": [
    "def function_result_10():\n",
    "\n",
    "    print('final testing accuracy = %6.5f' % (accuracy_test[-1]))"
   ]
  },
  {
   "cell_type": "markdown",
   "metadata": {
    "id": "rbxr_1ZAOvUO"
   },
   "source": [
    "---"
   ]
  },
  {
   "cell_type": "markdown",
   "metadata": {
    "id": "IxZ2SXD_OvUP"
   },
   "source": [
    "## results "
   ]
  },
  {
   "cell_type": "markdown",
   "metadata": {
    "id": "x_iku3BqOvUP"
   },
   "source": [
    "---"
   ]
  },
  {
   "cell_type": "code",
   "execution_count": 33,
   "metadata": {
    "colab": {
     "base_uri": "https://localhost:8080/",
     "height": 1000
    },
    "id": "11FT6cXDOvUP",
    "outputId": "a1e8f767-70e6-4ca2-e802-01a53cb12434"
   },
   "outputs": [
    {
     "name": "stdout",
     "output_type": "stream",
     "text": [
      "\n",
      "################################################################################\n",
      "#\n",
      "# RESULT # 01\n",
      "#\n",
      "################################################################################\n",
      "\n"
     ]
    },
    {
     "data": {
      "image/png": "[encoded data removed]",
      "text/plain": [
       "<Figure size 576x432 with 1 Axes>"
      ]
     },
     "metadata": {
      "needs_background": "light"
     },
     "output_type": "display_data"
    },
    {
     "name": "stdout",
     "output_type": "stream",
     "text": [
      "\n",
      "################################################################################\n",
      "#\n",
      "# RESULT # 02\n",
      "#\n",
      "################################################################################\n",
      "\n"
     ]
    },
    {
     "data": {
      "image/png": "[encoded data removed]",
      "text/plain": [
       "<Figure size 576x432 with 1 Axes>"
      ]
     },
     "metadata": {
      "needs_background": "light"
     },
     "output_type": "display_data"
    },
    {
     "name": "stdout",
     "output_type": "stream",
     "text": [
      "\n",
      "################################################################################\n",
      "#\n",
      "# RESULT # 03\n",
      "#\n",
      "################################################################################\n",
      "\n"
     ]
    },
    {
     "data": {
      "image/png": "[encoded data removed]",
      "text/plain": [
       "<Figure size 576x432 with 1 Axes>"
      ]
     },
     "metadata": {
      "needs_background": "light"
     },
     "output_type": "display_data"
    },
    {
     "name": "stdout",
     "output_type": "stream",
     "text": [
      "\n",
      "################################################################################\n",
      "#\n",
      "# RESULT # 04\n",
      "#\n",
      "################################################################################\n",
      "\n"
     ]
    },
    {
     "data": {
      "image/png": "[encoded data removed]",
      "text/plain": [
       "<Figure size 576x432 with 1 Axes>"
      ]
     },
     "metadata": {
      "needs_background": "light"
     },
     "output_type": "display_data"
    },
    {
     "name": "stdout",
     "output_type": "stream",
     "text": [
      "\n",
      "################################################################################\n",
      "#\n",
      "# RESULT # 05\n",
      "#\n",
      "################################################################################\n",
      "\n"
     ]
    },
    {
     "data": {
      "image/png": "[encoded data removed]",
      "text/plain": [
       "<Figure size 576x432 with 1 Axes>"
      ]
     },
     "metadata": {
      "needs_background": "light"
     },
     "output_type": "display_data"
    },
    {
     "name": "stdout",
     "output_type": "stream",
     "text": [
      "\n",
      "################################################################################\n",
      "#\n",
      "# RESULT # 06\n",
      "#\n",
      "################################################################################\n",
      "\n"
     ]
    },
    {
     "data": {
      "image/png": "[encoded data removed]",
      "text/plain": [
       "<Figure size 576x432 with 1 Axes>"
      ]
     },
     "metadata": {
      "needs_background": "light"
     },
     "output_type": "display_data"
    },
    {
     "name": "stdout",
     "output_type": "stream",
     "text": [
      "\n",
      "################################################################################\n",
      "#\n",
      "# RESULT # 07\n",
      "#\n",
      "################################################################################\n",
      "\n",
      "final training loss = 0.13488\n",
      "\n",
      "################################################################################\n",
      "#\n",
      "# RESULT # 08\n",
      "#\n",
      "################################################################################\n",
      "\n",
      "final testing loss = 0.11649\n",
      "\n",
      "################################################################################\n",
      "#\n",
      "# RESULT # 09\n",
      "#\n",
      "################################################################################\n",
      "\n",
      "final training accuracy = 0.96310\n",
      "\n",
      "################################################################################\n",
      "#\n",
      "# RESULT # 10\n",
      "#\n",
      "################################################################################\n",
      "\n",
      "final testing accuracy = 0.97089\n"
     ]
    }
   ],
   "source": [
    "number_result = 10 \n",
    "\n",
    "for i in range(number_result):\n",
    "\n",
    "    title           = '# RESULT # {:02d}'.format(i+1) \n",
    "    name_function   = 'function_result_{:02d}()'.format(i+1)\n",
    "\n",
    "    print('') \n",
    "    print('################################################################################')\n",
    "    print('#') \n",
    "    print(title)\n",
    "    print('#') \n",
    "    print('################################################################################')\n",
    "    print('') \n",
    "\n",
    "    eval(name_function)"
   ]
  },
  {
   "cell_type": "code",
   "execution_count": null,
   "metadata": {},
   "outputs": [],
   "source": []
  }
 ],
 "metadata": {
  "colab": {
   "provenance": []
  },
  "interpreter": {
   "hash": "40d3a090f54c6569ab1632332b64b2c03c39dcf918b08424e98f38b5ae0af88f"
  },
  "kernelspec": {
   "display_name": "Python 3 (ipykernel)",
   "language": "python",
   "name": "python3"
  },
  "language_info": {
   "codemirror_mode": {
    "name": "ipython",
    "version": 3
   },
   "file_extension": ".py",
   "mimetype": "text/x-python",
   "name": "python",
   "nbconvert_exporter": "python",
   "pygments_lexer": "ipython3",
   "version": "3.8.2"
  },
  "metadata": {
   "interpreter": {
    "hash": "31f2aee4e71d21fbe5cf8b01ff0e069b9275f58929596ceb00d14d90e3e16cd6"
   }
  }
 },
 "nbformat": 4,
 "nbformat_minor": 1
}
