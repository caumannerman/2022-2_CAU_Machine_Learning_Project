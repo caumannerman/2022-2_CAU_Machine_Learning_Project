{
  "cells": [
    {
      "cell_type": "markdown",
      "metadata": {
        "id": "QgJrLwVIYvVE"
      },
      "source": [
        "# A neural network for a binary classification"
      ]
    },
    {
      "cell_type": "markdown",
      "metadata": {
        "id": "YJomYgqIYvVF"
      },
      "source": [
        "## import library"
      ]
    },
    {
      "cell_type": "code",
      "execution_count": 52,
      "metadata": {
        "id": "_9nOU20_YvVF"
      },
      "outputs": [],
      "source": [
        "import numpy as np\n",
        "import matplotlib.image as img\n",
        "import matplotlib.pyplot as plt\n",
        "import matplotlib.colors as colors\n",
        "from matplotlib import ticker, cm\n",
        "import os\n",
        "from tqdm import tqdm"
      ]
    },
    {
      "cell_type": "markdown",
      "metadata": {
        "id": "sdZJ6glHYvVF"
      },
      "source": [
        "## load data"
      ]
    },
    {
      "cell_type": "code",
      "execution_count": 53,
      "metadata": {
        "id": "gGQL-jKLYvVG"
      },
      "outputs": [],
      "source": [
        "directory_data  = './sample_data/'\n",
        "filename_data   = 'assignment_03_data.npz'\n",
        "path_data       = os.path.join(directory_data, filename_data) \n",
        "data            = np.load(path_data)\n",
        "\n",
        "x_train = data['x_train']\n",
        "y_train = data['y_train']\n",
        "\n",
        "x_test  = data['x_test']\n",
        "y_test  = data['y_test']"
      ]
    },
    {
      "cell_type": "code",
      "execution_count": 54,
      "metadata": {
        "colab": {
          "base_uri": "https://localhost:8080/"
        },
        "id": "U8Rd8WIEYvVG",
        "outputId": "f3ff5b5f-a6da-4b29-8741-a80b6d173d1d"
      },
      "outputs": [
        {
          "output_type": "stream",
          "name": "stdout",
          "text": [
            "*************************************************\n",
            "size of x_train : (10000, 28, 28)\n",
            "size of y_train : (10000,)\n",
            "*************************************************\n",
            "size of x_test : (1800, 28, 28)\n",
            "size of y_test : (1800,)\n",
            "*************************************************\n",
            "number of training image : 10000\n",
            "height of training image : 28\n",
            "width of training image : 28\n",
            "*************************************************\n",
            "number of testing image : 1800\n",
            "height of testing image : 28\n",
            "width of testing image : 28\n",
            "*************************************************\n"
          ]
        }
      ],
      "source": [
        "print('*************************************************')\n",
        "print('size of x_train :', x_train.shape)\n",
        "print('size of y_train :', y_train.shape)\n",
        "print('*************************************************')\n",
        "print('size of x_test :', x_test.shape)\n",
        "print('size of y_test :', y_test.shape)\n",
        "print('*************************************************')\n",
        "print('number of training image :', x_train.shape[0])\n",
        "print('height of training image :', x_train.shape[1])\n",
        "print('width of training image :', x_train.shape[2])\n",
        "print('*************************************************')\n",
        "print('number of testing image :', x_test.shape[0])\n",
        "print('height of testing image :', x_test.shape[1])\n",
        "print('width of testing image :', x_test.shape[2])\n",
        "print('*************************************************')"
      ]
    },
    {
      "cell_type": "markdown",
      "metadata": {
        "id": "qjq1dG4CYvVH"
      },
      "source": [
        "## convert data into numpy array"
      ]
    },
    {
      "cell_type": "code",
      "source": [
        "print(type(x_train), type(x_test))"
      ],
      "metadata": {
        "colab": {
          "base_uri": "https://localhost:8080/"
        },
        "id": "yWbZ0n8LmfiX",
        "outputId": "1a69c3e4-1671-49ae-bef1-b9b2440d3e86"
      },
      "execution_count": 55,
      "outputs": [
        {
          "output_type": "stream",
          "name": "stdout",
          "text": [
            "<class 'numpy.ndarray'> <class 'numpy.ndarray'>\n"
          ]
        }
      ]
    },
    {
      "cell_type": "code",
      "execution_count": 56,
      "metadata": {
        "id": "Zv0_K1gSYvVH"
      },
      "outputs": [],
      "source": [
        "x_train = np.asarray(x_train)\n",
        "y_train = np.asarray(y_train)\n",
        "\n",
        "x_test  = np.asarray(x_test)\n",
        "y_test  = np.asarray(y_test)"
      ]
    },
    {
      "cell_type": "code",
      "source": [
        "print(type(x_train))"
      ],
      "metadata": {
        "colab": {
          "base_uri": "https://localhost:8080/"
        },
        "id": "cPANY4Y9mmhO",
        "outputId": "a44dba81-8e85-414d-ab79-7cb91d82c088"
      },
      "execution_count": 57,
      "outputs": [
        {
          "output_type": "stream",
          "name": "stdout",
          "text": [
            "<class 'numpy.ndarray'>\n"
          ]
        }
      ]
    },
    {
      "cell_type": "markdown",
      "metadata": {
        "id": "wVm3jkkZYvVH"
      },
      "source": [
        "## plot grey image"
      ]
    },
    {
      "cell_type": "code",
      "execution_count": 58,
      "metadata": {
        "id": "FHVqbzEZYvVH"
      },
      "outputs": [],
      "source": [
        "def plot_image(title, data):\n",
        "\n",
        "    nRow = 2\n",
        "    nCol = 4\n",
        "    size = 4\n",
        "    \n",
        "    fig, axes = plt.subplots(nRow, nCol, figsize=(size * nCol, size * nRow))\n",
        "    fig.suptitle(title, fontsize=16)\n",
        "    \n",
        "    for i in range(nRow):\n",
        "        for j in range(nCol):\n",
        "\n",
        "            k = i * nCol + j\n",
        "            axes[i, j].imshow(data[k], cmap='gray', vmin=0, vmax=1)\n",
        "\n",
        "    plt.tight_layout()\n",
        "    plt.show()"
      ]
    },
    {
      "cell_type": "code",
      "execution_count": 59,
      "metadata": {
        "colab": {
          "base_uri": "https://localhost:8080/",
          "height": 534
        },
        "id": "MWvlsDz6YvVI",
        "outputId": "fc2da1aa-100d-4423-fe8b-7483019804fd"
      },
      "outputs": [
        {
          "output_type": "display_data",
          "data": {
            "text/plain": [
              "<Figure size 1152x576 with 8 Axes>"
            ],
            "image/png": "[encoded data removed]"
          },
          "metadata": {
            "needs_background": "light"
          }
        }
      ],
      "source": [
        "plot_image('training image for 0', x_train)"
      ]
    },
    {
      "cell_type": "code",
      "execution_count": 60,
      "metadata": {
        "colab": {
          "base_uri": "https://localhost:8080/",
          "height": 534
        },
        "id": "Z0XhRvE6YvVI",
        "outputId": "551dd56d-644e-4bf3-e246-26fb71222519"
      },
      "outputs": [
        {
          "output_type": "display_data",
          "data": {
            "text/plain": [
              "<Figure size 1152x576 with 8 Axes>"
            ],
            "image/png": "[encoded data removed]"
          },
          "metadata": {
            "needs_background": "light"
          }
        }
      ],
      "source": [
        "plot_image('training image for 1', x_train[5000:,:,:])"
      ]
    },
    {
      "cell_type": "code",
      "execution_count": 61,
      "metadata": {
        "colab": {
          "base_uri": "https://localhost:8080/",
          "height": 534
        },
        "id": "-2uthRYnYvVI",
        "outputId": "312d5ff8-e591-458d-a2b7-f77ae0b1edc9"
      },
      "outputs": [
        {
          "output_type": "display_data",
          "data": {
            "text/plain": [
              "<Figure size 1152x576 with 8 Axes>"
            ],
            "image/png": "[encoded data removed]"
          },
          "metadata": {
            "needs_background": "light"
          }
        }
      ],
      "source": [
        "plot_image('testing image for 0', x_test)"
      ]
    },
    {
      "cell_type": "code",
      "execution_count": 62,
      "metadata": {
        "colab": {
          "base_uri": "https://localhost:8080/",
          "height": 534
        },
        "id": "7PaI_Er9YvVI",
        "outputId": "e8c79f8d-1968-4212-f464-46a73653b0cc"
      },
      "outputs": [
        {
          "output_type": "display_data",
          "data": {
            "text/plain": [
              "<Figure size 1152x576 with 8 Axes>"
            ],
            "image/png": "[encoded data removed]"
          },
          "metadata": {
            "needs_background": "light"
          }
        }
      ],
      "source": [
        "plot_image('testing image for 1', x_test[900:])"
      ]
    },
    {
      "cell_type": "markdown",
      "metadata": {
        "id": "27lga6-wYvVI"
      },
      "source": [
        "## reshape input data"
      ]
    },
    {
      "cell_type": "markdown",
      "metadata": {
        "id": "c4-8itnbYvVJ"
      },
      "source": [
        "- vectorize input image matrices into vectors (row-major order)"
      ]
    },
    {
      "cell_type": "code",
      "execution_count": 63,
      "metadata": {
        "id": "lH7hVaflYvVJ"
      },
      "outputs": [],
      "source": [
        "vec_x_train = x_train.reshape(x_train.shape[0], x_train.shape[1] * x_train.shape[2])\n",
        "vec_x_test  = x_test.reshape(x_test.shape[0], x_test.shape[1] * x_test.shape[2])"
      ]
    },
    {
      "cell_type": "code",
      "execution_count": 64,
      "metadata": {
        "colab": {
          "base_uri": "https://localhost:8080/"
        },
        "id": "EAKgJUPoYvVJ",
        "outputId": "32359c43-a6f7-4e14-afd5-0eed050565ab"
      },
      "outputs": [
        {
          "output_type": "stream",
          "name": "stdout",
          "text": [
            "size of training input : (10000, 784)\n",
            "size of training output : (10000,)\n",
            "size of testing input : (1800, 784)\n",
            "size of testing output : (1800,)\n"
          ]
        }
      ],
      "source": [
        "print('size of training input :', vec_x_train.shape)\n",
        "print('size of training output :', y_train.shape)\n",
        "\n",
        "print('size of testing input :', vec_x_test.shape)\n",
        "print('size of testing output :', y_test.shape)"
      ]
    },
    {
      "cell_type": "code",
      "execution_count": 65,
      "metadata": {
        "id": "c71iCXbeYvVJ"
      },
      "outputs": [],
      "source": [
        "# (10000, 784)에서 (784, 10000)으로  전치행렬화\n",
        "x_train = vec_x_train.transpose()\n",
        "x_test  = vec_x_test.transpose()\n",
        "\n",
        "length_data         = x_train.shape[0]\n",
        "number_data_train   = x_train.shape[1]\n",
        "number_data_test    = x_test.shape[1]\n",
        "\n",
        "y_train = y_train.reshape(1, number_data_train)\n",
        "y_test = y_test.reshape(1, number_data_test)"
      ]
    },
    {
      "cell_type": "code",
      "source": [
        "print(x_train[:, 0].shape)\n",
        "print(y_train.dtype)"
      ],
      "metadata": {
        "colab": {
          "base_uri": "https://localhost:8080/"
        },
        "id": "Zk51UqdErUCD",
        "outputId": "395975a3-6dec-47ae-b990-73c1d20626a4"
      },
      "execution_count": 66,
      "outputs": [
        {
          "output_type": "stream",
          "name": "stdout",
          "text": [
            "(784,)\n",
            "float64\n"
          ]
        }
      ]
    },
    {
      "cell_type": "code",
      "execution_count": 67,
      "metadata": {
        "colab": {
          "base_uri": "https://localhost:8080/"
        },
        "id": "NM-2xOSDYvVK",
        "outputId": "3210c1eb-9eba-4e8a-f075-ffce4e93a469"
      },
      "outputs": [
        {
          "output_type": "stream",
          "name": "stdout",
          "text": [
            "size of training input : (784, 10000)\n",
            "size of training output : (1, 10000)\n",
            "size of testing input : (784, 1800)\n",
            "size of testing output : (1, 1800)\n",
            "number of training data : 10000\n",
            "number of testing data : 1800\n"
          ]
        }
      ],
      "source": [
        "print('size of training input :', x_train.shape)\n",
        "print('size of training output :', y_train.shape)\n",
        "\n",
        "print('size of testing input :', x_test.shape)\n",
        "print('size of testing output :', y_test.shape)\n",
        "\n",
        "print('number of training data :', number_data_train)\n",
        "print('number of testing data :', number_data_test)"
      ]
    },
    {
      "cell_type": "markdown",
      "metadata": {
        "id": "KYtDuvnyYvVK"
      },
      "source": [
        "## reshape the ground truth"
      ]
    },
    {
      "cell_type": "code",
      "source": [
        "print( type(np.where(y_train == 0)))\n",
        "print( type(np.where(y_train == 0)[0]))\n",
        "print(np.where(y_train == 1)[0])\n",
        "print(np.where(y_train == 1)[1])"
      ],
      "metadata": {
        "colab": {
          "base_uri": "https://localhost:8080/"
        },
        "id": "pdxdN2Cxpihy",
        "outputId": "f3a1ea54-df08-4eb8-b712-82b08ee2f98f"
      },
      "execution_count": 68,
      "outputs": [
        {
          "output_type": "stream",
          "name": "stdout",
          "text": [
            "<class 'tuple'>\n",
            "<class 'numpy.ndarray'>\n",
            "[0 0 0 ... 0 0 0]\n",
            "[5000 5001 5002 ... 9997 9998 9999]\n"
          ]
        }
      ]
    },
    {
      "cell_type": "code",
      "execution_count": 69,
      "metadata": {
        "id": "zm4m5DT4YvVK"
      },
      "outputs": [],
      "source": [
        "# [0]을 해준 것은 위와 같이, np.where()이 조건을 만족하는 인덱스를 담은 ndarray를 0번 인덱스에 두고 튜플로 감싸 return해주기 때문\n",
        "index_train_0 = np.where(y_train == 0)[0]\n",
        "index_train_1 = np.where(y_train == 1)[0]\n",
        "\n",
        "index_test_0 = np.where(y_test == 0)[0]\n",
        "index_test_1 = np.where(y_test == 1)[0]"
      ]
    },
    {
      "cell_type": "code",
      "execution_count": 70,
      "metadata": {
        "colab": {
          "base_uri": "https://localhost:8080/"
        },
        "id": "e5HOjYLkYvVK",
        "outputId": "fdae8cfe-51ee-406d-af21-30589d6b9fe5"
      },
      "outputs": [
        {
          "output_type": "stream",
          "name": "stdout",
          "text": [
            "size of ground truth for 0 in the training : (5000,)\n",
            "size of ground truth for 1 in the training : (5000,)\n",
            "size of ground truth for 0 in the testing : (900,)\n",
            "size of ground truth for 1 in the testing : (900,)\n"
          ]
        }
      ],
      "source": [
        "print('size of ground truth for 0 in the training :', index_train_0.shape)\n",
        "print('size of ground truth for 1 in the training :', index_train_1.shape)\n",
        "\n",
        "print('size of ground truth for 0 in the testing :', index_test_0.shape)\n",
        "print('size of ground truth for 1 in the testing :', index_test_1.shape)"
      ]
    },
    {
      "cell_type": "markdown",
      "metadata": {
        "id": "z8a1GWEQYvVL"
      },
      "source": [
        "## initialize the neural network"
      ]
    },
    {
      "cell_type": "markdown",
      "metadata": {
        "id": "LJ3vxLCsYvVL"
      },
      "source": [
        "- neural network consists of fullly connected linear layer followed by sigmoid activation function\n",
        "- the size of the fully connected layer is input 784 and output 1"
      ]
    },
    {
      "cell_type": "markdown",
      "metadata": {
        "id": "5kYR8VZ3YvVL"
      },
      "source": [
        "## initialize the weights for the fully connected layer"
      ]
    },
    {
      "cell_type": "markdown",
      "metadata": {
        "id": "WIYB-7lOYvVL"
      },
      "source": [
        "- create one matrix for the weights"
      ]
    },
    {
      "cell_type": "code",
      "execution_count": 71,
      "metadata": {
        "id": "4mOIsyGRYvVL"
      },
      "outputs": [],
      "source": [
        "#784\n",
        "size_input  = length_data \n",
        "size_output = 1\n",
        "# input으로 (,784)의 이미지가 10000개 들어오므로, weight는 (1,784)의 shape를 가져야한다\n",
        "weight = np.ones((size_output, size_input))"
      ]
    },
    {
      "cell_type": "code",
      "execution_count": 72,
      "metadata": {
        "colab": {
          "base_uri": "https://localhost:8080/"
        },
        "id": "nOAvRm5jYvVL",
        "outputId": "07b6e46a-4c99-4f00-bc7c-8d3e06b3f262"
      },
      "outputs": [
        {
          "output_type": "stream",
          "name": "stdout",
          "text": [
            "size of the weight : (1, 784)\n"
          ]
        }
      ],
      "source": [
        "print('size of the weight :', weight.shape)"
      ]
    },
    {
      "cell_type": "markdown",
      "metadata": {
        "id": "v2XRw-juYvVL"
      },
      "source": [
        "## define neural network "
      ]
    },
    {
      "cell_type": "markdown",
      "metadata": {
        "id": "QtMtqe6cYvVL"
      },
      "source": [
        "### define sigmoid function "
      ]
    },
    {
      "cell_type": "code",
      "source": [
        "input_test = np.array([range(1, 11)])\n",
        "print(input_test)\n",
        "print(input_test.shape)"
      ],
      "metadata": {
        "colab": {
          "base_uri": "https://localhost:8080/"
        },
        "id": "Azi1y6j0vgSE",
        "outputId": "27f88303-86c0-4f84-8ef7-82b02b09634d"
      },
      "execution_count": 73,
      "outputs": [
        {
          "output_type": "stream",
          "name": "stdout",
          "text": [
            "[[ 1  2  3  4  5  6  7  8  9 10]]\n",
            "(1, 10)\n"
          ]
        }
      ]
    },
    {
      "cell_type": "code",
      "execution_count": 74,
      "metadata": {
        "id": "MzV9f-l_YvVM"
      },
      "outputs": [],
      "source": [
        "def activation_sigmoid(input):\n",
        "\n",
        "# ================================================== \n",
        "# fill up the blank\n",
        "#\n",
        "    output = 1 / ( 1 + np.exp(-input))\n",
        "#\n",
        "# ================================================== \n",
        "    return output "
      ]
    },
    {
      "cell_type": "code",
      "execution_count": 75,
      "metadata": {
        "id": "MiYShAmiYvVM"
      },
      "outputs": [],
      "source": [
        "def derivative_sigmoid(input):\n",
        "\n",
        "# ================================================== \n",
        "# fill up the blank\n",
        "#\n",
        "    # sigmoid의 미분은 s' = s ( 1 - s ) 이다\n",
        "    sig = activation_sigmoid(input) \n",
        "    # *로 element-wise multiplication 해야한다.\n",
        "    output = sig * (1 - sig) \n",
        "#\n",
        "# ================================================== \n",
        "    return output"
      ]
    },
    {
      "cell_type": "markdown",
      "metadata": {
        "id": "uNu6l0ZFYvVM"
      },
      "source": [
        "### define the layer"
      ]
    },
    {
      "cell_type": "markdown",
      "metadata": {
        "id": "611NBe64YvVM"
      },
      "source": [
        "- $n$ : the number of data\n",
        "- input : $784 \\times n$\n",
        "- output : $1 \\times n$"
      ]
    },
    {
      "cell_type": "code",
      "execution_count": 76,
      "metadata": {
        "id": "_B7SpBVAYvVM"
      },
      "outputs": [],
      "source": [
        "def layer_fully_connected(input, weight):\n",
        "\n",
        "# ================================================== \n",
        "# fill up the blank\n",
        "#\n",
        "    # weight는 (1,784)의 shape를 가짐\n",
        "    output = weight.dot(input)\n",
        "#\n",
        "# ================================================== \n",
        "    return output"
      ]
    },
    {
      "cell_type": "markdown",
      "metadata": {
        "id": "AhL1a4pwYvVM"
      },
      "source": [
        "## define forward propagation"
      ]
    },
    {
      "cell_type": "code",
      "execution_count": 77,
      "metadata": {
        "id": "E0lfAnE5YvVM"
      },
      "outputs": [],
      "source": [
        "def compute_prediction(input, weight):\n",
        "\n",
        "# ================================================== \n",
        "# fill up the blank\n",
        "#\n",
        "    layer_output = layer_fully_connected(input, weight)\n",
        "    prediction  = activation_sigmoid(layer_output)\n",
        "#\n",
        "# ==================================================     \n",
        "    return prediction "
      ]
    },
    {
      "cell_type": "markdown",
      "metadata": {
        "id": "7WgrBBijYvVN"
      },
      "source": [
        "## define the loss function"
      ]
    },
    {
      "cell_type": "markdown",
      "metadata": {
        "id": "reUgBbkAYvVN"
      },
      "source": [
        "- cross entropy between the ground truth and the prediction\n",
        "\n",
        "---\n",
        "\n",
        "\n",
        "- cross entropy : $-y \\log(h) - (1-y) \\log(1-h)$\n",
        "  - $y$ : grount truth\n",
        "  - $h$ : prediction\n",
        "- output dimension : $1 \\times 1$"
      ]
    },
    {
      "cell_type": "code",
      "execution_count": 78,
      "metadata": {
        "id": "64xbEzX_YvVN"
      },
      "outputs": [],
      "source": [
        "def compute_loss(prediction, label):\n",
        "\n",
        "# ================================================== \n",
        "# fill up the blank\n",
        "#\n",
        "    loss = -label * np.log(prediction) - (1 - label) * np.log(1 - prediction)\n",
        "#\n",
        "# ==================================================\n",
        "    return loss"
      ]
    },
    {
      "cell_type": "markdown",
      "metadata": {
        "id": "N9tjpPLLYvVN"
      },
      "source": [
        "## compute the accuracy"
      ]
    },
    {
      "cell_type": "markdown",
      "metadata": {
        "id": "r5fUTlyfYvVN"
      },
      "source": [
        "- note that iterations over the input data are not allowed inside the function"
      ]
    },
    {
      "cell_type": "code",
      "execution_count": 79,
      "metadata": {
        "id": "rGR37XFoYvVN"
      },
      "outputs": [],
      "source": [
        "def compute_accuracy(prediction, label):\n",
        "\n",
        "# ================================================== \n",
        "# fill up the blank\n",
        "#    \n",
        "    # prediction을 이루는, sigmoid를 거친 값들은 모두 0과 1사이에 위치하는데,np의 반올림은 0.5를 0으로 처리하고 1.5는 2로 처리하기에 아래와 같이 구현\n",
        "    rounds_prediction = np.around(prediction + 1) - 1\n",
        "    count_element = np.unique(rounds_prediction == label, return_counts = True)\n",
        "    count_true = 0\n",
        "    if count_element[0][0]:\n",
        "      count_true = count_element[1][0]\n",
        "    else:\n",
        "      count_true = count_element[1][1]\n",
        "    print(\"true count = \", count_true, \"label.shape[1] = \", label.shape[1])\n",
        "    accuracy = count_true / label.shape[1]\n",
        "#\n",
        "# ==================================================\n",
        "    return accuracy"
      ]
    },
    {
      "cell_type": "markdown",
      "metadata": {
        "id": "E7kNNwzcYvVN"
      },
      "source": [
        "## compute the gradient with respect to the weights"
      ]
    },
    {
      "cell_type": "markdown",
      "metadata": {
        "id": "JSD0rINyYvVN"
      },
      "source": [
        "- note that iterations over the input data are not allowed inside the function\n",
        "- size of input : $m \\times n$\n",
        "- size of label : $1 \\times n$\n",
        "- size of prediction : $1 \\times n$\n",
        "- $n$ denotes the number of data\n",
        "- $m$ denotes the length of each data"
      ]
    },
    {
      "cell_type": "code",
      "execution_count": 80,
      "metadata": {
        "id": "UXEr_ZgqYvVO"
      },
      "outputs": [],
      "source": [
        "def compute_gradient_weight(input, label, prediction):\n",
        "\n",
        "# ================================================== \n",
        "# fill up the blank\n",
        "#    \n",
        "    # 우리는 w를 update해야하므로, dl / dw 를 구해야함 dl / dw = (dl / dh) * (dh / dw)\n",
        "    # cross entropy : l = −𝑦log(ℎ)−(1−𝑦)log(1−ℎ)\n",
        "    # dl / dh = -y / h + (1-y) / (1-h)\n",
        "    # dh / dw = h(1-h)x   ... x는 인풋값\n",
        "    # 따라서 dl/dw = (h - y)x\n",
        "    # (1, 10000)  input은 (784, 10000) \n",
        "    gradient = input * (prediction - label)\n",
        "    # return 값의 shapedms (784, 10000)\n",
        "#\n",
        "# ==================================================\n",
        "    return gradient"
      ]
    },
    {
      "cell_type": "markdown",
      "metadata": {
        "id": "QWOvJlb8YvVO"
      },
      "source": [
        "## gradient descent algorithm"
      ]
    },
    {
      "cell_type": "markdown",
      "metadata": {
        "id": "o0By2vQbYvVO"
      },
      "source": [
        "- hyper-parameters"
      ]
    },
    {
      "cell_type": "code",
      "execution_count": 81,
      "metadata": {
        "tags": [],
        "id": "-rd0ltkSYvVO"
      },
      "outputs": [],
      "source": [
        "number_iteration    = 500\n",
        "learning_rate       = 0.01\n",
        "weight              = weight * 0.01"
      ]
    },
    {
      "cell_type": "markdown",
      "metadata": {
        "id": "EHYHNlNMYvVO"
      },
      "source": [
        "## variables for storing intermediate results"
      ]
    },
    {
      "cell_type": "code",
      "execution_count": 82,
      "metadata": {
        "id": "s5yJYhuXYvVO"
      },
      "outputs": [],
      "source": [
        "accuracy_train  = np.zeros(number_iteration)\n",
        "accuracy_test   = np.zeros(number_iteration)\n",
        "\n",
        "loss_train_mean = np.zeros(number_iteration)\n",
        "loss_train_std  = np.zeros(number_iteration)\n",
        "loss_test_mean  = np.zeros(number_iteration)\n",
        "loss_test_std   = np.zeros(number_iteration)\n",
        "\n",
        "prediction_train_0_mean = np.zeros(number_iteration)\n",
        "prediction_train_0_std  = np.zeros(number_iteration)\n",
        "prediction_train_1_mean = np.zeros(number_iteration)\n",
        "prediction_train_1_std  = np.zeros(number_iteration)\n",
        "prediction_test_0_mean  = np.zeros(number_iteration)\n",
        "prediction_test_0_std   = np.zeros(number_iteration)\n",
        "prediction_test_1_mean  = np.zeros(number_iteration)\n",
        "prediction_test_1_std   = np.zeros(number_iteration)"
      ]
    },
    {
      "cell_type": "markdown",
      "metadata": {
        "id": "_m2hdxu7YvVO"
      },
      "source": [
        "## run the gradient descent algorithm"
      ]
    },
    {
      "cell_type": "code",
      "execution_count": 83,
      "metadata": {
        "colab": {
          "base_uri": "https://localhost:8080/"
        },
        "id": "wMbxSuVJYvVO",
        "outputId": "2fb8e749-d6db-4c63-cb09-302d0f01f016"
      },
      "outputs": [
        {
          "output_type": "stream",
          "name": "stderr",
          "text": [
            "\r  0%|          | 0/500 [00:00<?, ?it/s]"
          ]
        },
        {
          "output_type": "stream",
          "name": "stdout",
          "text": [
            "true count =  5000 "
          ]
        },
        {
          "output_type": "stream",
          "name": "stderr",
          "text": [
            "\r  0%|          | 2/500 [00:00<00:36, 13.66it/s]"
          ]
        },
        {
          "output_type": "stream",
          "name": "stdout",
          "text": [
            "label.shape[1] =  10000\n",
            "true count =  900 label.shape[1] =  1800\n",
            "true count =  5000 label.shape[1] =  10000\n",
            "true count =  900 label.shape[1] =  1800\n",
            "true count =  5000 label.shape[1] =  10000\n",
            "true count =  900 label.shape[1] =  1800\n",
            "true count =  5000 label.shape[1] =  10000\n",
            "true count =  900 label.shape[1] =  1800\n"
          ]
        },
        {
          "output_type": "stream",
          "name": "stderr",
          "text": [
            "  1%|          | 6/500 [00:00<00:29, 16.77it/s]"
          ]
        },
        {
          "output_type": "stream",
          "name": "stdout",
          "text": [
            "true count =  5000 label.shape[1] =  10000\n",
            "true count =  900 label.shape[1] =  1800\n",
            "true count =  5000 label.shape[1] =  10000\n",
            "true count =  900 label.shape[1] =  1800\n",
            "true count =  5617 label.shape[1] =  10000\n",
            "true count =  1030 label.shape[1] =  1800\n",
            "true count =  7658 label.shape[1] =  10000\n",
            "true count =  1417 label.shape[1] =  1800\n"
          ]
        },
        {
          "output_type": "stream",
          "name": "stderr",
          "text": [
            "  2%|▏         | 10/500 [00:00<00:29, 16.67it/s]"
          ]
        },
        {
          "output_type": "stream",
          "name": "stdout",
          "text": [
            "true count =  8983 label.shape[1] =  10000\n",
            "true count =  1662 label.shape[1] =  1800\n",
            "true count =  9506 label.shape[1] =  10000\n",
            "true count =  1746 label.shape[1] =  1800\n",
            "true count =  9735 label.shape[1] =  10000\n",
            "true count =  1774 label.shape[1] =  1800\n",
            "true count =  9837 label.shape[1] =  10000\n",
            "true count =  1787 label.shape[1] =  1800\n"
          ]
        },
        {
          "output_type": "stream",
          "name": "stderr",
          "text": [
            "  3%|▎         | 14/500 [00:00<00:30, 15.86it/s]"
          ]
        },
        {
          "output_type": "stream",
          "name": "stdout",
          "text": [
            "true count =  9882 label.shape[1] =  10000\n",
            "true count =  1790 label.shape[1] =  1800\n",
            "true count =  9917 label.shape[1] =  10000\n",
            "true count =  1795 label.shape[1] =  1800\n",
            "true count =  9927 label.shape[1] =  10000\n",
            "true count =  1797 label.shape[1] =  1800\n",
            "true count =  9937 label.shape[1] =  10000\n",
            "true count =  1797 label.shape[1] =  1800\n"
          ]
        },
        {
          "output_type": "stream",
          "name": "stderr",
          "text": [
            "  4%|▎         | 18/500 [00:01<00:30, 15.57it/s]"
          ]
        },
        {
          "output_type": "stream",
          "name": "stdout",
          "text": [
            "true count =  9944 label.shape[1] =  10000\n",
            "true count =  1797 label.shape[1] =  1800\n",
            "true count =  9948 label.shape[1] =  10000\n",
            "true count =  1798 label.shape[1] =  1800\n",
            "true count =  9950 label.shape[1] =  10000\n",
            "true count =  1798 label.shape[1] =  1800\n",
            "true count =  9950 label.shape[1] =  10000\n",
            "true count =  1799 label.shape[1] =  1800\n"
          ]
        },
        {
          "output_type": "stream",
          "name": "stderr",
          "text": [
            "  4%|▍         | 22/500 [00:01<00:29, 16.47it/s]"
          ]
        },
        {
          "output_type": "stream",
          "name": "stdout",
          "text": [
            "true count =  9950 label.shape[1] =  10000\n",
            "true count =  1799 label.shape[1] =  1800\n",
            "true count =  9950 label.shape[1] =  10000\n",
            "true count =  1798 label.shape[1] =  1800\n",
            "true count =  9951 label.shape[1] =  10000\n",
            "true count =  1798 label.shape[1] =  1800\n",
            "true count =  9952 label.shape[1] =  10000\n",
            "true count =  1798 label.shape[1] =  1800\n"
          ]
        },
        {
          "output_type": "stream",
          "name": "stderr",
          "text": [
            "  5%|▌         | 26/500 [00:01<00:27, 16.95it/s]"
          ]
        },
        {
          "output_type": "stream",
          "name": "stdout",
          "text": [
            "true count =  9953 label.shape[1] =  10000\n",
            "true count =  1798 label.shape[1] =  1800\n",
            "true count =  9953 label.shape[1] =  10000\n",
            "true count =  1798 label.shape[1] =  1800\n",
            "true count =  9955 label.shape[1] =  10000\n",
            "true count =  1798 label.shape[1] =  1800\n",
            "true count =  9955 label.shape[1] =  10000\n",
            "true count =  1798 label.shape[1] =  1800\n"
          ]
        },
        {
          "output_type": "stream",
          "name": "stderr",
          "text": [
            "  6%|▌         | 30/500 [00:01<00:27, 16.88it/s]"
          ]
        },
        {
          "output_type": "stream",
          "name": "stdout",
          "text": [
            "true count =  9956 label.shape[1] =  10000\n",
            "true count =  1798 label.shape[1] =  1800\n",
            "true count =  9956 label.shape[1] =  10000\n",
            "true count =  1798 label.shape[1] =  1800\n",
            "true count =  9956 label.shape[1] =  10000\n",
            "true count =  1798 label.shape[1] =  1800\n",
            "true count =  9956 label.shape[1] =  10000\n",
            "true count =  1798 label.shape[1] =  1800\n"
          ]
        },
        {
          "output_type": "stream",
          "name": "stderr",
          "text": [
            "  7%|▋         | 34/500 [00:02<00:27, 16.67it/s]"
          ]
        },
        {
          "output_type": "stream",
          "name": "stdout",
          "text": [
            "true count =  9955 label.shape[1] =  10000\n",
            "true count =  1798 label.shape[1] =  1800\n",
            "true count =  9954 label.shape[1] =  10000\n",
            "true count =  1798 label.shape[1] =  1800\n",
            "true count =  9954 label.shape[1] =  10000\n",
            "true count =  1798 label.shape[1] =  1800\n",
            "true count =  9954 label.shape[1] =  10000\n",
            "true count =  1798 label.shape[1] =  1800\n"
          ]
        },
        {
          "output_type": "stream",
          "name": "stderr",
          "text": [
            "  8%|▊         | 38/500 [00:02<00:28, 16.28it/s]"
          ]
        },
        {
          "output_type": "stream",
          "name": "stdout",
          "text": [
            "true count =  9954 label.shape[1] =  10000\n",
            "true count =  1798 label.shape[1] =  1800\n",
            "true count =  9954 label.shape[1] =  10000\n",
            "true count =  1798 label.shape[1] =  1800\n",
            "true count =  9955 label.shape[1] =  10000\n",
            "true count =  1798 label.shape[1] =  1800\n",
            "true count =  9956 label.shape[1] =  10000\n",
            "true count =  1798 label.shape[1] =  1800\n"
          ]
        },
        {
          "output_type": "stream",
          "name": "stderr",
          "text": [
            "  8%|▊         | 42/500 [00:02<00:27, 16.78it/s]"
          ]
        },
        {
          "output_type": "stream",
          "name": "stdout",
          "text": [
            "true count =  9957 label.shape[1] =  10000\n",
            "true count =  1798 label.shape[1] =  1800\n",
            "true count =  9957 label.shape[1] =  10000\n",
            "true count =  1798 label.shape[1] =  1800\n",
            "true count =  9957 label.shape[1] =  10000\n",
            "true count =  1798 label.shape[1] =  1800\n",
            "true count =  9957 label.shape[1] =  10000\n",
            "true count =  1798 label.shape[1] =  1800\n"
          ]
        },
        {
          "output_type": "stream",
          "name": "stderr",
          "text": [
            "  9%|▉         | 46/500 [00:02<00:26, 16.94it/s]"
          ]
        },
        {
          "output_type": "stream",
          "name": "stdout",
          "text": [
            "true count =  9956 label.shape[1] =  10000\n",
            "true count =  1798 label.shape[1] =  1800\n",
            "true count =  9956 label.shape[1] =  10000\n",
            "true count =  1798 label.shape[1] =  1800\n",
            "true count =  9956 label.shape[1] =  10000\n",
            "true count =  1798 label.shape[1] =  1800\n",
            "true count =  9956 label.shape[1] =  10000\n",
            "true count =  1798 label.shape[1] =  1800\n"
          ]
        },
        {
          "output_type": "stream",
          "name": "stderr",
          "text": [
            " 10%|█         | 50/500 [00:03<00:28, 15.52it/s]"
          ]
        },
        {
          "output_type": "stream",
          "name": "stdout",
          "text": [
            "true count =  9955 label.shape[1] =  10000\n",
            "true count =  1798 label.shape[1] =  1800\n",
            "true count =  9955 label.shape[1] =  10000\n",
            "true count =  1798 label.shape[1] =  1800\n",
            "true count =  9955 label.shape[1] =  10000\n",
            "true count =  1798 label.shape[1] =  1800\n",
            "true count =  9955 label.shape[1] =  10000\n",
            "true count =  1798 label.shape[1] =  1800\n"
          ]
        },
        {
          "output_type": "stream",
          "name": "stderr",
          "text": [
            " 11%|█         | 54/500 [00:03<00:27, 16.32it/s]"
          ]
        },
        {
          "output_type": "stream",
          "name": "stdout",
          "text": [
            "true count =  9955 label.shape[1] =  10000\n",
            "true count =  1798 label.shape[1] =  1800\n",
            "true count =  9955 label.shape[1] =  10000\n",
            "true count =  1798 label.shape[1] =  1800\n",
            "true count =  9955 label.shape[1] =  10000\n",
            "true count =  1798 label.shape[1] =  1800\n",
            "true count =  9955 label.shape[1] =  10000\n",
            "true count =  1798 label.shape[1] =  1800\n"
          ]
        },
        {
          "output_type": "stream",
          "name": "stderr",
          "text": [
            " 12%|█▏        | 58/500 [00:03<00:26, 16.94it/s]"
          ]
        },
        {
          "output_type": "stream",
          "name": "stdout",
          "text": [
            "true count =  9955 label.shape[1] =  10000\n",
            "true count =  1798 label.shape[1] =  1800\n",
            "true count =  9955 label.shape[1] =  10000\n",
            "true count =  1798 label.shape[1] =  1800\n",
            "true count =  9955 label.shape[1] =  10000\n",
            "true count =  1798 label.shape[1] =  1800\n",
            "true count =  9956 label.shape[1] =  10000\n",
            "true count =  1798 label.shape[1] =  1800\n"
          ]
        },
        {
          "output_type": "stream",
          "name": "stderr",
          "text": [
            " 12%|█▏        | 62/500 [00:03<00:25, 17.09it/s]"
          ]
        },
        {
          "output_type": "stream",
          "name": "stdout",
          "text": [
            "true count =  9956 label.shape[1] =  10000\n",
            "true count =  1798 label.shape[1] =  1800\n",
            "true count =  9956 label.shape[1] =  10000\n",
            "true count =  1798 label.shape[1] =  1800\n",
            "true count =  9956 label.shape[1] =  10000\n",
            "true count =  1798 label.shape[1] =  1800\n",
            "true count =  9956 label.shape[1] =  10000\n",
            "true count =  1798 label.shape[1] =  1800\n"
          ]
        },
        {
          "output_type": "stream",
          "name": "stderr",
          "text": [
            " 13%|█▎        | 66/500 [00:04<00:26, 16.46it/s]"
          ]
        },
        {
          "output_type": "stream",
          "name": "stdout",
          "text": [
            "true count =  9957 label.shape[1] =  10000\n",
            "true count =  1798 label.shape[1] =  1800\n",
            "true count =  9958 label.shape[1] =  10000\n",
            "true count =  1798 label.shape[1] =  1800\n",
            "true count =  9958 label.shape[1] =  10000\n",
            "true count =  1798 label.shape[1] =  1800\n",
            "true count =  9958 label.shape[1] =  10000\n",
            "true count =  1798 label.shape[1] =  1800\n"
          ]
        },
        {
          "output_type": "stream",
          "name": "stderr",
          "text": [
            " 14%|█▍        | 70/500 [00:04<00:25, 16.95it/s]"
          ]
        },
        {
          "output_type": "stream",
          "name": "stdout",
          "text": [
            "true count =  9958 label.shape[1] =  10000\n",
            "true count =  1798 label.shape[1] =  1800\n",
            "true count =  9958 label.shape[1] =  10000\n",
            "true count =  1798 label.shape[1] =  1800\n",
            "true count =  9958 label.shape[1] =  10000\n",
            "true count =  1798 label.shape[1] =  1800\n",
            "true count =  9957 label.shape[1] =  10000\n",
            "true count =  1798 label.shape[1] =  1800\n"
          ]
        },
        {
          "output_type": "stream",
          "name": "stderr",
          "text": [
            " 15%|█▍        | 74/500 [00:04<00:25, 16.54it/s]"
          ]
        },
        {
          "output_type": "stream",
          "name": "stdout",
          "text": [
            "true count =  9958 label.shape[1] =  10000\n",
            "true count =  1798 label.shape[1] =  1800\n",
            "true count =  9958 label.shape[1] =  10000\n",
            "true count =  1798 label.shape[1] =  1800\n",
            "true count =  9958 label.shape[1] =  10000\n",
            "true count =  1798 label.shape[1] =  1800\n",
            "true count =  9959 label.shape[1] =  10000\n",
            "true count =  1798 label.shape[1] =  1800\n"
          ]
        },
        {
          "output_type": "stream",
          "name": "stderr",
          "text": [
            " 16%|█▌        | 78/500 [00:04<00:25, 16.79it/s]"
          ]
        },
        {
          "output_type": "stream",
          "name": "stdout",
          "text": [
            "true count =  9959 label.shape[1] =  10000\n",
            "true count =  1798 label.shape[1] =  1800\n",
            "true count =  9960 label.shape[1] =  10000\n",
            "true count =  1798 label.shape[1] =  1800\n",
            "true count =  9960 label.shape[1] =  10000\n",
            "true count =  1798 label.shape[1] =  1800\n",
            "true count =  9960 label.shape[1] =  10000\n",
            "true count =  1798 label.shape[1] =  1800\n"
          ]
        },
        {
          "output_type": "stream",
          "name": "stderr",
          "text": [
            " 16%|█▋        | 82/500 [00:04<00:25, 16.44it/s]"
          ]
        },
        {
          "output_type": "stream",
          "name": "stdout",
          "text": [
            "true count =  9960 label.shape[1] =  10000\n",
            "true count =  1798 label.shape[1] =  1800\n",
            "true count =  9960 label.shape[1] =  10000\n",
            "true count =  1798 label.shape[1] =  1800\n",
            "true count =  9960 label.shape[1] =  10000\n",
            "true count =  1798 label.shape[1] =  1800\n",
            "true count =  9960 label.shape[1] =  10000\n",
            "true count =  1798 label.shape[1] =  1800\n"
          ]
        },
        {
          "output_type": "stream",
          "name": "stderr",
          "text": [
            " 17%|█▋        | 86/500 [00:05<00:25, 16.50it/s]"
          ]
        },
        {
          "output_type": "stream",
          "name": "stdout",
          "text": [
            "true count =  9960 label.shape[1] =  10000\n",
            "true count =  1798 label.shape[1] =  1800\n",
            "true count =  9960 label.shape[1] =  10000\n",
            "true count =  1798 label.shape[1] =  1800\n",
            "true count =  9960 label.shape[1] =  10000\n",
            "true count =  1798 label.shape[1] =  1800\n",
            "true count =  9960 label.shape[1] =  10000\n",
            "true count =  1798 label.shape[1] =  1800\n"
          ]
        },
        {
          "output_type": "stream",
          "name": "stderr",
          "text": [
            " 18%|█▊        | 92/500 [00:05<00:23, 17.29it/s]"
          ]
        },
        {
          "output_type": "stream",
          "name": "stdout",
          "text": [
            "true count =  9960 label.shape[1] =  10000\n",
            "true count =  1798 label.shape[1] =  1800\n",
            "true count =  9960 label.shape[1] =  10000\n",
            "true count =  1798 label.shape[1] =  1800\n",
            "true count =  9960 label.shape[1] =  10000\n",
            "true count =  1798 label.shape[1] =  1800\n",
            "true count =  9960 label.shape[1] =  10000\n",
            "true count =  1798 label.shape[1] =  1800\n"
          ]
        },
        {
          "output_type": "stream",
          "name": "stderr",
          "text": [
            " 19%|█▉        | 96/500 [00:05<00:23, 17.50it/s]"
          ]
        },
        {
          "output_type": "stream",
          "name": "stdout",
          "text": [
            "true count =  9960 label.shape[1] =  10000\n",
            "true count =  1798 label.shape[1] =  1800\n",
            "true count =  9960 label.shape[1] =  10000\n",
            "true count =  1798 label.shape[1] =  1800\n",
            "true count =  9960 label.shape[1] =  10000\n",
            "true count =  1798 label.shape[1] =  1800\n",
            "true count =  9960 label.shape[1] =  10000\n",
            "true count =  1798 label.shape[1] =  1800\n"
          ]
        },
        {
          "output_type": "stream",
          "name": "stderr",
          "text": [
            " 20%|██        | 100/500 [00:05<00:22, 17.73it/s]"
          ]
        },
        {
          "output_type": "stream",
          "name": "stdout",
          "text": [
            "true count =  9960 label.shape[1] =  10000\n",
            "true count =  1798 label.shape[1] =  1800\n",
            "true count =  9960 label.shape[1] =  10000\n",
            "true count =  1798 label.shape[1] =  1800\n",
            "true count =  9960 label.shape[1] =  10000\n",
            "true count =  1798 label.shape[1] =  1800\n",
            "true count =  9960 label.shape[1] =  10000\n",
            "true count =  1798 label.shape[1] =  1800\n"
          ]
        },
        {
          "output_type": "stream",
          "name": "stderr",
          "text": [
            " 21%|██        | 104/500 [00:06<00:22, 17.45it/s]"
          ]
        },
        {
          "output_type": "stream",
          "name": "stdout",
          "text": [
            "true count =  9960 label.shape[1] =  10000\n",
            "true count =  1798 label.shape[1] =  1800\n",
            "true count =  9961 label.shape[1] =  10000\n",
            "true count =  1798 label.shape[1] =  1800\n",
            "true count =  9961 label.shape[1] =  10000\n",
            "true count =  1798 label.shape[1] =  1800\n",
            "true count =  9961 label.shape[1] =  10000\n",
            "true count =  1798 label.shape[1] =  1800\n"
          ]
        },
        {
          "output_type": "stream",
          "name": "stderr",
          "text": [
            "\r 21%|██        | 106/500 [00:06<00:22, 17.54it/s]"
          ]
        },
        {
          "output_type": "stream",
          "name": "stdout",
          "text": [
            "true count =  9961 label.shape[1] =  10000\n",
            "true count =  1798 label.shape[1] =  1800\n",
            "true count =  9961 label.shape[1] =  10000\n",
            "true count =  1798 label.shape[1] =  1800\n",
            "true count =  9961 label.shape[1] =  10000\n",
            "true count =  1798 label.shape[1] =  1800\n",
            "true count =  9961 label.shape[1] =  10000\n",
            "true count =  1798 label.shape[1] =  1800\n"
          ]
        },
        {
          "output_type": "stream",
          "name": "stderr",
          "text": [
            " 22%|██▏       | 110/500 [00:06<00:23, 16.49it/s]"
          ]
        },
        {
          "output_type": "stream",
          "name": "stdout",
          "text": [
            "true count =  9961 label.shape[1] =  10000\n",
            "true count =  1798 label.shape[1] =  1800\n",
            "true count =  9961 label.shape[1] =  10000\n",
            "true count =  1798 label.shape[1] =  1800\n",
            "true count =  9961 label.shape[1] =  10000\n",
            "true count =  1798 label.shape[1] =  1800\n",
            "true count =  9961 label.shape[1] =  10000\n",
            "true count =  1798 label.shape[1] =  1800\n"
          ]
        },
        {
          "output_type": "stream",
          "name": "stderr",
          "text": [
            " 23%|██▎       | 114/500 [00:06<00:22, 17.21it/s]"
          ]
        },
        {
          "output_type": "stream",
          "name": "stdout",
          "text": [
            "true count =  9961 label.shape[1] =  10000\n",
            "true count =  1798 label.shape[1] =  1800\n",
            "true count =  9961 label.shape[1] =  10000\n",
            "true count =  1798 label.shape[1] =  1800\n",
            "true count =  9961 label.shape[1] =  10000\n",
            "true count =  1798 label.shape[1] =  1800\n",
            "true count =  9961 label.shape[1] =  10000\n",
            "true count =  1798 label.shape[1] =  1800\n"
          ]
        },
        {
          "output_type": "stream",
          "name": "stderr",
          "text": [
            " 24%|██▎       | 118/500 [00:07<00:22, 16.71it/s]"
          ]
        },
        {
          "output_type": "stream",
          "name": "stdout",
          "text": [
            "true count =  9961 label.shape[1] =  10000\n",
            "true count =  1798 label.shape[1] =  1800\n",
            "true count =  9961 label.shape[1] =  10000\n",
            "true count =  1798 label.shape[1] =  1800\n",
            "true count =  9961 label.shape[1] =  10000\n",
            "true count =  1798 label.shape[1] =  1800\n",
            "true count =  9961 label.shape[1] =  10000\n",
            "true count =  1799 label.shape[1] =  1800\n"
          ]
        },
        {
          "output_type": "stream",
          "name": "stderr",
          "text": [
            " 24%|██▍       | 122/500 [00:07<00:22, 16.79it/s]"
          ]
        },
        {
          "output_type": "stream",
          "name": "stdout",
          "text": [
            "true count =  9961 label.shape[1] =  10000\n",
            "true count =  1799 label.shape[1] =  1800\n",
            "true count =  9961 label.shape[1] =  10000\n",
            "true count =  1799 label.shape[1] =  1800\n",
            "true count =  9961 label.shape[1] =  10000\n",
            "true count =  1799 label.shape[1] =  1800\n",
            "true count =  9961 label.shape[1] =  10000\n",
            "true count =  1799 label.shape[1] =  1800\n"
          ]
        },
        {
          "output_type": "stream",
          "name": "stderr",
          "text": [
            " 25%|██▌       | 126/500 [00:07<00:21, 17.31it/s]"
          ]
        },
        {
          "output_type": "stream",
          "name": "stdout",
          "text": [
            "true count =  9961 label.shape[1] =  10000\n",
            "true count =  1799 label.shape[1] =  1800\n",
            "true count =  9961 label.shape[1] =  10000\n",
            "true count =  1799 label.shape[1] =  1800\n",
            "true count =  9961 label.shape[1] =  10000\n",
            "true count =  1799 label.shape[1] =  1800\n",
            "true count =  9961 label.shape[1] =  10000\n",
            "true count =  1799 label.shape[1] =  1800\n"
          ]
        },
        {
          "output_type": "stream",
          "name": "stderr",
          "text": [
            " 26%|██▌       | 130/500 [00:07<00:21, 17.05it/s]"
          ]
        },
        {
          "output_type": "stream",
          "name": "stdout",
          "text": [
            "true count =  9961 label.shape[1] =  10000\n",
            "true count =  1799 label.shape[1] =  1800\n",
            "true count =  9961 label.shape[1] =  10000\n",
            "true count =  1799 label.shape[1] =  1800\n",
            "true count =  9961 label.shape[1] =  10000\n",
            "true count =  1799 label.shape[1] =  1800\n",
            "true count =  9961 label.shape[1] =  10000\n",
            "true count =  1799 label.shape[1] =  1800\n"
          ]
        },
        {
          "output_type": "stream",
          "name": "stderr",
          "text": [
            " 27%|██▋       | 134/500 [00:08<00:21, 16.94it/s]"
          ]
        },
        {
          "output_type": "stream",
          "name": "stdout",
          "text": [
            "true count =  9961 label.shape[1] =  10000\n",
            "true count =  1799 label.shape[1] =  1800\n",
            "true count =  9961 label.shape[1] =  10000\n",
            "true count =  1799 label.shape[1] =  1800\n",
            "true count =  9961 label.shape[1] =  10000\n",
            "true count =  1799 label.shape[1] =  1800\n",
            "true count =  9961 label.shape[1] =  10000\n",
            "true count =  1799 label.shape[1] =  1800\n"
          ]
        },
        {
          "output_type": "stream",
          "name": "stderr",
          "text": [
            " 28%|██▊       | 138/500 [00:08<00:21, 17.15it/s]"
          ]
        },
        {
          "output_type": "stream",
          "name": "stdout",
          "text": [
            "true count =  9961 label.shape[1] =  10000\n",
            "true count =  1799 label.shape[1] =  1800\n",
            "true count =  9961 label.shape[1] =  10000\n",
            "true count =  1799 label.shape[1] =  1800\n",
            "true count =  9961 label.shape[1] =  10000\n",
            "true count =  1799 label.shape[1] =  1800\n",
            "true count =  9961 label.shape[1] =  10000\n",
            "true count =  1799 label.shape[1] =  1800\n"
          ]
        },
        {
          "output_type": "stream",
          "name": "stderr",
          "text": [
            " 29%|██▉       | 144/500 [00:08<00:20, 17.29it/s]"
          ]
        },
        {
          "output_type": "stream",
          "name": "stdout",
          "text": [
            "true count =  9961 label.shape[1] =  10000\n",
            "true count =  1799 label.shape[1] =  1800\n",
            "true count =  9961 label.shape[1] =  10000\n",
            "true count =  1799 label.shape[1] =  1800\n",
            "true count =  9961 label.shape[1] =  10000\n",
            "true count =  1799 label.shape[1] =  1800\n",
            "true count =  9961 label.shape[1] =  10000\n",
            "true count =  1799 label.shape[1] =  1800\n"
          ]
        },
        {
          "output_type": "stream",
          "name": "stderr",
          "text": [
            " 30%|██▉       | 148/500 [00:08<00:19, 17.62it/s]"
          ]
        },
        {
          "output_type": "stream",
          "name": "stdout",
          "text": [
            "true count =  9961 label.shape[1] =  10000\n",
            "true count =  1799 label.shape[1] =  1800\n",
            "true count =  9961 label.shape[1] =  10000\n",
            "true count =  1799 label.shape[1] =  1800\n",
            "true count =  9961 label.shape[1] =  10000\n",
            "true count =  1799 label.shape[1] =  1800\n",
            "true count =  9961 label.shape[1] =  10000\n",
            "true count =  1799 label.shape[1] =  1800\n"
          ]
        },
        {
          "output_type": "stream",
          "name": "stderr",
          "text": [
            "\r 30%|███       | 150/500 [00:08<00:20, 17.44it/s]"
          ]
        },
        {
          "output_type": "stream",
          "name": "stdout",
          "text": [
            "true count =  9961 label.shape[1] =  10000\n",
            "true count =  1799 label.shape[1] =  1800\n",
            "true count =  9961 label.shape[1] =  10000\n",
            "true count =  1799 label.shape[1] =  1800\n",
            "true count =  9961 label.shape[1] =  10000\n",
            "true count =  1799 label.shape[1] =  1800\n",
            "true count =  9961 label.shape[1] =  10000\n",
            "true count =  1799 label.shape[1] =  1800\n"
          ]
        },
        {
          "output_type": "stream",
          "name": "stderr",
          "text": [
            " 31%|███       | 154/500 [00:09<00:20, 16.71it/s]"
          ]
        },
        {
          "output_type": "stream",
          "name": "stdout",
          "text": [
            "true count =  9961 label.shape[1] =  10000\n",
            "true count =  1799 label.shape[1] =  1800\n",
            "true count =  9961 label.shape[1] =  10000\n",
            "true count =  1799 label.shape[1] =  1800\n",
            "true count =  9961 label.shape[1] =  10000\n",
            "true count =  1799 label.shape[1] =  1800\n",
            "true count =  9961 label.shape[1] =  10000\n",
            "true count =  1799 label.shape[1] =  1800\n"
          ]
        },
        {
          "output_type": "stream",
          "name": "stderr",
          "text": [
            " 32%|███▏      | 158/500 [00:09<00:20, 16.68it/s]"
          ]
        },
        {
          "output_type": "stream",
          "name": "stdout",
          "text": [
            "true count =  9961 label.shape[1] =  10000\n",
            "true count =  1799 label.shape[1] =  1800\n",
            "true count =  9961 label.shape[1] =  10000\n",
            "true count =  1799 label.shape[1] =  1800\n",
            "true count =  9961 label.shape[1] =  10000\n",
            "true count =  1799 label.shape[1] =  1800\n",
            "true count =  9961 label.shape[1] =  10000\n",
            "true count =  1799 label.shape[1] =  1800\n"
          ]
        },
        {
          "output_type": "stream",
          "name": "stderr",
          "text": [
            " 32%|███▏      | 162/500 [00:09<00:19, 16.92it/s]"
          ]
        },
        {
          "output_type": "stream",
          "name": "stdout",
          "text": [
            "true count =  9961 label.shape[1] =  10000\n",
            "true count =  1799 label.shape[1] =  1800\n",
            "true count =  9961 label.shape[1] =  10000\n",
            "true count =  1799 label.shape[1] =  1800\n",
            "true count =  9961 label.shape[1] =  10000\n",
            "true count =  1799 label.shape[1] =  1800\n",
            "true count =  9961 label.shape[1] =  10000\n",
            "true count =  1799 label.shape[1] =  1800\n"
          ]
        },
        {
          "output_type": "stream",
          "name": "stderr",
          "text": [
            " 33%|███▎      | 166/500 [00:09<00:19, 16.86it/s]"
          ]
        },
        {
          "output_type": "stream",
          "name": "stdout",
          "text": [
            "true count =  9961 label.shape[1] =  10000\n",
            "true count =  1799 label.shape[1] =  1800\n",
            "true count =  9961 label.shape[1] =  10000\n",
            "true count =  1799 label.shape[1] =  1800\n",
            "true count =  9961 label.shape[1] =  10000\n",
            "true count =  1799 label.shape[1] =  1800\n",
            "true count =  9961 label.shape[1] =  10000\n",
            "true count =  1799 label.shape[1] =  1800\n"
          ]
        },
        {
          "output_type": "stream",
          "name": "stderr",
          "text": [
            " 34%|███▍      | 170/500 [00:10<00:19, 16.77it/s]"
          ]
        },
        {
          "output_type": "stream",
          "name": "stdout",
          "text": [
            "true count =  9961 label.shape[1] =  10000\n",
            "true count =  1799 label.shape[1] =  1800\n",
            "true count =  9961 label.shape[1] =  10000\n",
            "true count =  1799 label.shape[1] =  1800\n",
            "true count =  9961 label.shape[1] =  10000\n",
            "true count =  1799 label.shape[1] =  1800\n",
            "true count =  9961 label.shape[1] =  10000\n",
            "true count =  1799 label.shape[1] =  1800\n"
          ]
        },
        {
          "output_type": "stream",
          "name": "stderr",
          "text": [
            " 35%|███▍      | 174/500 [00:10<00:19, 16.56it/s]"
          ]
        },
        {
          "output_type": "stream",
          "name": "stdout",
          "text": [
            "true count =  9961 label.shape[1] =  10000\n",
            "true count =  1799 label.shape[1] =  1800\n",
            "true count =  9961 label.shape[1] =  10000\n",
            "true count =  1799 label.shape[1] =  1800\n",
            "true count =  9961 label.shape[1] =  10000\n",
            "true count =  1799 label.shape[1] =  1800\n",
            "true count =  9961 label.shape[1] =  10000\n",
            "true count =  1799 label.shape[1] =  1800\n"
          ]
        },
        {
          "output_type": "stream",
          "name": "stderr",
          "text": [
            " 36%|███▌      | 178/500 [00:10<00:19, 16.92it/s]"
          ]
        },
        {
          "output_type": "stream",
          "name": "stdout",
          "text": [
            "true count =  9961 label.shape[1] =  10000\n",
            "true count =  1799 label.shape[1] =  1800\n",
            "true count =  9961 label.shape[1] =  10000\n",
            "true count =  1799 label.shape[1] =  1800\n",
            "true count =  9961 label.shape[1] =  10000\n",
            "true count =  1799 label.shape[1] =  1800\n",
            "true count =  9961 label.shape[1] =  10000\n",
            "true count =  1799 label.shape[1] =  1800\n"
          ]
        },
        {
          "output_type": "stream",
          "name": "stderr",
          "text": [
            " 36%|███▋      | 182/500 [00:10<00:18, 16.87it/s]"
          ]
        },
        {
          "output_type": "stream",
          "name": "stdout",
          "text": [
            "true count =  9961 label.shape[1] =  10000\n",
            "true count =  1799 label.shape[1] =  1800\n",
            "true count =  9961 label.shape[1] =  10000\n",
            "true count =  1799 label.shape[1] =  1800\n",
            "true count =  9961 label.shape[1] =  10000\n",
            "true count =  1799 label.shape[1] =  1800\n",
            "true count =  9961 label.shape[1] =  10000\n",
            "true count =  1799 label.shape[1] =  1800\n"
          ]
        },
        {
          "output_type": "stream",
          "name": "stderr",
          "text": [
            " 37%|███▋      | 186/500 [00:11<00:19, 16.16it/s]"
          ]
        },
        {
          "output_type": "stream",
          "name": "stdout",
          "text": [
            "true count =  9962 label.shape[1] =  10000\n",
            "true count =  1799 label.shape[1] =  1800\n",
            "true count =  9962 label.shape[1] =  10000\n",
            "true count =  1799 label.shape[1] =  1800\n",
            "true count =  9962 label.shape[1] =  10000\n",
            "true count =  1799 label.shape[1] =  1800\n",
            "true count =  9962 label.shape[1] =  10000\n",
            "true count =  1799 label.shape[1] =  1800\n"
          ]
        },
        {
          "output_type": "stream",
          "name": "stderr",
          "text": [
            " 38%|███▊      | 190/500 [00:11<00:18, 16.51it/s]"
          ]
        },
        {
          "output_type": "stream",
          "name": "stdout",
          "text": [
            "true count =  9962 label.shape[1] =  10000\n",
            "true count =  1799 label.shape[1] =  1800\n",
            "true count =  9962 label.shape[1] =  10000\n",
            "true count =  1799 label.shape[1] =  1800\n",
            "true count =  9962 label.shape[1] =  10000\n",
            "true count =  1799 label.shape[1] =  1800\n",
            "true count =  9963 label.shape[1] =  10000\n",
            "true count =  1799 label.shape[1] =  1800\n"
          ]
        },
        {
          "output_type": "stream",
          "name": "stderr",
          "text": [
            " 39%|███▉      | 194/500 [00:11<00:18, 16.61it/s]"
          ]
        },
        {
          "output_type": "stream",
          "name": "stdout",
          "text": [
            "true count =  9963 label.shape[1] =  10000\n",
            "true count =  1799 label.shape[1] =  1800\n",
            "true count =  9963 label.shape[1] =  10000\n",
            "true count =  1799 label.shape[1] =  1800\n",
            "true count =  9963 label.shape[1] =  10000\n",
            "true count =  1799 label.shape[1] =  1800\n",
            "true count =  9963 label.shape[1] =  10000\n",
            "true count =  1799 label.shape[1] =  1800\n"
          ]
        },
        {
          "output_type": "stream",
          "name": "stderr",
          "text": [
            " 40%|███▉      | 198/500 [00:11<00:17, 16.94it/s]"
          ]
        },
        {
          "output_type": "stream",
          "name": "stdout",
          "text": [
            "true count =  9963 label.shape[1] =  10000\n",
            "true count =  1799 label.shape[1] =  1800\n",
            "true count =  9963 label.shape[1] =  10000\n",
            "true count =  1799 label.shape[1] =  1800\n",
            "true count =  9963 label.shape[1] =  10000\n",
            "true count =  1799 label.shape[1] =  1800\n",
            "true count =  9963 label.shape[1] =  10000\n",
            "true count =  1799 label.shape[1] =  1800\n"
          ]
        },
        {
          "output_type": "stream",
          "name": "stderr",
          "text": [
            " 40%|████      | 202/500 [00:12<00:17, 17.20it/s]"
          ]
        },
        {
          "output_type": "stream",
          "name": "stdout",
          "text": [
            "true count =  9963 label.shape[1] =  10000\n",
            "true count =  1799 label.shape[1] =  1800\n",
            "true count =  9963 label.shape[1] =  10000\n",
            "true count =  1799 label.shape[1] =  1800\n",
            "true count =  9963 label.shape[1] =  10000\n",
            "true count =  1799 label.shape[1] =  1800\n",
            "true count =  9963 label.shape[1] =  10000\n",
            "true count =  1799 label.shape[1] =  1800\n"
          ]
        },
        {
          "output_type": "stream",
          "name": "stderr",
          "text": [
            " 41%|████      | 206/500 [00:12<00:17, 16.77it/s]"
          ]
        },
        {
          "output_type": "stream",
          "name": "stdout",
          "text": [
            "true count =  9963 label.shape[1] =  10000\n",
            "true count =  1799 label.shape[1] =  1800\n",
            "true count =  9963 label.shape[1] =  10000\n",
            "true count =  1799 label.shape[1] =  1800\n",
            "true count =  9963 label.shape[1] =  10000\n",
            "true count =  1799 label.shape[1] =  1800\n",
            "true count =  9963 label.shape[1] =  10000\n",
            "true count =  1799 label.shape[1] =  1800\n"
          ]
        },
        {
          "output_type": "stream",
          "name": "stderr",
          "text": [
            " 42%|████▏     | 210/500 [00:12<00:16, 17.16it/s]"
          ]
        },
        {
          "output_type": "stream",
          "name": "stdout",
          "text": [
            "true count =  9963 label.shape[1] =  10000\n",
            "true count =  1799 label.shape[1] =  1800\n",
            "true count =  9963 label.shape[1] =  10000\n",
            "true count =  1799 label.shape[1] =  1800\n",
            "true count =  9963 label.shape[1] =  10000\n",
            "true count =  1799 label.shape[1] =  1800\n",
            "true count =  9963 label.shape[1] =  10000\n",
            "true count =  1799 label.shape[1] =  1800\n"
          ]
        },
        {
          "output_type": "stream",
          "name": "stderr",
          "text": [
            " 43%|████▎     | 214/500 [00:12<00:16, 16.97it/s]"
          ]
        },
        {
          "output_type": "stream",
          "name": "stdout",
          "text": [
            "true count =  9964 label.shape[1] =  10000\n",
            "true count =  1799 label.shape[1] =  1800\n",
            "true count =  9964 label.shape[1] =  10000\n",
            "true count =  1799 label.shape[1] =  1800\n",
            "true count =  9964 label.shape[1] =  10000\n",
            "true count =  1799 label.shape[1] =  1800\n",
            "true count =  9964 label.shape[1] =  10000\n",
            "true count =  1799 label.shape[1] =  1800\n"
          ]
        },
        {
          "output_type": "stream",
          "name": "stderr",
          "text": [
            " 44%|████▎     | 218/500 [00:12<00:16, 17.00it/s]"
          ]
        },
        {
          "output_type": "stream",
          "name": "stdout",
          "text": [
            "true count =  9964 label.shape[1] =  10000\n",
            "true count =  1799 label.shape[1] =  1800\n",
            "true count =  9964 label.shape[1] =  10000\n",
            "true count =  1799 label.shape[1] =  1800\n",
            "true count =  9964 label.shape[1] =  10000\n",
            "true count =  1799 label.shape[1] =  1800\n",
            "true count =  9964 label.shape[1] =  10000\n",
            "true count =  1799 label.shape[1] =  1800\n"
          ]
        },
        {
          "output_type": "stream",
          "name": "stderr",
          "text": [
            " 44%|████▍     | 222/500 [00:13<00:16, 16.95it/s]"
          ]
        },
        {
          "output_type": "stream",
          "name": "stdout",
          "text": [
            "true count =  9964 label.shape[1] =  10000\n",
            "true count =  1799 label.shape[1] =  1800\n",
            "true count =  9964 label.shape[1] =  10000\n",
            "true count =  1799 label.shape[1] =  1800\n",
            "true count =  9964 label.shape[1] =  10000\n",
            "true count =  1799 label.shape[1] =  1800\n",
            "true count =  9964 label.shape[1] =  10000\n",
            "true count =  1799 label.shape[1] =  1800\n"
          ]
        },
        {
          "output_type": "stream",
          "name": "stderr",
          "text": [
            " 45%|████▌     | 226/500 [00:13<00:16, 16.62it/s]"
          ]
        },
        {
          "output_type": "stream",
          "name": "stdout",
          "text": [
            "true count =  9964 label.shape[1] =  10000\n",
            "true count =  1799 label.shape[1] =  1800\n",
            "true count =  9964 label.shape[1] =  10000\n",
            "true count =  1799 label.shape[1] =  1800\n",
            "true count =  9964 label.shape[1] =  10000\n",
            "true count =  1799 label.shape[1] =  1800\n",
            "true count =  9964 label.shape[1] =  10000\n",
            "true count =  1799 label.shape[1] =  1800\n"
          ]
        },
        {
          "output_type": "stream",
          "name": "stderr",
          "text": [
            " 46%|████▋     | 232/500 [00:13<00:15, 17.32it/s]"
          ]
        },
        {
          "output_type": "stream",
          "name": "stdout",
          "text": [
            "true count =  9964 label.shape[1] =  10000\n",
            "true count =  1799 label.shape[1] =  1800\n",
            "true count =  9964 label.shape[1] =  10000\n",
            "true count =  1799 label.shape[1] =  1800\n",
            "true count =  9964 label.shape[1] =  10000\n",
            "true count =  1799 label.shape[1] =  1800\n",
            "true count =  9964 label.shape[1] =  10000\n",
            "true count =  1799 label.shape[1] =  1800\n"
          ]
        },
        {
          "output_type": "stream",
          "name": "stderr",
          "text": [
            " 47%|████▋     | 236/500 [00:14<00:15, 17.56it/s]"
          ]
        },
        {
          "output_type": "stream",
          "name": "stdout",
          "text": [
            "true count =  9964 label.shape[1] =  10000\n",
            "true count =  1799 label.shape[1] =  1800\n",
            "true count =  9964 label.shape[1] =  10000\n",
            "true count =  1799 label.shape[1] =  1800\n",
            "true count =  9964 label.shape[1] =  10000\n",
            "true count =  1799 label.shape[1] =  1800\n",
            "true count =  9964 label.shape[1] =  10000\n",
            "true count =  1799 label.shape[1] =  1800\n"
          ]
        },
        {
          "output_type": "stream",
          "name": "stderr",
          "text": [
            "\r 48%|████▊     | 238/500 [00:14<00:15, 17.17it/s]"
          ]
        },
        {
          "output_type": "stream",
          "name": "stdout",
          "text": [
            "true count =  9964 label.shape[1] =  10000\n",
            "true count =  1799 label.shape[1] =  1800\n",
            "true count =  9964 label.shape[1] =  10000\n",
            "true count =  1799 label.shape[1] =  1800\n",
            "true count =  9964 label.shape[1] =  10000\n",
            "true count =  1799 label.shape[1] =  1800\n",
            "true count =  9964 label.shape[1] =  10000\n",
            "true count =  1799 label.shape[1] =  1800\n"
          ]
        },
        {
          "output_type": "stream",
          "name": "stderr",
          "text": [
            " 48%|████▊     | 242/500 [00:14<00:15, 16.61it/s]"
          ]
        },
        {
          "output_type": "stream",
          "name": "stdout",
          "text": [
            "true count =  9964 label.shape[1] =  10000\n",
            "true count =  1799 label.shape[1] =  1800\n",
            "true count =  9964 label.shape[1] =  10000\n",
            "true count =  1799 label.shape[1] =  1800\n",
            "true count =  9965 label.shape[1] =  10000\n",
            "true count =  1799 label.shape[1] =  1800\n",
            "true count =  9965 label.shape[1] =  10000\n",
            "true count =  1799 label.shape[1] =  1800\n"
          ]
        },
        {
          "output_type": "stream",
          "name": "stderr",
          "text": [
            " 49%|████▉     | 246/500 [00:14<00:15, 16.03it/s]"
          ]
        },
        {
          "output_type": "stream",
          "name": "stdout",
          "text": [
            "true count =  9965 label.shape[1] =  10000\n",
            "true count =  1799 label.shape[1] =  1800\n",
            "true count =  9965 label.shape[1] =  10000\n",
            "true count =  1799 label.shape[1] =  1800\n",
            "true count =  9965 label.shape[1] =  10000\n",
            "true count =  1799 label.shape[1] =  1800\n",
            "true count =  9965 label.shape[1] =  10000\n",
            "true count =  1799 label.shape[1] =  1800\n"
          ]
        },
        {
          "output_type": "stream",
          "name": "stderr",
          "text": [
            " 50%|█████     | 250/500 [00:14<00:15, 16.28it/s]"
          ]
        },
        {
          "output_type": "stream",
          "name": "stdout",
          "text": [
            "true count =  9965 label.shape[1] =  10000\n",
            "true count =  1799 label.shape[1] =  1800\n",
            "true count =  9965 label.shape[1] =  10000\n",
            "true count =  1799 label.shape[1] =  1800\n",
            "true count =  9965 label.shape[1] =  10000\n",
            "true count =  1799 label.shape[1] =  1800\n",
            "true count =  9965 label.shape[1] =  10000\n",
            "true count =  1799 label.shape[1] =  1800\n"
          ]
        },
        {
          "output_type": "stream",
          "name": "stderr",
          "text": [
            " 51%|█████     | 254/500 [00:15<00:14, 16.53it/s]"
          ]
        },
        {
          "output_type": "stream",
          "name": "stdout",
          "text": [
            "true count =  9965 label.shape[1] =  10000\n",
            "true count =  1799 label.shape[1] =  1800\n",
            "true count =  9965 label.shape[1] =  10000\n",
            "true count =  1799 label.shape[1] =  1800\n",
            "true count =  9965 label.shape[1] =  10000\n",
            "true count =  1799 label.shape[1] =  1800\n",
            "true count =  9965 label.shape[1] =  10000\n",
            "true count =  1799 label.shape[1] =  1800\n"
          ]
        },
        {
          "output_type": "stream",
          "name": "stderr",
          "text": [
            " 52%|█████▏    | 258/500 [00:15<00:15, 16.01it/s]"
          ]
        },
        {
          "output_type": "stream",
          "name": "stdout",
          "text": [
            "true count =  9965 label.shape[1] =  10000\n",
            "true count =  1799 label.shape[1] =  1800\n",
            "true count =  9965 label.shape[1] =  10000\n",
            "true count =  1799 label.shape[1] =  1800\n",
            "true count =  9965 label.shape[1] =  10000\n",
            "true count =  1799 label.shape[1] =  1800\n",
            "true count =  9965 label.shape[1] =  10000\n",
            "true count =  1799 label.shape[1] =  1800\n"
          ]
        },
        {
          "output_type": "stream",
          "name": "stderr",
          "text": [
            " 52%|█████▏    | 262/500 [00:15<00:14, 16.38it/s]"
          ]
        },
        {
          "output_type": "stream",
          "name": "stdout",
          "text": [
            "true count =  9965 label.shape[1] =  10000\n",
            "true count =  1799 label.shape[1] =  1800\n",
            "true count =  9965 label.shape[1] =  10000\n",
            "true count =  1799 label.shape[1] =  1800\n",
            "true count =  9965 label.shape[1] =  10000\n",
            "true count =  1799 label.shape[1] =  1800\n",
            "true count =  9965 label.shape[1] =  10000\n",
            "true count =  1799 label.shape[1] =  1800\n"
          ]
        },
        {
          "output_type": "stream",
          "name": "stderr",
          "text": [
            " 53%|█████▎    | 266/500 [00:15<00:14, 16.50it/s]"
          ]
        },
        {
          "output_type": "stream",
          "name": "stdout",
          "text": [
            "true count =  9965 label.shape[1] =  10000\n",
            "true count =  1799 label.shape[1] =  1800\n",
            "true count =  9965 label.shape[1] =  10000\n",
            "true count =  1799 label.shape[1] =  1800\n",
            "true count =  9965 label.shape[1] =  10000\n",
            "true count =  1799 label.shape[1] =  1800\n",
            "true count =  9965 label.shape[1] =  10000\n",
            "true count =  1799 label.shape[1] =  1800\n"
          ]
        },
        {
          "output_type": "stream",
          "name": "stderr",
          "text": [
            " 54%|█████▍    | 270/500 [00:16<00:13, 16.62it/s]"
          ]
        },
        {
          "output_type": "stream",
          "name": "stdout",
          "text": [
            "true count =  9965 label.shape[1] =  10000\n",
            "true count =  1799 label.shape[1] =  1800\n",
            "true count =  9965 label.shape[1] =  10000\n",
            "true count =  1799 label.shape[1] =  1800\n",
            "true count =  9965 label.shape[1] =  10000\n",
            "true count =  1799 label.shape[1] =  1800\n",
            "true count =  9965 label.shape[1] =  10000\n",
            "true count =  1799 label.shape[1] =  1800\n"
          ]
        },
        {
          "output_type": "stream",
          "name": "stderr",
          "text": [
            " 55%|█████▍    | 274/500 [00:16<00:13, 17.12it/s]"
          ]
        },
        {
          "output_type": "stream",
          "name": "stdout",
          "text": [
            "true count =  9965 label.shape[1] =  10000\n",
            "true count =  1799 label.shape[1] =  1800\n",
            "true count =  9965 label.shape[1] =  10000\n",
            "true count =  1799 label.shape[1] =  1800\n",
            "true count =  9966 label.shape[1] =  10000\n",
            "true count =  1799 label.shape[1] =  1800\n",
            "true count =  9966 label.shape[1] =  10000\n",
            "true count =  1799 label.shape[1] =  1800\n"
          ]
        },
        {
          "output_type": "stream",
          "name": "stderr",
          "text": [
            " 56%|█████▌    | 280/500 [00:16<00:12, 17.30it/s]"
          ]
        },
        {
          "output_type": "stream",
          "name": "stdout",
          "text": [
            "true count =  9966 label.shape[1] =  10000\n",
            "true count =  1799 label.shape[1] =  1800\n",
            "true count =  9966 label.shape[1] =  10000\n",
            "true count =  1799 label.shape[1] =  1800\n",
            "true count =  9966 label.shape[1] =  10000\n",
            "true count =  1799 label.shape[1] =  1800\n",
            "true count =  9966 label.shape[1] =  10000\n",
            "true count =  1799 label.shape[1] =  1800\n"
          ]
        },
        {
          "output_type": "stream",
          "name": "stderr",
          "text": [
            "\r 56%|█████▋    | 282/500 [00:16<00:13, 16.64it/s]"
          ]
        },
        {
          "output_type": "stream",
          "name": "stdout",
          "text": [
            "true count =  9966 label.shape[1] =  10000\n",
            "true count =  1799 label.shape[1] =  1800\n",
            "true count =  9966 label.shape[1] =  10000\n",
            "true count =  1799 label.shape[1] =  1800\n",
            "true count =  9966 label.shape[1] =  10000\n",
            "true count =  1799 label.shape[1] =  1800\n",
            "true count =  9966 label.shape[1] =  10000\n",
            "true count =  1799 label.shape[1] =  1800\n"
          ]
        },
        {
          "output_type": "stream",
          "name": "stderr",
          "text": [
            " 58%|█████▊    | 288/500 [00:17<00:12, 16.55it/s]"
          ]
        },
        {
          "output_type": "stream",
          "name": "stdout",
          "text": [
            "true count =  9966 label.shape[1] =  10000\n",
            "true count =  1799 label.shape[1] =  1800\n",
            "true count =  9966 label.shape[1] =  10000\n",
            "true count =  1799 label.shape[1] =  1800\n",
            "true count =  9966 label.shape[1] =  10000\n",
            "true count =  1799 label.shape[1] =  1800\n",
            "true count =  9966 label.shape[1] =  10000\n",
            "true count =  1799 label.shape[1] =  1800\n"
          ]
        },
        {
          "output_type": "stream",
          "name": "stderr",
          "text": [
            "\r 58%|█████▊    | 290/500 [00:17<00:12, 16.79it/s]"
          ]
        },
        {
          "output_type": "stream",
          "name": "stdout",
          "text": [
            "true count =  9966 label.shape[1] =  10000\n",
            "true count =  1799 label.shape[1] =  1800\n",
            "true count =  9966 label.shape[1] =  10000\n",
            "true count =  1799 label.shape[1] =  1800\n",
            "true count =  9966 label.shape[1] =  10000\n",
            "true count =  1799 label.shape[1] =  1800\n",
            "true count =  9966 label.shape[1] =  10000\n",
            "true count =  1799 label.shape[1] =  1800\n"
          ]
        },
        {
          "output_type": "stream",
          "name": "stderr",
          "text": [
            " 59%|█████▉    | 294/500 [00:17<00:12, 16.87it/s]"
          ]
        },
        {
          "output_type": "stream",
          "name": "stdout",
          "text": [
            "true count =  9966 label.shape[1] =  10000\n",
            "true count =  1799 label.shape[1] =  1800\n",
            "true count =  9966 label.shape[1] =  10000\n",
            "true count =  1799 label.shape[1] =  1800\n",
            "true count =  9966 label.shape[1] =  10000\n",
            "true count =  1799 label.shape[1] =  1800\n",
            "true count =  9966 label.shape[1] =  10000\n",
            "true count =  1799 label.shape[1] =  1800\n"
          ]
        },
        {
          "output_type": "stream",
          "name": "stderr",
          "text": [
            " 60%|██████    | 300/500 [00:17<00:11, 17.39it/s]"
          ]
        },
        {
          "output_type": "stream",
          "name": "stdout",
          "text": [
            "true count =  9966 label.shape[1] =  10000\n",
            "true count =  1799 label.shape[1] =  1800\n",
            "true count =  9966 label.shape[1] =  10000\n",
            "true count =  1799 label.shape[1] =  1800\n",
            "true count =  9966 label.shape[1] =  10000\n",
            "true count =  1799 label.shape[1] =  1800\n",
            "true count =  9966 label.shape[1] =  10000\n",
            "true count =  1799 label.shape[1] =  1800\n"
          ]
        },
        {
          "output_type": "stream",
          "name": "stderr",
          "text": [
            "\r 60%|██████    | 302/500 [00:18<00:11, 17.34it/s]"
          ]
        },
        {
          "output_type": "stream",
          "name": "stdout",
          "text": [
            "true count =  9966 label.shape[1] =  10000\n",
            "true count =  1799 label.shape[1] =  1800\n",
            "true count =  9966 label.shape[1] =  10000\n",
            "true count =  1799 label.shape[1] =  1800\n",
            "true count =  9966 label.shape[1] =  10000\n",
            "true count =  1799 label.shape[1] =  1800\n",
            "true count =  9966 label.shape[1] =  10000\n",
            "true count =  1799 label.shape[1] =  1800\n"
          ]
        },
        {
          "output_type": "stream",
          "name": "stderr",
          "text": [
            " 61%|██████    | 306/500 [00:18<00:11, 16.49it/s]"
          ]
        },
        {
          "output_type": "stream",
          "name": "stdout",
          "text": [
            "true count =  9966 label.shape[1] =  10000\n",
            "true count =  1799 label.shape[1] =  1800\n",
            "true count =  9966 label.shape[1] =  10000\n",
            "true count =  1799 label.shape[1] =  1800\n",
            "true count =  9966 label.shape[1] =  10000\n",
            "true count =  1799 label.shape[1] =  1800\n",
            "true count =  9966 label.shape[1] =  10000\n",
            "true count =  1799 label.shape[1] =  1800\n"
          ]
        },
        {
          "output_type": "stream",
          "name": "stderr",
          "text": [
            " 62%|██████▏   | 310/500 [00:18<00:11, 16.38it/s]"
          ]
        },
        {
          "output_type": "stream",
          "name": "stdout",
          "text": [
            "true count =  9966 label.shape[1] =  10000\n",
            "true count =  1799 label.shape[1] =  1800\n",
            "true count =  9966 label.shape[1] =  10000\n",
            "true count =  1799 label.shape[1] =  1800\n",
            "true count =  9966 label.shape[1] =  10000\n",
            "true count =  1799 label.shape[1] =  1800\n",
            "true count =  9966 label.shape[1] =  10000\n",
            "true count =  1799 label.shape[1] =  1800\n"
          ]
        },
        {
          "output_type": "stream",
          "name": "stderr",
          "text": [
            " 63%|██████▎   | 314/500 [00:18<00:10, 17.11it/s]"
          ]
        },
        {
          "output_type": "stream",
          "name": "stdout",
          "text": [
            "true count =  9966 label.shape[1] =  10000\n",
            "true count =  1799 label.shape[1] =  1800\n",
            "true count =  9966 label.shape[1] =  10000\n",
            "true count =  1799 label.shape[1] =  1800\n",
            "true count =  9966 label.shape[1] =  10000\n",
            "true count =  1799 label.shape[1] =  1800\n",
            "true count =  9966 label.shape[1] =  10000\n",
            "true count =  1799 label.shape[1] =  1800\n"
          ]
        },
        {
          "output_type": "stream",
          "name": "stderr",
          "text": [
            " 64%|██████▎   | 318/500 [00:18<00:10, 17.15it/s]"
          ]
        },
        {
          "output_type": "stream",
          "name": "stdout",
          "text": [
            "true count =  9966 label.shape[1] =  10000\n",
            "true count =  1799 label.shape[1] =  1800\n",
            "true count =  9966 label.shape[1] =  10000\n",
            "true count =  1799 label.shape[1] =  1800\n",
            "true count =  9966 label.shape[1] =  10000\n",
            "true count =  1799 label.shape[1] =  1800\n",
            "true count =  9966 label.shape[1] =  10000\n",
            "true count =  1799 label.shape[1] =  1800\n"
          ]
        },
        {
          "output_type": "stream",
          "name": "stderr",
          "text": [
            " 64%|██████▍   | 322/500 [00:19<00:10, 17.32it/s]"
          ]
        },
        {
          "output_type": "stream",
          "name": "stdout",
          "text": [
            "true count =  9966 label.shape[1] =  10000\n",
            "true count =  1799 label.shape[1] =  1800\n",
            "true count =  9966 label.shape[1] =  10000\n",
            "true count =  1799 label.shape[1] =  1800\n",
            "true count =  9966 label.shape[1] =  10000\n",
            "true count =  1799 label.shape[1] =  1800\n",
            "true count =  9966 label.shape[1] =  10000\n",
            "true count =  1799 label.shape[1] =  1800\n"
          ]
        },
        {
          "output_type": "stream",
          "name": "stderr",
          "text": [
            " 65%|██████▌   | 326/500 [00:19<00:10, 17.31it/s]"
          ]
        },
        {
          "output_type": "stream",
          "name": "stdout",
          "text": [
            "true count =  9966 label.shape[1] =  10000\n",
            "true count =  1799 label.shape[1] =  1800\n",
            "true count =  9966 label.shape[1] =  10000\n",
            "true count =  1799 label.shape[1] =  1800\n",
            "true count =  9966 label.shape[1] =  10000\n",
            "true count =  1799 label.shape[1] =  1800\n",
            "true count =  9966 label.shape[1] =  10000\n",
            "true count =  1799 label.shape[1] =  1800\n"
          ]
        },
        {
          "output_type": "stream",
          "name": "stderr",
          "text": [
            " 66%|██████▌   | 330/500 [00:19<00:09, 17.14it/s]"
          ]
        },
        {
          "output_type": "stream",
          "name": "stdout",
          "text": [
            "true count =  9966 label.shape[1] =  10000\n",
            "true count =  1799 label.shape[1] =  1800\n",
            "true count =  9966 label.shape[1] =  10000\n",
            "true count =  1799 label.shape[1] =  1800\n",
            "true count =  9966 label.shape[1] =  10000\n",
            "true count =  1799 label.shape[1] =  1800\n",
            "true count =  9966 label.shape[1] =  10000\n",
            "true count =  1799 label.shape[1] =  1800\n"
          ]
        },
        {
          "output_type": "stream",
          "name": "stderr",
          "text": [
            " 67%|██████▋   | 334/500 [00:19<00:09, 17.25it/s]"
          ]
        },
        {
          "output_type": "stream",
          "name": "stdout",
          "text": [
            "true count =  9966 label.shape[1] =  10000\n",
            "true count =  1799 label.shape[1] =  1800\n",
            "true count =  9966 label.shape[1] =  10000\n",
            "true count =  1799 label.shape[1] =  1800\n",
            "true count =  9966 label.shape[1] =  10000\n",
            "true count =  1799 label.shape[1] =  1800\n",
            "true count =  9966 label.shape[1] =  10000\n",
            "true count =  1799 label.shape[1] =  1800\n"
          ]
        },
        {
          "output_type": "stream",
          "name": "stderr",
          "text": [
            " 68%|██████▊   | 338/500 [00:20<00:09, 17.42it/s]"
          ]
        },
        {
          "output_type": "stream",
          "name": "stdout",
          "text": [
            "true count =  9966 label.shape[1] =  10000\n",
            "true count =  1799 label.shape[1] =  1800\n",
            "true count =  9966 label.shape[1] =  10000\n",
            "true count =  1799 label.shape[1] =  1800\n",
            "true count =  9966 label.shape[1] =  10000\n",
            "true count =  1799 label.shape[1] =  1800\n",
            "true count =  9966 label.shape[1] =  10000\n",
            "true count =  1799 label.shape[1] =  1800\n"
          ]
        },
        {
          "output_type": "stream",
          "name": "stderr",
          "text": [
            " 68%|██████▊   | 342/500 [00:20<00:09, 17.31it/s]"
          ]
        },
        {
          "output_type": "stream",
          "name": "stdout",
          "text": [
            "true count =  9966 label.shape[1] =  10000\n",
            "true count =  1799 label.shape[1] =  1800\n",
            "true count =  9966 label.shape[1] =  10000\n",
            "true count =  1799 label.shape[1] =  1800\n",
            "true count =  9966 label.shape[1] =  10000\n",
            "true count =  1799 label.shape[1] =  1800\n",
            "true count =  9966 label.shape[1] =  10000\n",
            "true count =  1799 label.shape[1] =  1800\n"
          ]
        },
        {
          "output_type": "stream",
          "name": "stderr",
          "text": [
            " 69%|██████▉   | 346/500 [00:20<00:09, 16.57it/s]"
          ]
        },
        {
          "output_type": "stream",
          "name": "stdout",
          "text": [
            "true count =  9966 label.shape[1] =  10000\n",
            "true count =  1799 label.shape[1] =  1800\n",
            "true count =  9966 label.shape[1] =  10000\n",
            "true count =  1799 label.shape[1] =  1800\n",
            "true count =  9966 label.shape[1] =  10000\n",
            "true count =  1799 label.shape[1] =  1800\n",
            "true count =  9966 label.shape[1] =  10000\n",
            "true count =  1799 label.shape[1] =  1800\n"
          ]
        },
        {
          "output_type": "stream",
          "name": "stderr",
          "text": [
            " 70%|███████   | 350/500 [00:20<00:08, 16.85it/s]"
          ]
        },
        {
          "output_type": "stream",
          "name": "stdout",
          "text": [
            "true count =  9966 label.shape[1] =  10000\n",
            "true count =  1799 label.shape[1] =  1800\n",
            "true count =  9966 label.shape[1] =  10000\n",
            "true count =  1799 label.shape[1] =  1800\n",
            "true count =  9966 label.shape[1] =  10000\n",
            "true count =  1799 label.shape[1] =  1800\n",
            "true count =  9966 label.shape[1] =  10000\n",
            "true count =  1799 label.shape[1] =  1800\n"
          ]
        },
        {
          "output_type": "stream",
          "name": "stderr",
          "text": [
            " 71%|███████   | 354/500 [00:21<00:08, 17.28it/s]"
          ]
        },
        {
          "output_type": "stream",
          "name": "stdout",
          "text": [
            "true count =  9967 label.shape[1] =  10000\n",
            "true count =  1799 label.shape[1] =  1800\n",
            "true count =  9967 label.shape[1] =  10000\n",
            "true count =  1799 label.shape[1] =  1800\n",
            "true count =  9967 label.shape[1] =  10000\n",
            "true count =  1799 label.shape[1] =  1800\n",
            "true count =  9967 label.shape[1] =  10000\n",
            "true count =  1799 label.shape[1] =  1800\n"
          ]
        },
        {
          "output_type": "stream",
          "name": "stderr",
          "text": [
            " 72%|███████▏  | 358/500 [00:21<00:08, 17.17it/s]"
          ]
        },
        {
          "output_type": "stream",
          "name": "stdout",
          "text": [
            "true count =  9967 label.shape[1] =  10000\n",
            "true count =  1799 label.shape[1] =  1800\n",
            "true count =  9967 label.shape[1] =  10000\n",
            "true count =  1799 label.shape[1] =  1800\n",
            "true count =  9967 label.shape[1] =  10000\n",
            "true count =  1799 label.shape[1] =  1800\n",
            "true count =  9967 label.shape[1] =  10000\n",
            "true count =  1799 label.shape[1] =  1800\n"
          ]
        },
        {
          "output_type": "stream",
          "name": "stderr",
          "text": [
            " 72%|███████▏  | 362/500 [00:21<00:08, 16.96it/s]"
          ]
        },
        {
          "output_type": "stream",
          "name": "stdout",
          "text": [
            "true count =  9967 label.shape[1] =  10000\n",
            "true count =  1799 label.shape[1] =  1800\n",
            "true count =  9967 label.shape[1] =  10000\n",
            "true count =  1799 label.shape[1] =  1800\n",
            "true count =  9967 label.shape[1] =  10000\n",
            "true count =  1799 label.shape[1] =  1800\n",
            "true count =  9967 label.shape[1] =  10000\n",
            "true count =  1799 label.shape[1] =  1800\n"
          ]
        },
        {
          "output_type": "stream",
          "name": "stderr",
          "text": [
            " 73%|███████▎  | 366/500 [00:21<00:07, 16.94it/s]"
          ]
        },
        {
          "output_type": "stream",
          "name": "stdout",
          "text": [
            "true count =  9967 label.shape[1] =  10000\n",
            "true count =  1799 label.shape[1] =  1800\n",
            "true count =  9967 label.shape[1] =  10000\n",
            "true count =  1799 label.shape[1] =  1800\n",
            "true count =  9967 label.shape[1] =  10000\n",
            "true count =  1799 label.shape[1] =  1800\n",
            "true count =  9967 label.shape[1] =  10000\n",
            "true count =  1799 label.shape[1] =  1800\n"
          ]
        },
        {
          "output_type": "stream",
          "name": "stderr",
          "text": [
            " 74%|███████▍  | 370/500 [00:22<00:07, 17.15it/s]"
          ]
        },
        {
          "output_type": "stream",
          "name": "stdout",
          "text": [
            "true count =  9967 label.shape[1] =  10000\n",
            "true count =  1799 label.shape[1] =  1800\n",
            "true count =  9967 label.shape[1] =  10000\n",
            "true count =  1799 label.shape[1] =  1800\n",
            "true count =  9967 label.shape[1] =  10000\n",
            "true count =  1799 label.shape[1] =  1800\n",
            "true count =  9967 label.shape[1] =  10000\n",
            "true count =  1799 label.shape[1] =  1800\n"
          ]
        },
        {
          "output_type": "stream",
          "name": "stderr",
          "text": [
            " 75%|███████▍  | 374/500 [00:22<00:07, 17.33it/s]"
          ]
        },
        {
          "output_type": "stream",
          "name": "stdout",
          "text": [
            "true count =  9967 label.shape[1] =  10000\n",
            "true count =  1799 label.shape[1] =  1800\n",
            "true count =  9967 label.shape[1] =  10000\n",
            "true count =  1799 label.shape[1] =  1800\n",
            "true count =  9967 label.shape[1] =  10000\n",
            "true count =  1799 label.shape[1] =  1800\n",
            "true count =  9967 label.shape[1] =  10000\n",
            "true count =  1799 label.shape[1] =  1800\n"
          ]
        },
        {
          "output_type": "stream",
          "name": "stderr",
          "text": [
            " 76%|███████▌  | 378/500 [00:22<00:07, 17.34it/s]"
          ]
        },
        {
          "output_type": "stream",
          "name": "stdout",
          "text": [
            "true count =  9967 label.shape[1] =  10000\n",
            "true count =  1799 label.shape[1] =  1800\n",
            "true count =  9967 label.shape[1] =  10000\n",
            "true count =  1799 label.shape[1] =  1800\n",
            "true count =  9967 label.shape[1] =  10000\n",
            "true count =  1799 label.shape[1] =  1800\n",
            "true count =  9967 label.shape[1] =  10000\n",
            "true count =  1799 label.shape[1] =  1800\n"
          ]
        },
        {
          "output_type": "stream",
          "name": "stderr",
          "text": [
            " 76%|███████▋  | 382/500 [00:22<00:07, 16.82it/s]"
          ]
        },
        {
          "output_type": "stream",
          "name": "stdout",
          "text": [
            "true count =  9967 label.shape[1] =  10000\n",
            "true count =  1799 label.shape[1] =  1800\n",
            "true count =  9967 label.shape[1] =  10000\n",
            "true count =  1799 label.shape[1] =  1800\n",
            "true count =  9967 label.shape[1] =  10000\n",
            "true count =  1799 label.shape[1] =  1800\n",
            "true count =  9967 label.shape[1] =  10000\n",
            "true count =  1799 label.shape[1] =  1800\n"
          ]
        },
        {
          "output_type": "stream",
          "name": "stderr",
          "text": [
            " 77%|███████▋  | 386/500 [00:22<00:06, 17.37it/s]"
          ]
        },
        {
          "output_type": "stream",
          "name": "stdout",
          "text": [
            "true count =  9967 label.shape[1] =  10000\n",
            "true count =  1799 label.shape[1] =  1800\n",
            "true count =  9967 label.shape[1] =  10000\n",
            "true count =  1799 label.shape[1] =  1800\n",
            "true count =  9967 label.shape[1] =  10000\n",
            "true count =  1799 label.shape[1] =  1800\n",
            "true count =  9967 label.shape[1] =  10000\n",
            "true count =  1799 label.shape[1] =  1800\n"
          ]
        },
        {
          "output_type": "stream",
          "name": "stderr",
          "text": [
            " 78%|███████▊  | 390/500 [00:23<00:06, 17.31it/s]"
          ]
        },
        {
          "output_type": "stream",
          "name": "stdout",
          "text": [
            "true count =  9967 label.shape[1] =  10000\n",
            "true count =  1799 label.shape[1] =  1800\n",
            "true count =  9967 label.shape[1] =  10000\n",
            "true count =  1799 label.shape[1] =  1800\n",
            "true count =  9967 label.shape[1] =  10000\n",
            "true count =  1799 label.shape[1] =  1800\n",
            "true count =  9967 label.shape[1] =  10000\n",
            "true count =  1799 label.shape[1] =  1800\n"
          ]
        },
        {
          "output_type": "stream",
          "name": "stderr",
          "text": [
            " 79%|███████▉  | 394/500 [00:23<00:06, 17.30it/s]"
          ]
        },
        {
          "output_type": "stream",
          "name": "stdout",
          "text": [
            "true count =  9967 label.shape[1] =  10000\n",
            "true count =  1799 label.shape[1] =  1800\n",
            "true count =  9967 label.shape[1] =  10000\n",
            "true count =  1799 label.shape[1] =  1800\n",
            "true count =  9967 label.shape[1] =  10000\n",
            "true count =  1799 label.shape[1] =  1800\n",
            "true count =  9967 label.shape[1] =  10000\n",
            "true count =  1799 label.shape[1] =  1800\n"
          ]
        },
        {
          "output_type": "stream",
          "name": "stderr",
          "text": [
            " 80%|███████▉  | 398/500 [00:23<00:06, 16.81it/s]"
          ]
        },
        {
          "output_type": "stream",
          "name": "stdout",
          "text": [
            "true count =  9967 label.shape[1] =  10000\n",
            "true count =  1799 label.shape[1] =  1800\n",
            "true count =  9967 label.shape[1] =  10000\n",
            "true count =  1799 label.shape[1] =  1800\n",
            "true count =  9967 label.shape[1] =  10000\n",
            "true count =  1799 label.shape[1] =  1800\n",
            "true count =  9967 label.shape[1] =  10000\n",
            "true count =  1799 label.shape[1] =  1800\n"
          ]
        },
        {
          "output_type": "stream",
          "name": "stderr",
          "text": [
            " 81%|████████  | 404/500 [00:23<00:05, 17.39it/s]"
          ]
        },
        {
          "output_type": "stream",
          "name": "stdout",
          "text": [
            "true count =  9967 label.shape[1] =  10000\n",
            "true count =  1799 label.shape[1] =  1800\n",
            "true count =  9967 label.shape[1] =  10000\n",
            "true count =  1799 label.shape[1] =  1800\n",
            "true count =  9967 label.shape[1] =  10000\n",
            "true count =  1799 label.shape[1] =  1800\n",
            "true count =  9967 label.shape[1] =  10000\n",
            "true count =  1799 label.shape[1] =  1800\n"
          ]
        },
        {
          "output_type": "stream",
          "name": "stderr",
          "text": [
            "\r 81%|████████  | 406/500 [00:24<00:05, 17.14it/s]"
          ]
        },
        {
          "output_type": "stream",
          "name": "stdout",
          "text": [
            "true count =  9967 label.shape[1] =  10000\n",
            "true count =  1799 label.shape[1] =  1800\n",
            "true count =  9967 label.shape[1] =  10000\n",
            "true count =  1799 label.shape[1] =  1800\n",
            "true count =  9967 label.shape[1] =  10000\n",
            "true count =  1799 label.shape[1] =  1800\n",
            "true count =  9967 label.shape[1] =  10000\n",
            "true count =  1799 label.shape[1] =  1800\n"
          ]
        },
        {
          "output_type": "stream",
          "name": "stderr",
          "text": [
            " 82%|████████▏ | 410/500 [00:24<00:05, 16.99it/s]"
          ]
        },
        {
          "output_type": "stream",
          "name": "stdout",
          "text": [
            "true count =  9967 label.shape[1] =  10000\n",
            "true count =  1799 label.shape[1] =  1800\n",
            "true count =  9967 label.shape[1] =  10000\n",
            "true count =  1799 label.shape[1] =  1800\n",
            "true count =  9967 label.shape[1] =  10000\n",
            "true count =  1799 label.shape[1] =  1800\n",
            "true count =  9967 label.shape[1] =  10000\n",
            "true count =  1799 label.shape[1] =  1800\n"
          ]
        },
        {
          "output_type": "stream",
          "name": "stderr",
          "text": [
            " 83%|████████▎ | 414/500 [00:24<00:05, 16.94it/s]"
          ]
        },
        {
          "output_type": "stream",
          "name": "stdout",
          "text": [
            "true count =  9967 label.shape[1] =  10000\n",
            "true count =  1799 label.shape[1] =  1800\n",
            "true count =  9967 label.shape[1] =  10000\n",
            "true count =  1799 label.shape[1] =  1800\n",
            "true count =  9967 label.shape[1] =  10000\n",
            "true count =  1799 label.shape[1] =  1800\n",
            "true count =  9967 label.shape[1] =  10000\n",
            "true count =  1799 label.shape[1] =  1800\n"
          ]
        },
        {
          "output_type": "stream",
          "name": "stderr",
          "text": [
            " 84%|████████▍ | 420/500 [00:24<00:04, 17.69it/s]"
          ]
        },
        {
          "output_type": "stream",
          "name": "stdout",
          "text": [
            "true count =  9967 label.shape[1] =  10000\n",
            "true count =  1799 label.shape[1] =  1800\n",
            "true count =  9967 label.shape[1] =  10000\n",
            "true count =  1799 label.shape[1] =  1800\n",
            "true count =  9967 label.shape[1] =  10000\n",
            "true count =  1799 label.shape[1] =  1800\n",
            "true count =  9967 label.shape[1] =  10000\n",
            "true count =  1799 label.shape[1] =  1800\n"
          ]
        },
        {
          "output_type": "stream",
          "name": "stderr",
          "text": [
            "\r 84%|████████▍ | 422/500 [00:25<00:04, 17.49it/s]"
          ]
        },
        {
          "output_type": "stream",
          "name": "stdout",
          "text": [
            "true count =  9967 label.shape[1] =  10000\n",
            "true count =  1799 label.shape[1] =  1800\n",
            "true count =  9967 label.shape[1] =  10000\n",
            "true count =  1799 label.shape[1] =  1800\n",
            "true count =  9967 label.shape[1] =  10000\n",
            "true count =  1799 label.shape[1] =  1800\n",
            "true count =  9967 label.shape[1] =  10000\n",
            "true count =  1799 label.shape[1] =  1800\n"
          ]
        },
        {
          "output_type": "stream",
          "name": "stderr",
          "text": [
            " 85%|████████▌ | 426/500 [00:25<00:04, 17.29it/s]"
          ]
        },
        {
          "output_type": "stream",
          "name": "stdout",
          "text": [
            "true count =  9967 label.shape[1] =  10000\n",
            "true count =  1799 label.shape[1] =  1800\n",
            "true count =  9968 label.shape[1] =  10000\n",
            "true count =  1799 label.shape[1] =  1800\n",
            "true count =  9968 label.shape[1] =  10000\n",
            "true count =  1799 label.shape[1] =  1800\n",
            "true count =  9968 label.shape[1] =  10000\n",
            "true count =  1799 label.shape[1] =  1800\n"
          ]
        },
        {
          "output_type": "stream",
          "name": "stderr",
          "text": [
            " 86%|████████▌ | 430/500 [00:25<00:04, 16.88it/s]"
          ]
        },
        {
          "output_type": "stream",
          "name": "stdout",
          "text": [
            "true count =  9968 label.shape[1] =  10000\n",
            "true count =  1799 label.shape[1] =  1800\n",
            "true count =  9968 label.shape[1] =  10000\n",
            "true count =  1799 label.shape[1] =  1800\n",
            "true count =  9968 label.shape[1] =  10000\n",
            "true count =  1799 label.shape[1] =  1800\n",
            "true count =  9968 label.shape[1] =  10000\n",
            "true count =  1799 label.shape[1] =  1800\n"
          ]
        },
        {
          "output_type": "stream",
          "name": "stderr",
          "text": [
            " 87%|████████▋ | 434/500 [00:25<00:04, 16.49it/s]"
          ]
        },
        {
          "output_type": "stream",
          "name": "stdout",
          "text": [
            "true count =  9968 label.shape[1] =  10000\n",
            "true count =  1799 label.shape[1] =  1800\n",
            "true count =  9968 label.shape[1] =  10000\n",
            "true count =  1799 label.shape[1] =  1800\n",
            "true count =  9968 label.shape[1] =  10000\n",
            "true count =  1799 label.shape[1] =  1800\n",
            "true count =  9968 label.shape[1] =  10000\n",
            "true count =  1799 label.shape[1] =  1800\n"
          ]
        },
        {
          "output_type": "stream",
          "name": "stderr",
          "text": [
            " 88%|████████▊ | 438/500 [00:25<00:03, 16.52it/s]"
          ]
        },
        {
          "output_type": "stream",
          "name": "stdout",
          "text": [
            "true count =  9968 label.shape[1] =  10000\n",
            "true count =  1799 label.shape[1] =  1800\n",
            "true count =  9968 label.shape[1] =  10000\n",
            "true count =  1799 label.shape[1] =  1800\n",
            "true count =  9968 label.shape[1] =  10000\n",
            "true count =  1799 label.shape[1] =  1800\n",
            "true count =  9968 label.shape[1] =  10000\n",
            "true count =  1799 label.shape[1] =  1800\n"
          ]
        },
        {
          "output_type": "stream",
          "name": "stderr",
          "text": [
            " 88%|████████▊ | 442/500 [00:26<00:03, 16.67it/s]"
          ]
        },
        {
          "output_type": "stream",
          "name": "stdout",
          "text": [
            "true count =  9968 label.shape[1] =  10000\n",
            "true count =  1799 label.shape[1] =  1800\n",
            "true count =  9968 label.shape[1] =  10000\n",
            "true count =  1799 label.shape[1] =  1800\n",
            "true count =  9968 label.shape[1] =  10000\n",
            "true count =  1799 label.shape[1] =  1800\n",
            "true count =  9968 label.shape[1] =  10000\n",
            "true count =  1799 label.shape[1] =  1800\n"
          ]
        },
        {
          "output_type": "stream",
          "name": "stderr",
          "text": [
            " 89%|████████▉ | 446/500 [00:26<00:03, 16.76it/s]"
          ]
        },
        {
          "output_type": "stream",
          "name": "stdout",
          "text": [
            "true count =  9968 label.shape[1] =  10000\n",
            "true count =  1799 label.shape[1] =  1800\n",
            "true count =  9968 label.shape[1] =  10000\n",
            "true count =  1799 label.shape[1] =  1800\n",
            "true count =  9968 label.shape[1] =  10000\n",
            "true count =  1799 label.shape[1] =  1800\n",
            "true count =  9968 label.shape[1] =  10000\n",
            "true count =  1799 label.shape[1] =  1800\n"
          ]
        },
        {
          "output_type": "stream",
          "name": "stderr",
          "text": [
            " 90%|█████████ | 450/500 [00:26<00:02, 16.75it/s]"
          ]
        },
        {
          "output_type": "stream",
          "name": "stdout",
          "text": [
            "true count =  9968 label.shape[1] =  10000\n",
            "true count =  1799 label.shape[1] =  1800\n",
            "true count =  9968 label.shape[1] =  10000\n",
            "true count =  1799 label.shape[1] =  1800\n",
            "true count =  9968 label.shape[1] =  10000\n",
            "true count =  1799 label.shape[1] =  1800\n",
            "true count =  9968 label.shape[1] =  10000\n",
            "true count =  1799 label.shape[1] =  1800\n"
          ]
        },
        {
          "output_type": "stream",
          "name": "stderr",
          "text": [
            " 91%|█████████ | 454/500 [00:26<00:02, 16.41it/s]"
          ]
        },
        {
          "output_type": "stream",
          "name": "stdout",
          "text": [
            "true count =  9969 label.shape[1] =  10000\n",
            "true count =  1799 label.shape[1] =  1800\n",
            "true count =  9969 label.shape[1] =  10000\n",
            "true count =  1799 label.shape[1] =  1800\n",
            "true count =  9969 label.shape[1] =  10000\n",
            "true count =  1799 label.shape[1] =  1800\n",
            "true count =  9969 label.shape[1] =  10000\n",
            "true count =  1799 label.shape[1] =  1800\n"
          ]
        },
        {
          "output_type": "stream",
          "name": "stderr",
          "text": [
            " 92%|█████████▏| 458/500 [00:27<00:02, 16.48it/s]"
          ]
        },
        {
          "output_type": "stream",
          "name": "stdout",
          "text": [
            "true count =  9969 label.shape[1] =  10000\n",
            "true count =  1799 label.shape[1] =  1800\n",
            "true count =  9969 label.shape[1] =  10000\n",
            "true count =  1799 label.shape[1] =  1800\n",
            "true count =  9970 label.shape[1] =  10000\n",
            "true count =  1799 label.shape[1] =  1800\n",
            "true count =  9970 label.shape[1] =  10000\n",
            "true count =  1799 label.shape[1] =  1800\n"
          ]
        },
        {
          "output_type": "stream",
          "name": "stderr",
          "text": [
            " 92%|█████████▏| 462/500 [00:27<00:02, 15.84it/s]"
          ]
        },
        {
          "output_type": "stream",
          "name": "stdout",
          "text": [
            "true count =  9970 label.shape[1] =  10000\n",
            "true count =  1799 label.shape[1] =  1800\n",
            "true count =  9970 label.shape[1] =  10000\n",
            "true count =  1799 label.shape[1] =  1800\n",
            "true count =  9970 label.shape[1] =  10000\n",
            "true count =  1799 label.shape[1] =  1800\n",
            "true count =  9970 label.shape[1] =  10000\n",
            "true count = "
          ]
        },
        {
          "output_type": "stream",
          "name": "stderr",
          "text": [
            " 93%|█████████▎| 466/500 [00:27<00:02, 15.79it/s]"
          ]
        },
        {
          "output_type": "stream",
          "name": "stdout",
          "text": [
            " 1799 label.shape[1] =  1800\n",
            "true count =  9970 label.shape[1] =  10000\n",
            "true count =  1799 label.shape[1] =  1800\n",
            "true count =  9970 label.shape[1] =  10000\n",
            "true count =  1799 label.shape[1] =  1800\n",
            "true count =  9970 label.shape[1] = "
          ]
        },
        {
          "output_type": "stream",
          "name": "stderr",
          "text": [
            "\r 94%|█████████▎| 468/500 [00:27<00:02, 15.39it/s]"
          ]
        },
        {
          "output_type": "stream",
          "name": "stdout",
          "text": [
            " 10000\n",
            "true count =  1799 label.shape[1] =  1800\n",
            "true count =  9970 label.shape[1] =  10000\n",
            "true count =  1799 label.shape[1] =  1800\n",
            "true count =  9970 label.shape[1] =  10000\n",
            "true count =  1799 label.shape[1] =  1800\n",
            "true count =  9970 label.shape[1] =  10000\n",
            "true count =  1799 label.shape[1] =  1800\n"
          ]
        },
        {
          "output_type": "stream",
          "name": "stderr",
          "text": [
            " 94%|█████████▍| 472/500 [00:28<00:01, 15.71it/s]"
          ]
        },
        {
          "output_type": "stream",
          "name": "stdout",
          "text": [
            "true count =  9970 label.shape[1] =  10000\n",
            "true count =  1799 label.shape[1] =  1800\n",
            "true count =  9970 label.shape[1] =  10000\n",
            "true count =  1799 label.shape[1] =  1800\n",
            "true count =  9970 label.shape[1] =  10000\n",
            "true count =  1799 label.shape[1] =  1800\n",
            "true count =  9970 label.shape[1] =  10000\n",
            "true count =  1799 label.shape[1] =  1800\n"
          ]
        },
        {
          "output_type": "stream",
          "name": "stderr",
          "text": [
            " 95%|█████████▌| 476/500 [00:28<00:01, 16.16it/s]"
          ]
        },
        {
          "output_type": "stream",
          "name": "stdout",
          "text": [
            "true count =  9970 label.shape[1] =  10000\n",
            "true count =  1799 label.shape[1] =  1800\n",
            "true count =  9970 label.shape[1] =  10000\n",
            "true count =  1799 label.shape[1] =  1800\n",
            "true count =  9970 label.shape[1] =  10000\n",
            "true count =  1799 label.shape[1] =  1800\n",
            "true count =  9970 label.shape[1] =  10000\n",
            "true count =  1799 label.shape[1] =  1800\n"
          ]
        },
        {
          "output_type": "stream",
          "name": "stderr",
          "text": [
            " 96%|█████████▋| 482/500 [00:28<00:01, 17.21it/s]"
          ]
        },
        {
          "output_type": "stream",
          "name": "stdout",
          "text": [
            "true count =  9970 label.shape[1] =  10000\n",
            "true count =  1799 label.shape[1] =  1800\n",
            "true count =  9970 label.shape[1] =  10000\n",
            "true count =  1799 label.shape[1] =  1800\n",
            "true count =  9970 label.shape[1] =  10000\n",
            "true count =  1799 label.shape[1] =  1800\n",
            "true count =  9970 label.shape[1] =  10000\n",
            "true count =  1799 label.shape[1] =  1800\n"
          ]
        },
        {
          "output_type": "stream",
          "name": "stderr",
          "text": [
            "\r 97%|█████████▋| 484/500 [00:28<00:00, 16.58it/s]"
          ]
        },
        {
          "output_type": "stream",
          "name": "stdout",
          "text": [
            "true count =  9970 label.shape[1] =  10000\n",
            "true count =  1799 label.shape[1] =  1800\n",
            "true count =  9970 label.shape[1] =  10000\n",
            "true count =  1799 label.shape[1] =  1800\n",
            "true count =  9970 label.shape[1] =  10000\n",
            "true count =  1799 label.shape[1] =  1800\n",
            "true count =  9970 label.shape[1] =  10000\n",
            "true count =  1799 label.shape[1] =  1800\n"
          ]
        },
        {
          "output_type": "stream",
          "name": "stderr",
          "text": [
            " 98%|█████████▊| 490/500 [00:29<00:00, 17.25it/s]"
          ]
        },
        {
          "output_type": "stream",
          "name": "stdout",
          "text": [
            "true count =  9970 label.shape[1] =  10000\n",
            "true count =  1799 label.shape[1] =  1800\n",
            "true count =  9970 label.shape[1] =  10000\n",
            "true count =  1799 label.shape[1] =  1800\n",
            "true count =  9970 label.shape[1] =  10000\n",
            "true count =  1799 label.shape[1] =  1800\n",
            "true count =  9970 label.shape[1] =  10000\n",
            "true count =  1799 label.shape[1] =  1800\n"
          ]
        },
        {
          "output_type": "stream",
          "name": "stderr",
          "text": [
            " 99%|█████████▉| 494/500 [00:29<00:00, 17.31it/s]"
          ]
        },
        {
          "output_type": "stream",
          "name": "stdout",
          "text": [
            "true count =  9970 label.shape[1] =  10000\n",
            "true count =  1799 label.shape[1] =  1800\n",
            "true count =  9970 label.shape[1] =  10000\n",
            "true count =  1799 label.shape[1] =  1800\n",
            "true count =  9970 label.shape[1] =  10000\n",
            "true count =  1799 label.shape[1] =  1800\n",
            "true count =  9970 label.shape[1] =  10000\n",
            "true count =  1799 label.shape[1] =  1800\n"
          ]
        },
        {
          "output_type": "stream",
          "name": "stderr",
          "text": [
            "100%|█████████▉| 498/500 [00:29<00:00, 17.32it/s]"
          ]
        },
        {
          "output_type": "stream",
          "name": "stdout",
          "text": [
            "true count =  9970 label.shape[1] =  10000\n",
            "true count =  1799 label.shape[1] =  1800\n",
            "true count =  9970 label.shape[1] =  10000\n",
            "true count =  1799 label.shape[1] =  1800\n",
            "true count =  9970 label.shape[1] =  10000\n",
            "true count =  1799 label.shape[1] =  1800\n",
            "true count =  9970 label.shape[1] =  10000\n",
            "true count =  1799 label.shape[1] =  1800\n"
          ]
        },
        {
          "output_type": "stream",
          "name": "stderr",
          "text": [
            "100%|██████████| 500/500 [00:29<00:00, 16.81it/s]"
          ]
        },
        {
          "output_type": "stream",
          "name": "stdout",
          "text": [
            "true count =  9970 label.shape[1] =  10000\n",
            "true count =  1799 label.shape[1] =  1800\n",
            "true count =  9970 label.shape[1] =  10000\n",
            "true count =  1799 label.shape[1] =  1800\n"
          ]
        },
        {
          "output_type": "stream",
          "name": "stderr",
          "text": [
            "\n"
          ]
        }
      ],
      "source": [
        "for i in tqdm(range(number_iteration)):\n",
        "\n",
        "# ================================================== \n",
        "# fill up the blank\n",
        "#    weight를 update gradient descent\n",
        "\n",
        "    # prediction 먼저 수행\n",
        "    #(1, 784) dot (784, 10000) -> (1, 10000)\n",
        "    train_prediction = compute_prediction(x_train, weight)\n",
        "    #(1, 784) dot (784, 1800) -> (1, 1800)\n",
        "    test_prediction = compute_prediction(x_test, weight)\n",
        "\n",
        "    # loss \n",
        "    # 둘다 (1, 10000) -> (1, 10000)\n",
        "    train_loss = compute_loss(train_prediction, y_train)\n",
        "    # 둘다 (1, 1800) -> (1, 1800)\n",
        "    test_loss = compute_loss(test_prediction, y_test)\n",
        "\n",
        "    # accuracy\n",
        "    train_accuracy = compute_accuracy(train_prediction, y_train)\n",
        "    test_accuracy = compute_accuracy(test_prediction, y_test)\n",
        "\n",
        "    # gradient descent\n",
        "    # 행 별 합 연산후, (1,784)로 reshape\n",
        "    weight -= compute_gradient_weight(x_train, y_train, train_prediction).sum(axis=1).reshape(1, x_train.shape[0]) * learning_rate / x_train.shape[1] \n",
        "\n",
        "\n",
        "#\n",
        "# ==================================================\n",
        "    accuracy_train[i]   = train_accuracy\n",
        "    accuracy_test[i]    = test_accuracy\n",
        "    \n",
        "    loss_train_mean[i]  = np.mean(train_loss)\n",
        "    loss_train_std[i]   = np.std(train_loss)\n",
        "    loss_test_mean[i]   = np.mean(test_loss)\n",
        "    loss_test_std[i]    = np.std(test_loss)\n",
        "\n",
        "    prediction_train_0_mean[i]  = np.mean(train_prediction[0, :5000])\n",
        "    prediction_train_0_std[i]   = np.std(train_prediction[0, :5000])\n",
        "    prediction_train_1_mean[i]  = np.mean(train_prediction[0, 5000:])\n",
        "    prediction_train_1_std[i]   = np.std(train_prediction[0, 5000:])\n",
        "    prediction_test_0_mean[i]   = np.mean(test_prediction[0, :900])\n",
        "    prediction_test_0_std[i]    = np.std(test_prediction[0, :900])\n",
        "    prediction_test_1_mean[i]   = np.mean(test_prediction[0, 900:])\n",
        "    prediction_test_1_std[i]    = np.std(test_prediction[0, 900:])"
      ]
    },
    {
      "cell_type": "markdown",
      "metadata": {
        "id": "m20ZH36KYvVP"
      },
      "source": [
        "---"
      ]
    },
    {
      "cell_type": "markdown",
      "metadata": {
        "id": "De4blPdhYvVP"
      },
      "source": [
        "## functions for presenting the results"
      ]
    },
    {
      "cell_type": "markdown",
      "metadata": {
        "id": "H7pvsNa2YvVP"
      },
      "source": [
        "---"
      ]
    },
    {
      "cell_type": "code",
      "execution_count": 84,
      "metadata": {
        "id": "Z1vFqXk4YvVP"
      },
      "outputs": [],
      "source": [
        "def function_result_01():\n",
        "\n",
        "    title           = 'loss (training)'\n",
        "    label_axis_x    = 'iteration' \n",
        "    label_axis_y    = 'loss'\n",
        "    color_mean      = 'red'\n",
        "    color_std       = 'blue'\n",
        "    alpha           = 0.3\n",
        "\n",
        "    plt.figure(figsize=(8, 6))\n",
        "    plt.title(title)\n",
        "\n",
        "    plt.plot(range(len(loss_train_mean)), loss_train_mean, '-', color = color_mean)\n",
        "    plt.fill_between(range(len(loss_train_mean)), loss_train_mean - loss_train_std, loss_train_mean + loss_train_std, facecolor = color_std, alpha = alpha) \n",
        "    \n",
        "    plt.xlabel(label_axis_x)\n",
        "    plt.ylabel(label_axis_y)\n",
        "\n",
        "    plt.tight_layout()\n",
        "    plt.show()"
      ]
    },
    {
      "cell_type": "code",
      "execution_count": 85,
      "metadata": {
        "id": "60gM7K3wYvVP"
      },
      "outputs": [],
      "source": [
        "def function_result_02():\n",
        "\n",
        "    title           = 'loss (testing)'\n",
        "    label_axis_x    = 'iteration' \n",
        "    label_axis_y    = 'loss'\n",
        "    color_mean      = 'red'\n",
        "    color_std       = 'blue'\n",
        "    alpha           = 0.3\n",
        "\n",
        "    plt.figure(figsize=(8, 6))\n",
        "    plt.title(title)\n",
        "\n",
        "    plt.plot(range(len(loss_test_mean)), loss_test_mean, '-', color = color_mean)\n",
        "    plt.fill_between(range(len(loss_test_mean)), loss_test_mean - loss_test_std, loss_test_mean + loss_test_std, facecolor = color_std, alpha = alpha) \n",
        "    \n",
        "    plt.xlabel(label_axis_x)\n",
        "    plt.ylabel(label_axis_y)\n",
        "\n",
        "    plt.tight_layout()\n",
        "    plt.show()"
      ]
    },
    {
      "cell_type": "code",
      "execution_count": 86,
      "metadata": {
        "id": "qN6IVukZYvVP"
      },
      "outputs": [],
      "source": [
        "def function_result_03():\n",
        "\n",
        "    title           = 'prediction for 0 (training)'\n",
        "    label_axis_x    = 'iteration' \n",
        "    label_axis_y    = 'prediction'\n",
        "    color_mean      = 'red'\n",
        "    color_std       = 'blue'\n",
        "    alpha           = 0.3\n",
        "\n",
        "    plt.figure(figsize=(8, 6))\n",
        "    plt.title(title)\n",
        "\n",
        "    plt.plot(range(len(prediction_train_0_mean)), prediction_train_0_mean, '-', color = color_mean)\n",
        "    plt.fill_between(range(len(prediction_train_0_mean)), prediction_train_0_mean - prediction_train_0_std, prediction_train_0_mean + prediction_train_0_std, facecolor = color_std, alpha = alpha) \n",
        "    \n",
        "    plt.xlabel(label_axis_x)\n",
        "    plt.ylabel(label_axis_y)\n",
        "\n",
        "    plt.tight_layout()\n",
        "    plt.show()"
      ]
    },
    {
      "cell_type": "code",
      "execution_count": 87,
      "metadata": {
        "id": "lR5yAP2tYvVQ"
      },
      "outputs": [],
      "source": [
        "def function_result_04():\n",
        "\n",
        "    title           = 'prediction for 1 (training)'\n",
        "    label_axis_x    = 'iteration' \n",
        "    label_axis_y    = 'prediction'\n",
        "    color_mean      = 'red'\n",
        "    color_std       = 'blue'\n",
        "    alpha           = 0.3\n",
        "\n",
        "    plt.figure(figsize=(8, 6))\n",
        "    plt.title(title)\n",
        "\n",
        "    plt.plot(range(len(prediction_train_1_mean)), prediction_train_1_mean, '-', color = color_mean)\n",
        "    plt.fill_between(range(len(prediction_train_1_mean)), prediction_train_1_mean - prediction_train_1_std, prediction_train_1_mean + prediction_train_1_std, facecolor = color_std, alpha = alpha) \n",
        "    \n",
        "    plt.xlabel(label_axis_x)\n",
        "    plt.ylabel(label_axis_y)\n",
        "\n",
        "    plt.tight_layout()\n",
        "    plt.show()"
      ]
    },
    {
      "cell_type": "code",
      "execution_count": 88,
      "metadata": {
        "id": "hMR13O_nYvVQ"
      },
      "outputs": [],
      "source": [
        "def function_result_05():\n",
        "\n",
        "    title           = 'prediction for 0 (testing)'\n",
        "    label_axis_x    = 'iteration' \n",
        "    label_axis_y    = 'prediction'\n",
        "    color_mean      = 'red'\n",
        "    color_std       = 'blue'\n",
        "    alpha           = 0.3\n",
        "\n",
        "    plt.figure(figsize=(8, 6))\n",
        "    plt.title(title)\n",
        "\n",
        "    plt.plot(range(len(prediction_test_0_mean)), prediction_test_0_mean, '-', color = color_mean)\n",
        "    plt.fill_between(range(len(prediction_test_0_mean)), prediction_test_0_mean - prediction_test_0_std, prediction_test_0_mean + prediction_test_0_std, facecolor = color_std, alpha = alpha) \n",
        "    \n",
        "    plt.xlabel(label_axis_x)\n",
        "    plt.ylabel(label_axis_y)\n",
        "\n",
        "    plt.tight_layout()\n",
        "    plt.show()"
      ]
    },
    {
      "cell_type": "code",
      "execution_count": 89,
      "metadata": {
        "id": "l9BAeY1VYvVQ"
      },
      "outputs": [],
      "source": [
        "def function_result_06():\n",
        "\n",
        "    title           = 'prediction for 1 (testing)'\n",
        "    label_axis_x    = 'iteration' \n",
        "    label_axis_y    = 'prediction'\n",
        "    color_mean      = 'red'\n",
        "    color_std       = 'blue'\n",
        "    alpha           = 0.3\n",
        "\n",
        "    plt.figure(figsize=(8, 6))\n",
        "    plt.title(title)\n",
        "\n",
        "    plt.plot(range(len(prediction_test_1_mean)), prediction_test_1_mean, '-', color = color_mean)\n",
        "    plt.fill_between(range(len(prediction_test_1_mean)), prediction_test_1_mean - prediction_test_1_std, prediction_test_1_mean + prediction_test_1_std, facecolor = color_std, alpha = alpha) \n",
        "    \n",
        "    plt.xlabel(label_axis_x)\n",
        "    plt.ylabel(label_axis_y)\n",
        "\n",
        "    plt.tight_layout()\n",
        "    plt.show()"
      ]
    },
    {
      "cell_type": "code",
      "execution_count": 90,
      "metadata": {
        "id": "hLEP_G66YvVQ"
      },
      "outputs": [],
      "source": [
        "def function_result_07():\n",
        "\n",
        "    title           = 'accuracy (training)'\n",
        "    label_axis_x    = 'iteration' \n",
        "    label_axis_y    = 'accuracy'\n",
        "\n",
        "    plt.figure(figsize=(8, 6))\n",
        "    plt.title(title)\n",
        "\n",
        "    plt.plot(range(len(accuracy_train)), accuracy_train, '-', color = 'red')\n",
        "    \n",
        "    plt.xlabel(label_axis_x)\n",
        "    plt.ylabel(label_axis_y)\n",
        "\n",
        "    plt.tight_layout()\n",
        "    plt.show()"
      ]
    },
    {
      "cell_type": "code",
      "execution_count": 91,
      "metadata": {
        "id": "rGtQ3ccCYvVQ"
      },
      "outputs": [],
      "source": [
        "def function_result_08():\n",
        "\n",
        "    title           = 'accuracy (testing)'\n",
        "    label_axis_x    = 'iteration' \n",
        "    label_axis_y    = 'accuracy'\n",
        "\n",
        "    plt.figure(figsize=(8, 6))\n",
        "    plt.title(title)\n",
        "\n",
        "    plt.plot(range(len(accuracy_test)), accuracy_test, '-', color = 'red')\n",
        "    \n",
        "    plt.xlabel(label_axis_x)\n",
        "    plt.ylabel(label_axis_y)\n",
        "\n",
        "    plt.tight_layout()\n",
        "    plt.show()"
      ]
    },
    {
      "cell_type": "code",
      "execution_count": 92,
      "metadata": {
        "id": "N-Ab4uhrYvVQ"
      },
      "outputs": [],
      "source": [
        "def function_result_09():\n",
        "\n",
        "    print('final training loss = %6.5f' % (loss_train_mean[-1]))"
      ]
    },
    {
      "cell_type": "code",
      "execution_count": 93,
      "metadata": {
        "id": "lNC98rP5YvVQ"
      },
      "outputs": [],
      "source": [
        "def function_result_10():\n",
        "\n",
        "    print('final testing loss = %6.5f' % (loss_test_mean[-1]))"
      ]
    },
    {
      "cell_type": "code",
      "execution_count": 94,
      "metadata": {
        "id": "ZazyGhpUYvVR"
      },
      "outputs": [],
      "source": [
        "def function_result_11():\n",
        "\n",
        "    print('final training accuracy = %6.5f' % (accuracy_train[-1]))"
      ]
    },
    {
      "cell_type": "code",
      "execution_count": 95,
      "metadata": {
        "id": "4OJevV35YvVR"
      },
      "outputs": [],
      "source": [
        "def function_result_12():\n",
        "\n",
        "    print('final testing accuracy = %6.5f' % (accuracy_test[-1]))"
      ]
    },
    {
      "cell_type": "markdown",
      "metadata": {
        "id": "S5ASx-fOYvVR"
      },
      "source": [
        "---"
      ]
    },
    {
      "cell_type": "markdown",
      "metadata": {
        "id": "98ovpBibYvVR"
      },
      "source": [
        "## results "
      ]
    },
    {
      "cell_type": "markdown",
      "metadata": {
        "id": "2XgZd1kAYvVR"
      },
      "source": [
        "---"
      ]
    },
    {
      "cell_type": "code",
      "execution_count": 96,
      "metadata": {
        "id": "odu2PlI2YvVR",
        "outputId": "2d613595-36f5-4e44-d9a8-f075b9e6e683",
        "colab": {
          "base_uri": "https://localhost:8080/",
          "height": 1000
        }
      },
      "outputs": [
        {
          "output_type": "stream",
          "name": "stdout",
          "text": [
            "\n",
            "################################################################################\n",
            "#\n",
            "# RESULT # 01\n",
            "#\n",
            "################################################################################\n",
            "\n"
          ]
        },
        {
          "output_type": "display_data",
          "data": {
            "text/plain": [
              "<Figure size 576x432 with 1 Axes>"
            ],
            "image/png": "[encoded data removed]"
          },
          "metadata": {
            "needs_background": "light"
          }
        },
        {
          "output_type": "stream",
          "name": "stdout",
          "text": [
            "\n",
            "################################################################################\n",
            "#\n",
            "# RESULT # 02\n",
            "#\n",
            "################################################################################\n",
            "\n"
          ]
        },
        {
          "output_type": "display_data",
          "data": {
            "text/plain": [
              "<Figure size 576x432 with 1 Axes>"
            ],
            "image/png": "[encoded data removed]"
          },
          "metadata": {
            "needs_background": "light"
          }
        },
        {
          "output_type": "stream",
          "name": "stdout",
          "text": [
            "\n",
            "################################################################################\n",
            "#\n",
            "# RESULT # 03\n",
            "#\n",
            "################################################################################\n",
            "\n"
          ]
        },
        {
          "output_type": "display_data",
          "data": {
            "text/plain": [
              "<Figure size 576x432 with 1 Axes>"
            ],
            "image/png": "[encoded data removed]"
          },
          "metadata": {
            "needs_background": "light"
          }
        },
        {
          "output_type": "stream",
          "name": "stdout",
          "text": [
            "\n",
            "################################################################################\n",
            "#\n",
            "# RESULT # 04\n",
            "#\n",
            "################################################################################\n",
            "\n"
          ]
        },
        {
          "output_type": "display_data",
          "data": {
            "text/plain": [
              "<Figure size 576x432 with 1 Axes>"
            ],
            "image/png": "[encoded data removed]"
          },
          "metadata": {
            "needs_background": "light"
          }
        },
        {
          "output_type": "stream",
          "name": "stdout",
          "text": [
            "\n",
            "################################################################################\n",
            "#\n",
            "# RESULT # 05\n",
            "#\n",
            "################################################################################\n",
            "\n"
          ]
        },
        {
          "output_type": "display_data",
          "data": {
            "text/plain": [
              "<Figure size 576x432 with 1 Axes>"
            ],
            "image/png": "[encoded data removed]"
          },
          "metadata": {
            "needs_background": "light"
          }
        },
        {
          "output_type": "stream",
          "name": "stdout",
          "text": [
            "\n",
            "################################################################################\n",
            "#\n",
            "# RESULT # 06\n",
            "#\n",
            "################################################################################\n",
            "\n"
          ]
        },
        {
          "output_type": "display_data",
          "data": {
            "text/plain": [
              "<Figure size 576x432 with 1 Axes>"
            ],
            "image/png": "[encoded data removed]"
          },
          "metadata": {
            "needs_background": "light"
          }
        },
        {
          "output_type": "stream",
          "name": "stdout",
          "text": [
            "\n",
            "################################################################################\n",
            "#\n",
            "# RESULT # 07\n",
            "#\n",
            "################################################################################\n",
            "\n"
          ]
        },
        {
          "output_type": "display_data",
          "data": {
            "text/plain": [
              "<Figure size 576x432 with 1 Axes>"
            ],
            "image/png": "[encoded data removed]"
          },
          "metadata": {
            "needs_background": "light"
          }
        },
        {
          "output_type": "stream",
          "name": "stdout",
          "text": [
            "\n",
            "################################################################################\n",
            "#\n",
            "# RESULT # 08\n",
            "#\n",
            "################################################################################\n",
            "\n"
          ]
        },
        {
          "output_type": "display_data",
          "data": {
            "text/plain": [
              "<Figure size 576x432 with 1 Axes>"
            ],
            "image/png": "[encoded data removed]"
          },
          "metadata": {
            "needs_background": "light"
          }
        },
        {
          "output_type": "stream",
          "name": "stdout",
          "text": [
            "\n",
            "################################################################################\n",
            "#\n",
            "# RESULT # 09\n",
            "#\n",
            "################################################################################\n",
            "\n",
            "final training loss = 0.03675\n",
            "\n",
            "################################################################################\n",
            "#\n",
            "# RESULT # 10\n",
            "#\n",
            "################################################################################\n",
            "\n",
            "final testing loss = 0.02988\n",
            "\n",
            "################################################################################\n",
            "#\n",
            "# RESULT # 11\n",
            "#\n",
            "################################################################################\n",
            "\n",
            "final training accuracy = 0.99700\n",
            "\n",
            "################################################################################\n",
            "#\n",
            "# RESULT # 12\n",
            "#\n",
            "################################################################################\n",
            "\n",
            "final testing accuracy = 0.99944\n"
          ]
        }
      ],
      "source": [
        "number_result = 12 \n",
        "\n",
        "for i in range(number_result):\n",
        "\n",
        "    title           = '# RESULT # {:02d}'.format(i+1) \n",
        "    name_function   = 'function_result_{:02d}()'.format(i+1)\n",
        "\n",
        "    print('') \n",
        "    print('################################################################################')\n",
        "    print('#') \n",
        "    print(title)\n",
        "    print('#') \n",
        "    print('################################################################################')\n",
        "    print('') \n",
        "\n",
        "    eval(name_function)"
      ]
    },
    {
      "cell_type": "code",
      "execution_count": 96,
      "metadata": {
        "id": "9lGanRBGYvVR"
      },
      "outputs": [],
      "source": []
    }
  ],
  "metadata": {
    "interpreter": {
      "hash": "40d3a090f54c6569ab1632332b64b2c03c39dcf918b08424e98f38b5ae0af88f"
    },
    "kernelspec": {
      "display_name": "Python 3.8.5 64-bit (conda)",
      "language": "python",
      "name": "python3"
    },
    "language_info": {
      "codemirror_mode": {
        "name": "ipython",
        "version": 3
      },
      "file_extension": ".py",
      "mimetype": "text/x-python",
      "name": "python",
      "nbconvert_exporter": "python",
      "pygments_lexer": "ipython3",
      "version": "3.9.12"
    },
    "metadata": {
      "interpreter": {
        "hash": "31f2aee4e71d21fbe5cf8b01ff0e069b9275f58929596ceb00d14d90e3e16cd6"
      }
    },
    "colab": {
      "provenance": []
    }
  },
  "nbformat": 4,
  "nbformat_minor": 0
}