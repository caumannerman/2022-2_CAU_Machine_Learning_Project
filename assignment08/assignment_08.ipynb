{
  "cells": [
    {
      "cell_type": "markdown",
      "metadata": {
        "id": "63aOEusN1Tgf"
      },
      "source": [
        "# Unsupervised image denoising"
      ]
    },
    {
      "cell_type": "markdown",
      "metadata": {
        "id": "uCIAhtbr1Yhs"
      },
      "source": [
        "## Import libraries"
      ]
    },
    {
      "cell_type": "code",
      "execution_count": 200,
      "metadata": {
        "id": "2xzQSB-t95mT"
      },
      "outputs": [],
      "source": [
        "import torch\n",
        "import torchvision\n",
        "from torch.utils.data import Dataset\n",
        "from os import listdir\n",
        "from os.path import join\n",
        "from torchvision.transforms import Compose, ToTensor, ToPILImage, Resize, Lambda, Normalize, Grayscale\n",
        "from torch.utils.data import DataLoader\n",
        "from PIL import Image\n",
        "import matplotlib.pyplot as plt\n",
        "import numpy as np\n",
        "import torch.nn as nn\n",
        "import torch.nn.functional as F\n",
        "import torch.optim as optim\n",
        "from math import log10\n",
        "from tqdm.notebook import tqdm\n",
        "import os"
      ]
    },
    {
      "cell_type": "markdown",
      "metadata": {
        "id": "3fvdQA9THZPs"
      },
      "source": [
        "## Load data"
      ]
    },
    {
      "cell_type": "code",
      "execution_count": 201,
      "metadata": {
        "id": "ckroXmQgHbCb"
      },
      "outputs": [],
      "source": [
        "directory_data  = './sample_data'\n",
        "filename_data   = 'assignment_08_data.npz'\n",
        "data            = np.load(os.path.join(directory_data, filename_data))\n",
        "\n",
        "train       = data['x_train'] \n",
        "train_noise = data['x_train_noise']\n",
        "\n",
        "test        = data['x_test'] \n",
        "test_noise  = data['x_test_noise']\n",
        "\n",
        "num_train   = train.shape[0]\n",
        "num_test    = test.shape[0]"
      ]
    },
    {
      "cell_type": "code",
      "execution_count": 202,
      "metadata": {
        "colab": {
          "base_uri": "https://localhost:8080/"
        },
        "id": "-s0jx9x_vSJ2",
        "outputId": "3104c0e0-0986-439e-cec2-8301d739d6c5"
      },
      "outputs": [
        {
          "output_type": "stream",
          "name": "stdout",
          "text": [
            "*************************************************\n",
            "size of train : (10000, 32, 32)\n",
            "size of train_noise : (10000, 32, 32)\n",
            "*************************************************\n",
            "size of test : (5000, 32, 32)\n",
            "size of test_noise : (5000, 32, 32)\n",
            "*************************************************\n"
          ]
        }
      ],
      "source": [
        "print('*************************************************')\n",
        "print('size of train :', train.shape)\n",
        "print('size of train_noise :', train_noise.shape)\n",
        "print('*************************************************')\n",
        "print('size of test :', test.shape)\n",
        "print('size of test_noise :', test_noise.shape)\n",
        "print('*************************************************')"
      ]
    },
    {
      "cell_type": "markdown",
      "metadata": {
        "id": "KRZBTx9qvSJ3"
      },
      "source": [
        "## plot examples of the data"
      ]
    },
    {
      "cell_type": "code",
      "execution_count": 203,
      "metadata": {
        "colab": {
          "base_uri": "https://localhost:8080/",
          "height": 303
        },
        "id": "s3WSWcPwvSJ3",
        "outputId": "ff558057-1556-43b0-fd32-276b3659ca13"
      },
      "outputs": [
        {
          "output_type": "display_data",
          "data": {
            "text/plain": [
              "<Figure size 576x288 with 8 Axes>"
            ],
            "image/png": "[encoded data removed]"
          },
          "metadata": {
            "needs_background": "light"
          }
        }
      ],
      "source": [
        "nRow = 2\n",
        "nCol = 4\n",
        "size = 2\n",
        "\n",
        "title       = 'examples of the data'\n",
        "fig, axes   = plt.subplots(nRow, nCol, figsize=(size * nCol, size * nRow))\n",
        "fig.suptitle(title, fontsize=16)\n",
        "\n",
        "for c in range(nCol):\n",
        "\n",
        "    axes[0, c].imshow(train[c * 1000], cmap='gray')\n",
        "    axes[1, c].imshow(train_noise[c * 1000], cmap='gray')\n",
        "\n",
        "    axes[0, c].xaxis.set_visible(False)\n",
        "    axes[1, c].xaxis.set_visible(False)\n",
        "    \n",
        "    axes[0, c].yaxis.set_visible(False)\n",
        "    axes[1, c].yaxis.set_visible(False)\n",
        "\n",
        "plt.tight_layout()\n",
        "plt.show()"
      ]
    },
    {
      "cell_type": "markdown",
      "metadata": {
        "id": "I1beooBRvSJ4"
      },
      "source": [
        "## custom data loader for the PyTorch framework"
      ]
    },
    {
      "cell_type": "code",
      "execution_count": 204,
      "metadata": {
        "id": "2epGBldPvSJ5"
      },
      "outputs": [],
      "source": [
        "class dataset(Dataset):\n",
        "    \n",
        "    def __init__(self, image, image_noise):\n",
        "        \n",
        "        self.image          = image\n",
        "        self.image_noise    = image_noise\n",
        "    \n",
        "    def __getitem__(self, index):\n",
        "        \n",
        "        image       = self.image[index]\n",
        "        image_noise = self.image_noise[index]\n",
        "\n",
        "        image       = torch.FloatTensor(image).unsqueeze(dim=0)\n",
        "        image_noise = torch.FloatTensor(image_noise).unsqueeze(dim=0)\n",
        "\n",
        "        return (image, image_noise)\n",
        "    \n",
        "    def __len__(self):\n",
        "\n",
        "        number_image = self.image.shape[0]\n",
        "\n",
        "        return number_image"
      ]
    },
    {
      "cell_type": "markdown",
      "metadata": {
        "id": "AMKGBPq2vSJ5"
      },
      "source": [
        "## setting device"
      ]
    },
    {
      "cell_type": "code",
      "execution_count": 205,
      "metadata": {
        "id": "6Ux19eNyvSJ6"
      },
      "outputs": [],
      "source": [
        "device = torch.device('cuda' if torch.cuda.is_available() else 'mps')"
      ]
    },
    {
      "cell_type": "code",
      "execution_count": 206,
      "metadata": {
        "colab": {
          "base_uri": "https://localhost:8080/"
        },
        "id": "iwPDkRQCvSJ6",
        "outputId": "c3a150f0-06eb-473d-caff-89ae9c1c5dd0"
      },
      "outputs": [
        {
          "output_type": "stream",
          "name": "stdout",
          "text": [
            "cuda\n"
          ]
        }
      ],
      "source": [
        "print(device)"
      ]
    },
    {
      "cell_type": "markdown",
      "metadata": {
        "id": "7XvPE63svSJ7"
      },
      "source": [
        "## construct datasets and dataloaders for testing and testing"
      ]
    },
    {
      "cell_type": "code",
      "execution_count": 207,
      "metadata": {
        "id": "pnv3T8yhvSJ7"
      },
      "outputs": [],
      "source": [
        "# ================================================== \n",
        "# determine your own parameter value\n",
        "#\n",
        "size_minibatch      = 200 \n",
        "#\n",
        "# ================================================== \n",
        "\n",
        "dataset_train       = dataset(train, train_noise)\n",
        "dataset_test        = dataset(test, test_noise)\n",
        "\n",
        "dataloader_train    = torch.utils.data.DataLoader(dataset_train, batch_size=size_minibatch, shuffle=True, drop_last=True)\n",
        "dataloader_test     = torch.utils.data.DataLoader(dataset_test, batch_size=size_minibatch, shuffle=True, drop_last=True)"
      ]
    },
    {
      "cell_type": "markdown",
      "metadata": {
        "id": "PFmDyBQKvSJ8"
      },
      "source": [
        "## shape of the data when using the data loader"
      ]
    },
    {
      "cell_type": "code",
      "execution_count": 208,
      "metadata": {
        "id": "FMvbEWAbvSJ9"
      },
      "outputs": [],
      "source": [
        "train_image, train_image_noise = next(iter(dataloader_train))\n",
        "test_image, test_image_noise = next(iter(dataloader_test))"
      ]
    },
    {
      "cell_type": "code",
      "execution_count": 209,
      "metadata": {
        "colab": {
          "base_uri": "https://localhost:8080/"
        },
        "id": "KkQSOVSovSJ9",
        "outputId": "4bd837c3-c69c-498a-c374-734ac1615fba"
      },
      "outputs": [
        {
          "output_type": "stream",
          "name": "stdout",
          "text": [
            "************************************************************\n",
            "size of mini-batch of the training image: torch.Size([200, 1, 32, 32])\n",
            "************************************************************\n",
            "size of mini-batch of the training image_noise: torch.Size([200, 1, 32, 32])\n",
            "************************************************************\n",
            "size of mini-batch of the testing image: torch.Size([200, 1, 32, 32])\n",
            "************************************************************\n",
            "size of mini-batch of the testing image_noise: torch.Size([200, 1, 32, 32])\n",
            "************************************************************\n"
          ]
        }
      ],
      "source": [
        "print('************************************************************')\n",
        "print('size of mini-batch of the training image:', train_image.shape)\n",
        "print('************************************************************')\n",
        "print('size of mini-batch of the training image_noise:', train_image_noise.shape)\n",
        "print('************************************************************')\n",
        "print('size of mini-batch of the testing image:', test_image.shape)\n",
        "print('************************************************************')\n",
        "print('size of mini-batch of the testing image_noise:', test_image_noise.shape)\n",
        "print('************************************************************')"
      ]
    },
    {
      "cell_type": "markdown",
      "metadata": {
        "id": "8ngJeHXH2dfj"
      },
      "source": [
        "## construct a neural network "
      ]
    },
    {
      "cell_type": "code",
      "execution_count": 210,
      "metadata": {
        "id": "PjlHwUOV-UCh"
      },
      "outputs": [],
      "source": [
        "# ================================================== \n",
        "# define your own neural network architecture and initialization\n",
        "#\n",
        "class Network(nn.Module):\n",
        "    def __init__(self):\n",
        "        super(Network,self).__init__()\n",
        "\n",
        "        # -------------------------------------------------\n",
        "        # Encoder\n",
        "        # -------------------------------------------------\n",
        "        self.encoder_layer1 = nn.Sequential(\n",
        "            nn.Conv2d(in_channels=1, out_channels=2, kernel_size=3, stride=1, padding=1, bias=True),  \n",
        "            nn.MaxPool2d(2,2),\n",
        "            nn.ReLU(),\n",
        "            nn.BatchNorm2d(2),\n",
        "        )\n",
        "        \n",
        "        self.encoder_layer2 = nn.Sequential(\n",
        "            nn.Conv2d(in_channels=2, out_channels=4, kernel_size=3, stride=1, padding=1, bias=True),\n",
        "            nn.MaxPool2d(2,2),\n",
        "            nn.ReLU(),\n",
        "            nn.BatchNorm2d(4),\n",
        "        )\n",
        "\n",
        "        # -------------------------------------------------\n",
        "        # Decoder\n",
        "        # -------------------------------------------------\n",
        "        self.decoder_layer2 = nn.Sequential(\n",
        "            nn.Upsample(scale_factor=2, mode='bilinear', align_corners=False),\n",
        "            nn.Conv2d(in_channels=4, out_channels=2, kernel_size=3, stride=1, padding=1, bias=True),\n",
        "            nn.ReLU(),\n",
        "            nn.BatchNorm2d(2),\n",
        "        )\n",
        "        \n",
        "        self.decoder_layer1 = nn.Sequential(\n",
        "            nn.Upsample(scale_factor=2, mode='bilinear', align_corners=False),\n",
        "            nn.Conv2d(in_channels=2, out_channels=1, kernel_size=3, stride=1, padding=1, bias=True),\n",
        "            nn.Sigmoid(),\n",
        "        )\n",
        "\n",
        "        # -------------------------------------------------\n",
        "        # Network\n",
        "        # -------------------------------------------------\n",
        "        self.network = nn.Sequential(\n",
        "            self.encoder_layer1,\n",
        "            self.encoder_layer2,\n",
        "            self.decoder_layer2, \n",
        "            self.decoder_layer1,\n",
        "        )\n",
        "        \n",
        "        self.initialize_weight()\n",
        "\n",
        "    def forward(self,x):\n",
        "    \n",
        "        out = self.network(x)\n",
        "      \n",
        "        return out\n",
        "\n",
        "    # ======================================================================\n",
        "    # initialize weights\n",
        "    # ======================================================================\n",
        "    def initialize_weight(self):\n",
        "            \n",
        "        for m in self.network.modules():\n",
        "            \n",
        "            if isinstance(m, nn.Conv2d):\n",
        "\n",
        "                nn.init.xavier_uniform_(m.weight) \n",
        "                if m.bias is not None:\n",
        "\n",
        "                    nn.init.constant_(m.bias, 1)\n",
        "                    pass\n",
        "                    \n",
        "            elif isinstance(m, nn.BatchNorm2d):\n",
        "                \n",
        "                nn.init.constant_(m.weight, 1)\n",
        "                nn.init.constant_(m.bias, 1)\n",
        "                \n",
        "            elif isinstance(m, nn.Linear):\n",
        "\n",
        "                nn.init.xavier_uniform_(m.weight)\n",
        "\n",
        "                if m.bias is not None:\n",
        "                    \n",
        "                    nn.init.constant_(m.bias, 1)\n",
        "                    pass\n",
        "#\n",
        "# ================================================== "
      ]
    },
    {
      "cell_type": "markdown",
      "metadata": {
        "id": "vTXZnsrGLoxg"
      },
      "source": [
        "## build the network"
      ]
    },
    {
      "cell_type": "code",
      "execution_count": 211,
      "metadata": {
        "id": "xsGGOsXKLuc1"
      },
      "outputs": [],
      "source": [
        "# ================================================== \n",
        "# determine your own parameter value\n",
        "#\n",
        "learning_rate   = 0.001\n",
        "weight_decay    = 0.0001\n",
        "alpha           = 0.1\n",
        "number_epoch    = 100\n",
        "#\n",
        "# ================================================== \n",
        "\n",
        "model       = Network().to(device)\n",
        "optimizer   = torch.optim.SGD(model.parameters(), lr=learning_rate, weight_decay=weight_decay)"
      ]
    },
    {
      "cell_type": "markdown",
      "metadata": {
        "id": "6yE9LChkQ5G2"
      },
      "source": [
        "## compute the prediction"
      ]
    },
    {
      "cell_type": "code",
      "execution_count": 212,
      "metadata": {
        "id": "9mgS8kzGQ502"
      },
      "outputs": [],
      "source": [
        "def compute_prediction(model, input):\n",
        "\n",
        "    prediction = model(input)\n",
        "\n",
        "    return prediction"
      ]
    },
    {
      "cell_type": "markdown",
      "metadata": {
        "id": "UQVz0ChdM9KL"
      },
      "source": [
        "## compute the loss"
      ]
    },
    {
      "cell_type": "markdown",
      "metadata": {
        "id": "FaIHFBzuvSKC"
      },
      "source": [
        "## compute the data fidelity term\n",
        "- use the mean squared error for the data fidelity term\n",
        "- use the following loss function `nn.MSELoss()`\n",
        "- input dimension: mini-batch-size x channel x height x width"
      ]
    },
    {
      "cell_type": "code",
      "execution_count": 213,
      "metadata": {
        "id": "K_BCIO5RvSKD"
      },
      "outputs": [],
      "source": [
        "def compute_loss_data_fidelity(prediction, original):\n",
        "    # ================================================== \n",
        "    # fill up the blank\n",
        "    #    \n",
        "    prediction = torch.Tensor(prediction)\n",
        "    original = torch.Tensor(original)\n",
        "    loss = nn.MSELoss()(prediction, original)\n",
        "    #\n",
        "    # ================================================== \n",
        "\n",
        "    return loss"
      ]
    },
    {
      "cell_type": "code",
      "source": [
        "# MSE LOSS practice\n",
        "temp_a = torch.Tensor(np.ones((10,5)))\n",
        "temp_b = torch.Tensor(np.ones((10,5)))\n",
        "print(temp_a.shape)\n",
        "mse1 = nn.MSELoss()(temp_a, temp_b)\n",
        "print(mse1)\n",
        "print(type(mse1))\n",
        "print(mse1.shape)\n",
        "print(mse1.item())\n"
      ],
      "metadata": {
        "colab": {
          "base_uri": "https://localhost:8080/"
        },
        "id": "riFcLQv64Kil",
        "outputId": "5e96b887-db44-4e21-d19d-18f17434ac2e"
      },
      "execution_count": 214,
      "outputs": [
        {
          "output_type": "stream",
          "name": "stdout",
          "text": [
            "torch.Size([10, 5])\n",
            "tensor(0.)\n",
            "<class 'torch.Tensor'>\n",
            "torch.Size([])\n",
            "0.0\n"
          ]
        }
      ]
    },
    {
      "cell_type": "markdown",
      "metadata": {
        "id": "pEpBgtMRvSKD"
      },
      "source": [
        "## compute the regularization term\n",
        "- use the total variation for the regularization term\n",
        "- use the following loss function: $\\frac{1}{n} \\sum_{x, y} \\lvert \\frac{\\partial}{\\partial x} f(x, y) \\rvert + \\frac{1}{n} \\sum_{x, y} \\lvert \\frac{\\partial}{\\partial y} f(x, y) \\rvert$\n",
        "- use the neumann boundary condition (gradient of the boundary to the normal direction is zero)"
      ]
    },
    {
      "cell_type": "code",
      "execution_count": 215,
      "metadata": {
        "id": "qO6cZB2LvSKD"
      },
      "outputs": [],
      "source": [
        "def compute_loss_regularization(prediction):\n",
        "    # ================================================== \n",
        "    # fill up the blank\n",
        "    #    \n",
        "    \n",
        "    x_dif_sum = abs(prediction[:, 1: len(prediction[0])] - prediction[:,:len(prediction[0]) - 1]).sum()\n",
        "    y_dif_sum = abs(prediction[1:len(prediction),:] - prediction[:len(prediction) - 1,:]).sum()\n",
        "\n",
        "    num_pixel = len(prediction) * len(prediction[0])\n",
        "    loss = (x_dif_sum + y_dif_sum) / num_pixel\n",
        "    #\n",
        "    # ================================================== \n",
        "\n",
        "    return loss"
      ]
    },
    {
      "cell_type": "code",
      "source": [
        "temp_a = torch.Tensor(np.ones((10,5)))\n",
        "temp_b = torch.Tensor(np.ones((10,5)))\n",
        "\n",
        "temp_b[1][1] = 2\n",
        "print( temp_b[:,:len(temp_b[0]) - 1].shape)\n",
        "print(temp_b[:,1:len(temp_b[0])].shape)\n",
        "print((temp_b[:,1:len(temp_b[0])] - temp_b[:,:len(temp_b[0]) - 1]).sum(axis=0))\n",
        "\n",
        "print(abs(temp_b))\n",
        "print(abs(temp_b).sum())\n",
        "print((abs(temp_b).sum() + abs(temp_b).sum()) / 3)\n",
        "print(abs(temp_b).sum().item())"
      ],
      "metadata": {
        "colab": {
          "base_uri": "https://localhost:8080/"
        },
        "id": "4i-TaLaa6ODA",
        "outputId": "9184c83b-3c1b-476f-c0cd-54520dc99771"
      },
      "execution_count": 216,
      "outputs": [
        {
          "output_type": "stream",
          "name": "stdout",
          "text": [
            "torch.Size([10, 4])\n",
            "torch.Size([10, 4])\n",
            "tensor([ 1., -1.,  0.,  0.])\n",
            "tensor([[1., 1., 1., 1., 1.],\n",
            "        [1., 2., 1., 1., 1.],\n",
            "        [1., 1., 1., 1., 1.],\n",
            "        [1., 1., 1., 1., 1.],\n",
            "        [1., 1., 1., 1., 1.],\n",
            "        [1., 1., 1., 1., 1.],\n",
            "        [1., 1., 1., 1., 1.],\n",
            "        [1., 1., 1., 1., 1.],\n",
            "        [1., 1., 1., 1., 1.],\n",
            "        [1., 1., 1., 1., 1.]])\n",
            "tensor(51.)\n",
            "tensor(34.)\n",
            "51.0\n"
          ]
        }
      ]
    },
    {
      "cell_type": "markdown",
      "metadata": {
        "id": "rMlr9fNjvSKE"
      },
      "source": [
        "## compute the total loss\n",
        "- total loss = data fidelity + $\\alpha$ * regularization\n",
        "- $\\alpha \\in \\mathbb{R}$"
      ]
    },
    {
      "cell_type": "code",
      "execution_count": 217,
      "metadata": {
        "id": "XbvdtlxKNAmm"
      },
      "outputs": [],
      "source": [
        "def compute_loss(prediction, original, alpha):\n",
        "    # ================================================== \n",
        "    # fill up the blank\n",
        "    #    \n",
        "    loss_data_fidelity  = compute_loss_data_fidelity(prediction, original)\n",
        "    loss_regularization = compute_loss_regularization(prediction)\n",
        "\n",
        "    loss = loss_data_fidelity + alpha * loss_regularization\n",
        "    #\n",
        "    # ================================================== \n",
        "\n",
        "    return (loss, loss_data_fidelity, loss_regularization)"
      ]
    },
    {
      "cell_type": "markdown",
      "metadata": {
        "id": "OHGTDfZjvSKE"
      },
      "source": [
        "## compute the loss value"
      ]
    },
    {
      "cell_type": "code",
      "execution_count": 218,
      "metadata": {
        "id": "vTyf82lMvSKF"
      },
      "outputs": [],
      "source": [
        "def compute_loss_value(loss):\n",
        "    \n",
        "    loss_value = loss.item()\n",
        "    \n",
        "    return loss_value"
      ]
    },
    {
      "cell_type": "code",
      "source": [
        "# MSE LOSS practice\n",
        "temp_a = torch.Tensor(np.ones((10,5)))\n",
        "temp_b = torch.Tensor(np.ones((10,5)))\n",
        "print(temp_a.shape)\n",
        "mse1 = nn.MSELoss()(temp_a, temp_b)\n",
        "mse2 = nn.MSELoss()(temp_a, temp_b)\n",
        "mses = (mse1, mse2)\n",
        "print(mses)\n",
        "print(list(map(compute_loss_value,mses)))"
      ],
      "metadata": {
        "colab": {
          "base_uri": "https://localhost:8080/"
        },
        "id": "uFBVM_ylCfi4",
        "outputId": "cf930eb9-70fe-4125-afea-42942408fd0e"
      },
      "execution_count": 219,
      "outputs": [
        {
          "output_type": "stream",
          "name": "stdout",
          "text": [
            "torch.Size([10, 5])\n",
            "(tensor(0.), tensor(0.))\n",
            "[0.0, 0.0]\n"
          ]
        }
      ]
    },
    {
      "cell_type": "markdown",
      "metadata": {
        "id": "lKGc41X7NZ_M"
      },
      "source": [
        "## compute the PSNR metric"
      ]
    },
    {
      "cell_type": "markdown",
      "metadata": {
        "id": "1JOP6eOuvSKF"
      },
      "source": [
        "- input dimension: mini-batch-size x channel x height x width\n",
        "- psnr is defined by $10 * \\log_{10}(\\frac{1}{\\textrm{MSE}})$\n",
        "- MSE is defined by $\\textrm{MSE}(x, y) = \\frac{1}{n} \\| x - y \\|_2^2$ where $n$ is the length of data $x$ and $y$"
      ]
    },
    {
      "cell_type": "code",
      "execution_count": 220,
      "metadata": {
        "id": "sckxfzwqvSKF"
      },
      "outputs": [],
      "source": [
        "def compute_psnr(data1, data2):\n",
        "    data1 = torch.Tensor(data1)\n",
        "    data2 = torch.Tensor(data2)\n",
        "\n",
        "    mse         = nn.MSELoss()(data1, data2)\n",
        "    mse_value   = mse.item()\n",
        "    psnr        = 10 * np.log10(1 / mse_value)\n",
        "\n",
        "    return psnr"
      ]
    },
    {
      "cell_type": "markdown",
      "metadata": {
        "id": "9UIl4gCp2hE6"
      },
      "source": [
        "## Variable for the learning curves"
      ]
    },
    {
      "cell_type": "code",
      "execution_count": 221,
      "metadata": {
        "id": "NXs-w_99-cuZ"
      },
      "outputs": [],
      "source": [
        "loss_train_mean = np.zeros(number_epoch)\n",
        "loss_train_std  = np.zeros(number_epoch)\n",
        "psnr_train_mean = np.zeros(number_epoch)\n",
        "psnr_train_std  = np.zeros(number_epoch)\n",
        "\n",
        "loss_test_mean  = np.zeros(number_epoch)\n",
        "loss_test_std   = np.zeros(number_epoch)\n",
        "psnr_test_mean  = np.zeros(number_epoch)\n",
        "psnr_test_std   = np.zeros(number_epoch)\n",
        "\n",
        "loss_train_data_fidelity_mean   = np.zeros(number_epoch)\n",
        "loss_train_data_fidelity_std    = np.zeros(number_epoch)\n",
        "loss_train_regularization_mean  = np.zeros(number_epoch)\n",
        "loss_train_regularization_std   = np.zeros(number_epoch)\n",
        "\n",
        "loss_test_data_fidelity_mean    = np.zeros(number_epoch)\n",
        "loss_test_data_fidelity_std     = np.zeros(number_epoch)\n",
        "loss_test_regularization_mean   = np.zeros(number_epoch)\n",
        "loss_test_regularization_std    = np.zeros(number_epoch)"
      ]
    },
    {
      "cell_type": "markdown",
      "metadata": {
        "id": "y7HWScczDn6S"
      },
      "source": [
        "## train"
      ]
    },
    {
      "cell_type": "code",
      "execution_count": 222,
      "metadata": {
        "id": "Q3p34UDlDqWg"
      },
      "outputs": [],
      "source": [
        "def train(model, optimizer, dataloader):\n",
        "\n",
        "    loss_epoch                  = []\n",
        "    loss_data_fidelity_epoch    = []\n",
        "    loss_regularization_epoch   = []\n",
        "    psnr_epoch                  = []\n",
        "\n",
        "    model.train()\n",
        "\n",
        "    for index_batch, (image, image_noise) in enumerate(dataloader):\n",
        "\n",
        "        image       = image.to(device)\n",
        "        image_noise = image_noise.to(device)\n",
        "\n",
        "        # ================================================== \n",
        "        # fill up the blank\n",
        "        #             \n",
        "        pred = model.forward(image_noise)\n",
        "        train_loss_values = compute_loss(pred, image_noise, alpha)\n",
        "        loss = train_loss_values[0]\n",
        "\n",
        "        loss_value                  = loss.item()\n",
        "        loss_data_fidelity_value    = train_loss_values[1].item()\n",
        "        loss_regularization_value   = train_loss_values[2].item()\n",
        "        psnr                        = compute_psnr(pred, image)\n",
        "        #\n",
        "        # ================================================== \n",
        "\n",
        "        loss_epoch.append(loss_value)\n",
        "        loss_data_fidelity_epoch.append(loss_data_fidelity_value)\n",
        "        loss_regularization_epoch.append(loss_regularization_value)\n",
        "        psnr_epoch.append(psnr)\n",
        "\n",
        "        # ================================================== \n",
        "        # fill up the blank (update moodel parameters)\n",
        "        #       \n",
        "        optimizer.zero_grad()\n",
        "        loss.backward()\n",
        "        optimizer.step()\n",
        "        #\n",
        "        # ==================================================  \n",
        "\n",
        "    loss_mean   = np.mean(loss_epoch)\n",
        "    loss_std    = np.std(loss_epoch)\n",
        "\n",
        "    loss_data_fidelity_mean = np.mean(loss_data_fidelity_epoch)\n",
        "    loss_data_fidelity_std  = np.std(loss_data_fidelity_epoch)\n",
        "\n",
        "    loss_regularization_mean    = np.mean(loss_regularization_epoch)\n",
        "    loss_regularization_std     = np.std(loss_regularization_epoch)\n",
        "    \n",
        "    psnr_mean   = np.mean(psnr_epoch)\n",
        "    psnr_std    = np.std(psnr_epoch)\n",
        "\n",
        "    loss                = {'mean' : loss_mean, 'std' : loss_std}\n",
        "    loss_data_fidelity  = {'mean' : loss_data_fidelity_mean, 'std' : loss_data_fidelity_std}\n",
        "    loss_regularization = {'mean' : loss_regularization_mean, 'std' : loss_regularization_std}\n",
        "    psnr                = {'mean' : psnr_mean, 'std' : psnr_std}\n",
        "\n",
        "    return (loss, loss_data_fidelity, loss_regularization, psnr)"
      ]
    },
    {
      "cell_type": "markdown",
      "metadata": {
        "id": "C783v5uJE1Y9"
      },
      "source": [
        "## test"
      ]
    },
    {
      "cell_type": "code",
      "execution_count": 223,
      "metadata": {
        "id": "xJz-987xE38P"
      },
      "outputs": [],
      "source": [
        "def test(model, dataloader):\n",
        "\n",
        "    loss_epoch                  = []\n",
        "    loss_data_fidelity_epoch    = []\n",
        "    loss_regularization_epoch   = []\n",
        "    psnr_epoch                  = []\n",
        "\n",
        "    model.eval()\n",
        "\n",
        "    for index_batch, (image, image_noise) in enumerate(dataloader):\n",
        "       \n",
        "        image       = image.to(device)\n",
        "        image_noise = image_noise.to(device)\n",
        "\n",
        "        # ================================================== \n",
        "        # fill up the blank\n",
        "        #            \n",
        "        pred = model.forward(image_noise)\n",
        "        train_loss_values = compute_loss(pred, image_noise, alpha) \n",
        "        \n",
        "        loss_value                  = train_loss_values[0].item()\n",
        "        loss_data_fidelity_value    = train_loss_values[1].item()\n",
        "        loss_regularization_value   = train_loss_values[2].item()\n",
        "        psnr                        = compute_psnr(pred, image)\n",
        "        #\n",
        "        # ================================================== \n",
        "\n",
        "        loss_epoch.append(loss_value)\n",
        "        loss_data_fidelity_epoch.append(loss_data_fidelity_value)\n",
        "        loss_regularization_epoch.append(loss_regularization_value)\n",
        "        psnr_epoch.append(psnr)\n",
        "\n",
        "    loss_mean   = np.mean(loss_epoch)\n",
        "    loss_std    = np.std(loss_epoch)\n",
        "\n",
        "    loss_data_fidelity_mean = np.mean(loss_data_fidelity_epoch)\n",
        "    loss_data_fidelity_std  = np.std(loss_data_fidelity_epoch)\n",
        "\n",
        "    loss_regularization_mean    = np.mean(loss_regularization_epoch)\n",
        "    loss_regularization_std     = np.std(loss_regularization_epoch)\n",
        "    \n",
        "    psnr_mean   = np.mean(psnr_epoch)\n",
        "    psnr_std    = np.std(psnr_epoch)\n",
        "\n",
        "    loss                = {'mean' : loss_mean, 'std' : loss_std}\n",
        "    loss_data_fidelity  = {'mean' : loss_data_fidelity_mean, 'std' : loss_data_fidelity_std}\n",
        "    loss_regularization = {'mean' : loss_regularization_mean, 'std' : loss_regularization_std}\n",
        "    psnr                = {'mean' : psnr_mean, 'std' : psnr_std}\n",
        "\n",
        "    return (loss, loss_data_fidelity, loss_regularization, psnr)"
      ]
    },
    {
      "cell_type": "markdown",
      "metadata": {
        "id": "j9ZcyzVkFsex"
      },
      "source": [
        "## train and test"
      ]
    },
    {
      "cell_type": "code",
      "execution_count": 224,
      "metadata": {
        "colab": {
          "base_uri": "https://localhost:8080/",
          "height": 49,
          "referenced_widgets": [
            "6db295a6ae614447afbf08353fe68404",
            "6c05473438444105b7e5fd6f3243f272",
            "4e2ae8e0f2714bdbbcbe9b0bb5f89040",
            "fce0189f684f457a80fdbbc5708a2451",
            "03d6f46b89864d6aa0cbdcd50309da25",
            "d268de89528848e28ee13c9ffef88172",
            "0d1e0a21339540d5b2a4079e75b7b29d",
            "2b849d3bbd6f4d718539d5a0161ce5ed",
            "33782bc706634ef69c7fdbae647e0eea",
            "d85ddc02f53a43f2a96f8abc61218719",
            "11ee85ebb31e4212aeb11d3c35c695bb"
          ]
        },
        "id": "l6Qtqgv8-fMW",
        "outputId": "6cff588a-3864-4d8d-da50-3383c7de6e3e"
      },
      "outputs": [
        {
          "output_type": "display_data",
          "data": {
            "text/plain": [
              "  0%|          | 0/100 [00:00<?, ?it/s]"
            ],
            "application/vnd.jupyter.widget-view+json": {
              "version_major": 2,
              "version_minor": 0,
              "model_id": "6db295a6ae614447afbf08353fe68404"
            }
          },
          "metadata": {}
        }
      ],
      "source": [
        "# ================================================================================\n",
        "# \n",
        "# iterations for epochs\n",
        "#\n",
        "# ================================================================================\n",
        "for i in tqdm(range(number_epoch)):\n",
        "    \n",
        "    # ================================================================================\n",
        "    # \n",
        "    # training\n",
        "    #\n",
        "    # ================================================================================\n",
        "    (loss_train, loss_data_fidelity_train, loss_regularization_train, psnr_train) = train(model, optimizer, dataloader_train)\n",
        "\n",
        "    loss_train_mean[i]  = loss_train['mean']\n",
        "    loss_train_std[i]   = loss_train['std']\n",
        "\n",
        "    loss_train_data_fidelity_mean[i]    = loss_data_fidelity_train['mean']\n",
        "    loss_train_data_fidelity_std[i]     = loss_data_fidelity_train['std']\n",
        "\n",
        "    loss_train_regularization_mean[i]   = loss_regularization_train['mean']\n",
        "    loss_train_regularization_std[i]    = loss_regularization_train['std']\n",
        "\n",
        "    psnr_train_mean[i]  = psnr_train['mean']\n",
        "    psnr_train_std[i]   = psnr_train['std']\n",
        "\n",
        "    # ================================================================================\n",
        "    # \n",
        "    # testing\n",
        "    #\n",
        "    # ================================================================================\n",
        "    (loss_test, loss_data_fidelity_test, loss_regularization_test, psnr_test) = test(model, dataloader_test)\n",
        "\n",
        "    loss_test_mean[i]  = loss_test['mean']\n",
        "    loss_test_std[i]   = loss_test['std']\n",
        "\n",
        "    loss_test_data_fidelity_mean[i]    = loss_data_fidelity_test['mean']\n",
        "    loss_test_data_fidelity_std[i]     = loss_data_fidelity_test['std']\n",
        "\n",
        "    loss_test_regularization_mean[i]   = loss_regularization_test['mean']\n",
        "    loss_test_regularization_std[i]    = loss_regularization_test['std']\n",
        "\n",
        "    psnr_test_mean[i]  = psnr_test['mean']\n",
        "    psnr_test_std[i]   = psnr_test['std']"
      ]
    },
    {
      "cell_type": "markdown",
      "metadata": {
        "id": "-tfRPQpyvSKJ"
      },
      "source": [
        "---"
      ]
    },
    {
      "cell_type": "markdown",
      "metadata": {
        "id": "kQea0ToavSKJ"
      },
      "source": [
        "## functions for presenting the results"
      ]
    },
    {
      "cell_type": "markdown",
      "metadata": {
        "id": "T4Vr8fIivSKJ"
      },
      "source": [
        "---"
      ]
    },
    {
      "cell_type": "code",
      "execution_count": 225,
      "metadata": {
        "id": "Tp50r3lh-o-P"
      },
      "outputs": [],
      "source": [
        "def function_result_01():\n",
        "    \n",
        "    title           = 'loss (training)'\n",
        "    label_axis_x    = 'epoch' \n",
        "    label_axis_y    = 'loss'\n",
        "    color_mean      = 'red'\n",
        "    color_std       = 'blue'\n",
        "    alpha           = 0.3\n",
        "\n",
        "    plt.figure(figsize=(8, 6))\n",
        "    plt.title(title)\n",
        "\n",
        "    plt.plot(range(len(loss_train_mean)), loss_train_mean, '-', color = color_mean)\n",
        "    plt.fill_between(range(len(loss_train_mean)), loss_train_mean - loss_train_std, loss_train_mean + loss_train_std, facecolor = color_std, alpha = alpha) \n",
        "    \n",
        "    plt.xlabel(label_axis_x)\n",
        "    plt.ylabel(label_axis_y)\n",
        "\n",
        "    plt.tight_layout()\n",
        "    plt.show()"
      ]
    },
    {
      "cell_type": "code",
      "execution_count": 226,
      "metadata": {
        "id": "5BvRbYfGvSKK"
      },
      "outputs": [],
      "source": [
        "def function_result_02():\n",
        "    \n",
        "    title           = 'loss - data fidelity (training)'\n",
        "    label_axis_x    = 'epoch' \n",
        "    label_axis_y    = 'loss'\n",
        "    color_mean      = 'red'\n",
        "    color_std       = 'blue'\n",
        "    alpha           = 0.3\n",
        "\n",
        "    plt.figure(figsize=(8, 6))\n",
        "    plt.title(title)\n",
        "\n",
        "    plt.plot(range(len(loss_train_data_fidelity_mean)), loss_train_data_fidelity_mean, '-', color = color_mean)\n",
        "    plt.fill_between(range(len(loss_train_data_fidelity_mean)), loss_train_data_fidelity_mean - loss_train_data_fidelity_std, loss_train_data_fidelity_mean + loss_train_data_fidelity_std, facecolor = color_std, alpha = alpha) \n",
        "    \n",
        "    plt.xlabel(label_axis_x)\n",
        "    plt.ylabel(label_axis_y)\n",
        "\n",
        "    plt.tight_layout()\n",
        "    plt.show()"
      ]
    },
    {
      "cell_type": "code",
      "execution_count": 227,
      "metadata": {
        "id": "1TeNzPQdvSKK"
      },
      "outputs": [],
      "source": [
        "def function_result_03():\n",
        "    \n",
        "    title           = 'loss - regularization (training)'\n",
        "    label_axis_x    = 'epoch' \n",
        "    label_axis_y    = 'loss'\n",
        "    color_mean      = 'red'\n",
        "    color_std       = 'blue'\n",
        "    alpha           = 0.3\n",
        "\n",
        "    plt.figure(figsize=(8, 6))\n",
        "    plt.title(title)\n",
        "\n",
        "    plt.plot(range(len(loss_train_regularization_mean)), loss_train_regularization_mean, '-', color = color_mean)\n",
        "    plt.fill_between(range(len(loss_train_regularization_mean)), loss_train_regularization_mean - loss_train_regularization_std, loss_train_regularization_mean + loss_train_regularization_std, facecolor = color_std, alpha = alpha) \n",
        "    \n",
        "    plt.xlabel(label_axis_x)\n",
        "    plt.ylabel(label_axis_y)\n",
        "\n",
        "    plt.tight_layout()\n",
        "    plt.show()"
      ]
    },
    {
      "cell_type": "code",
      "execution_count": 228,
      "metadata": {
        "id": "SG5SRKkGvSKK"
      },
      "outputs": [],
      "source": [
        "def function_result_04():\n",
        "    \n",
        "    title           = 'loss (testing)'\n",
        "    label_axis_x    = 'epoch' \n",
        "    label_axis_y    = 'loss'\n",
        "    color_mean      = 'red'\n",
        "    color_std       = 'blue'\n",
        "    alpha           = 0.3\n",
        "\n",
        "    plt.figure(figsize=(8, 6))\n",
        "    plt.title(title)\n",
        "\n",
        "    plt.plot(range(len(loss_test_mean)), loss_test_mean, '-', color = color_mean)\n",
        "    plt.fill_between(range(len(loss_test_mean)), loss_test_mean - loss_test_std, loss_test_mean + loss_test_std, facecolor = color_std, alpha = alpha) \n",
        "    \n",
        "    plt.xlabel(label_axis_x)\n",
        "    plt.ylabel(label_axis_y)\n",
        "\n",
        "    plt.tight_layout()\n",
        "    plt.show()"
      ]
    },
    {
      "cell_type": "code",
      "execution_count": 229,
      "metadata": {
        "id": "0sqpaB4qvSKL"
      },
      "outputs": [],
      "source": [
        "def function_result_05():\n",
        "    \n",
        "    title           = 'loss - data fidelity (testing)'\n",
        "    label_axis_x    = 'epoch' \n",
        "    label_axis_y    = 'loss'\n",
        "    color_mean      = 'red'\n",
        "    color_std       = 'blue'\n",
        "    alpha           = 0.3\n",
        "\n",
        "    plt.figure(figsize=(8, 6))\n",
        "    plt.title(title)\n",
        "\n",
        "    plt.plot(range(len(loss_test_data_fidelity_mean)), loss_test_data_fidelity_mean, '-', color = color_mean)\n",
        "    plt.fill_between(range(len(loss_test_data_fidelity_mean)), loss_test_data_fidelity_mean - loss_test_data_fidelity_std, loss_test_data_fidelity_mean + loss_test_data_fidelity_std, facecolor = color_std, alpha = alpha) \n",
        "    \n",
        "    plt.xlabel(label_axis_x)\n",
        "    plt.ylabel(label_axis_y)\n",
        "\n",
        "    plt.tight_layout()\n",
        "    plt.show()"
      ]
    },
    {
      "cell_type": "code",
      "execution_count": 230,
      "metadata": {
        "id": "rChrI_LCvSKL"
      },
      "outputs": [],
      "source": [
        "def function_result_06():\n",
        "    \n",
        "    title           = 'loss - regularization (testing)'\n",
        "    label_axis_x    = 'epoch' \n",
        "    label_axis_y    = 'loss'\n",
        "    color_mean      = 'red'\n",
        "    color_std       = 'blue'\n",
        "    alpha           = 0.3\n",
        "\n",
        "    plt.figure(figsize=(8, 6))\n",
        "    plt.title(title)\n",
        "\n",
        "    plt.plot(range(len(loss_test_regularization_mean)), loss_test_regularization_mean, '-', color = color_mean)\n",
        "    plt.fill_between(range(len(loss_test_regularization_mean)), loss_test_regularization_mean - loss_test_regularization_std, loss_test_regularization_mean + loss_test_regularization_std, facecolor = color_std, alpha = alpha) \n",
        "    \n",
        "    plt.xlabel(label_axis_x)\n",
        "    plt.ylabel(label_axis_y)\n",
        "\n",
        "    plt.tight_layout()\n",
        "    plt.show()"
      ]
    },
    {
      "cell_type": "code",
      "execution_count": 231,
      "metadata": {
        "id": "R-CWckMlvSKL"
      },
      "outputs": [],
      "source": [
        "def function_result_07():\n",
        "    \n",
        "    title           = 'psnr (training)'\n",
        "    label_axis_x    = 'epoch' \n",
        "    label_axis_y    = 'psnr'\n",
        "    color_mean      = 'red'\n",
        "    color_std       = 'blue'\n",
        "    alpha           = 0.3\n",
        "\n",
        "    plt.figure(figsize=(8, 6))\n",
        "    plt.title(title)\n",
        "\n",
        "    plt.plot(range(len(psnr_train_mean)), psnr_train_mean, '-', color = color_mean)\n",
        "    plt.fill_between(range(len(psnr_train_mean)), psnr_train_mean - psnr_train_std, psnr_train_mean + psnr_train_std, facecolor = color_std, alpha = alpha) \n",
        "    \n",
        "    plt.xlabel(label_axis_x)\n",
        "    plt.ylabel(label_axis_y)\n",
        "\n",
        "    plt.tight_layout()\n",
        "    plt.show()"
      ]
    },
    {
      "cell_type": "code",
      "execution_count": 232,
      "metadata": {
        "id": "vETjrnn2vSKM"
      },
      "outputs": [],
      "source": [
        "def function_result_08():\n",
        "    \n",
        "    title           = 'psnr (testing)'\n",
        "    label_axis_x    = 'epoch' \n",
        "    label_axis_y    = 'psnr'\n",
        "    color_mean      = 'red'\n",
        "    color_std       = 'blue'\n",
        "    alpha           = 0.3\n",
        "\n",
        "    plt.figure(figsize=(8, 6))\n",
        "    plt.title(title)\n",
        "\n",
        "    plt.plot(range(len(psnr_test_mean)), psnr_test_mean, '-', color = color_mean)\n",
        "    plt.fill_between(range(len(psnr_test_mean)), psnr_test_mean - psnr_test_std, psnr_test_mean + psnr_test_std, facecolor = color_std, alpha = alpha) \n",
        "    \n",
        "    plt.xlabel(label_axis_x)\n",
        "    plt.ylabel(label_axis_y)\n",
        "\n",
        "    plt.tight_layout()\n",
        "    plt.show()"
      ]
    },
    {
      "cell_type": "code",
      "execution_count": 233,
      "metadata": {
        "id": "lSM0msM0vSKM"
      },
      "outputs": [],
      "source": [
        "def function_result_09():\n",
        "\n",
        "    nRow = 9\n",
        "    nCol = 3\n",
        "    size = 3 \n",
        "    \n",
        "    title = 'training results'\n",
        "    fig, axes = plt.subplots(nRow, nCol, figsize=(size * nCol, size * nRow))\n",
        "    fig.suptitle(title, fontsize=16)\n",
        "\n",
        "    index_image = np.array([0, 1000, 2000, 3000, 4000, 5000, 6000, 7000, 8000])\n",
        "\n",
        "    image           = torch.FloatTensor(dataset_train.image[index_image]).unsqueeze(dim=1).to(device)\n",
        "    image_noise     = torch.FloatTensor(dataset_train.image_noise[index_image]).unsqueeze(dim=1).to(device)\n",
        "    image_denoise   = compute_prediction(model, image_noise)\n",
        "\n",
        "    image           = image.detach().cpu().squeeze(axis=1)\n",
        "    image_noise     = image_noise.detach().cpu().squeeze(axis=1)\n",
        "    image_denoise   = image_denoise.detach().cpu().squeeze(axis=1)\n",
        "\n",
        "    nStep = 3\n",
        "    \n",
        "    for r in range(3):\n",
        "        for c in range(nCol):\n",
        "\n",
        "            axes[0 + r * nStep, c].imshow(image_noise[c + r * nStep], cmap='gray')\n",
        "            axes[1 + r * nStep, c].imshow(image[c + r * nStep], cmap='gray', vmin=0, vmax=1)\n",
        "            axes[2 + r * nStep, c].imshow(image_denoise[c + r * nStep], cmap='gray', vmin=0, vmax=1)\n",
        "\n",
        "            axes[0 + r * nStep, c].xaxis.set_visible(False)\n",
        "            axes[1 + r * nStep, c].xaxis.set_visible(False)\n",
        "            axes[2 + r * nStep, c].xaxis.set_visible(False)\n",
        "            \n",
        "            axes[0 + r * nStep, c].yaxis.set_visible(False)\n",
        "            axes[1 + r * nStep, c].yaxis.set_visible(False)\n",
        "            axes[2 + r * nStep, c].yaxis.set_visible(False)\n",
        "\n",
        "    plt.tight_layout()\n",
        "    plt.show()"
      ]
    },
    {
      "cell_type": "code",
      "execution_count": 234,
      "metadata": {
        "id": "Z145YLWxvSKN"
      },
      "outputs": [],
      "source": [
        "def function_result_10():\n",
        "    \n",
        "    nRow = 9 \n",
        "    nCol = 3\n",
        "    size = 3\n",
        "    \n",
        "    title = 'testing results'\n",
        "    fig, axes = plt.subplots(nRow, nCol, figsize=(size * nCol, size * nRow))\n",
        "    fig.suptitle(title, fontsize=16)\n",
        "\n",
        "    index_image     = np.array([0, 500, 1000, 1500, 2000, 2500, 3000, 3500, 4000])\n",
        "    \n",
        "    image           = torch.FloatTensor(dataset_test.image[index_image]).unsqueeze(dim=1).to(device)\n",
        "    image_noise     = torch.FloatTensor(dataset_test.image_noise[index_image]).unsqueeze(dim=1).to(device)\n",
        "    image_denoise   = compute_prediction(model, image_noise)\n",
        "\n",
        "    image           = image.detach().cpu().squeeze(axis=1)\n",
        "    image_noise     = image_noise.detach().cpu().squeeze(axis=1)\n",
        "    image_denoise   = image_denoise.detach().cpu().squeeze(axis=1)\n",
        "\n",
        "    nStep = 3\n",
        "\n",
        "    for r in range(3):\n",
        "        for c in range(nCol):\n",
        "\n",
        "            axes[0 + r * nStep, c].imshow(image_noise[c + r * nStep], cmap='gray')\n",
        "            axes[1 + r * nStep, c].imshow(image[c + r * nStep], cmap='gray', vmin=0, vmax=1)\n",
        "            axes[2 + r * nStep, c].imshow(image_denoise[c + r * nStep], cmap='gray', vmin=0, vmax=1)\n",
        "\n",
        "            axes[0 + r * nStep, c].xaxis.set_visible(False)\n",
        "            axes[1 + r * nStep, c].xaxis.set_visible(False)\n",
        "            axes[2 + r * nStep, c].xaxis.set_visible(False)\n",
        "            \n",
        "            axes[0 + r * nStep, c].yaxis.set_visible(False)\n",
        "            axes[1 + r * nStep, c].yaxis.set_visible(False)\n",
        "            axes[2 + r * nStep, c].yaxis.set_visible(False)\n",
        "\n",
        "    plt.tight_layout()\n",
        "    plt.show()"
      ]
    },
    {
      "cell_type": "code",
      "execution_count": 235,
      "metadata": {
        "id": "N5aPFuchvSKN"
      },
      "outputs": [],
      "source": [
        "def function_result_11():\n",
        "    \n",
        "    print('final training psnr = %9.8f' % (psnr_train_mean[-1]))"
      ]
    },
    {
      "cell_type": "code",
      "execution_count": 236,
      "metadata": {
        "id": "oVM4t9shvSKN"
      },
      "outputs": [],
      "source": [
        "def function_result_12():\n",
        "    \n",
        "    print('final testing psnr = %9.8f' % (psnr_test_mean[-1]))"
      ]
    },
    {
      "cell_type": "markdown",
      "metadata": {
        "id": "ApPParsbvSKO"
      },
      "source": [
        "---"
      ]
    },
    {
      "cell_type": "markdown",
      "metadata": {
        "id": "biuq6SBovSKO"
      },
      "source": [
        "## results "
      ]
    },
    {
      "cell_type": "markdown",
      "metadata": {
        "id": "uiuCHdl2vSKO"
      },
      "source": [
        "---"
      ]
    },
    {
      "cell_type": "code",
      "execution_count": 237,
      "metadata": {
        "colab": {
          "base_uri": "https://localhost:8080/",
          "height": 1000
        },
        "id": "dJqZqwz8vSKO",
        "outputId": "298849cf-5f0f-4065-8e21-ac7bc5108e50"
      },
      "outputs": [
        {
          "output_type": "stream",
          "name": "stdout",
          "text": [
            "\n",
            "################################################################################\n",
            "#\n",
            "# RESULT # 01\n",
            "#\n",
            "################################################################################\n",
            "\n"
          ]
        },
        {
          "output_type": "display_data",
          "data": {
            "text/plain": [
              "<Figure size 576x432 with 1 Axes>"
            ],
            "image/png": "[encoded data removed]"
          },
          "metadata": {
            "needs_background": "light"
          }
        },
        {
          "output_type": "stream",
          "name": "stdout",
          "text": [
            "\n",
            "################################################################################\n",
            "#\n",
            "# RESULT # 02\n",
            "#\n",
            "################################################################################\n",
            "\n"
          ]
        },
        {
          "output_type": "display_data",
          "data": {
            "text/plain": [
              "<Figure size 576x432 with 1 Axes>"
            ],
            "image/png": "[encoded data removed]"
          },
          "metadata": {
            "needs_background": "light"
          }
        },
        {
          "output_type": "stream",
          "name": "stdout",
          "text": [
            "\n",
            "################################################################################\n",
            "#\n",
            "# RESULT # 03\n",
            "#\n",
            "################################################################################\n",
            "\n"
          ]
        },
        {
          "output_type": "display_data",
          "data": {
            "text/plain": [
              "<Figure size 576x432 with 1 Axes>"
            ],
            "image/png": "[encoded data removed]"
          },
          "metadata": {
            "needs_background": "light"
          }
        },
        {
          "output_type": "stream",
          "name": "stdout",
          "text": [
            "\n",
            "################################################################################\n",
            "#\n",
            "# RESULT # 04\n",
            "#\n",
            "################################################################################\n",
            "\n"
          ]
        },
        {
          "output_type": "display_data",
          "data": {
            "text/plain": [
              "<Figure size 576x432 with 1 Axes>"
            ],
            "image/png": "[encoded data removed]"
          },
          "metadata": {
            "needs_background": "light"
          }
        },
        {
          "output_type": "stream",
          "name": "stdout",
          "text": [
            "\n",
            "################################################################################\n",
            "#\n",
            "# RESULT # 05\n",
            "#\n",
            "################################################################################\n",
            "\n"
          ]
        },
        {
          "output_type": "display_data",
          "data": {
            "text/plain": [
              "<Figure size 576x432 with 1 Axes>"
            ],
            "image/png": "[encoded data removed]"
          },
          "metadata": {
            "needs_background": "light"
          }
        },
        {
          "output_type": "stream",
          "name": "stdout",
          "text": [
            "\n",
            "################################################################################\n",
            "#\n",
            "# RESULT # 06\n",
            "#\n",
            "################################################################################\n",
            "\n"
          ]
        },
        {
          "output_type": "display_data",
          "data": {
            "text/plain": [
              "<Figure size 576x432 with 1 Axes>"
            ],
            "image/png": "[encoded data removed]"
          },
          "metadata": {
            "needs_background": "light"
          }
        },
        {
          "output_type": "stream",
          "name": "stdout",
          "text": [
            "\n",
            "################################################################################\n",
            "#\n",
            "# RESULT # 07\n",
            "#\n",
            "################################################################################\n",
            "\n"
          ]
        },
        {
          "output_type": "display_data",
          "data": {
            "text/plain": [
              "<Figure size 576x432 with 1 Axes>"
            ],
            "image/png": "[encoded data removed]"
          },
          "metadata": {
            "needs_background": "light"
          }
        },
        {
          "output_type": "stream",
          "name": "stdout",
          "text": [
            "\n",
            "################################################################################\n",
            "#\n",
            "# RESULT # 08\n",
            "#\n",
            "################################################################################\n",
            "\n"
          ]
        },
        {
          "output_type": "display_data",
          "data": {
            "text/plain": [
              "<Figure size 576x432 with 1 Axes>"
            ],
            "image/png": "[encoded data removed]"
          },
          "metadata": {
            "needs_background": "light"
          }
        },
        {
          "output_type": "stream",
          "name": "stdout",
          "text": [
            "\n",
            "################################################################################\n",
            "#\n",
            "# RESULT # 09\n",
            "#\n",
            "################################################################################\n",
            "\n"
          ]
        },
        {
          "output_type": "display_data",
          "data": {
            "text/plain": [
              "<Figure size 648x1944 with 27 Axes>"
            ],
            "image/png": "[encoded data removed]"
          },
          "metadata": {
            "needs_background": "light"
          }
        },
        {
          "output_type": "stream",
          "name": "stdout",
          "text": [
            "\n",
            "################################################################################\n",
            "#\n",
            "# RESULT # 10\n",
            "#\n",
            "################################################################################\n",
            "\n"
          ]
        },
        {
          "output_type": "display_data",
          "data": {
            "text/plain": [
              "<Figure size 648x1944 with 27 Axes>"
            ],
            "image/png": "[encoded data removed]"
          },
          "metadata": {
            "needs_background": "light"
          }
        },
        {
          "output_type": "stream",
          "name": "stdout",
          "text": [
            "\n",
            "################################################################################\n",
            "#\n",
            "# RESULT # 11\n",
            "#\n",
            "################################################################################\n",
            "\n",
            "final training psnr = 0.77586086\n",
            "\n",
            "################################################################################\n",
            "#\n",
            "# RESULT # 12\n",
            "#\n",
            "################################################################################\n",
            "\n",
            "final testing psnr = 0.73123875\n"
          ]
        }
      ],
      "source": [
        "number_result = 12 \n",
        "\n",
        "for i in range(number_result):\n",
        "\n",
        "    title           = '# RESULT # {:02d}'.format(i+1) \n",
        "    name_function   = 'function_result_{:02d}()'.format(i+1)\n",
        "\n",
        "    print('') \n",
        "    print('################################################################################')\n",
        "    print('#') \n",
        "    print(title)\n",
        "    print('#') \n",
        "    print('################################################################################')\n",
        "    print('') \n",
        "\n",
        "    eval(name_function)"
      ]
    }
  ],
  "metadata": {
    "accelerator": "GPU",
    "colab": {
      "collapsed_sections": [],
      "name": "assignment_07_solution.ipynb",
      "provenance": []
    },
    "kernelspec": {
      "display_name": "Python 3.9.12 ('base')",
      "language": "python",
      "name": "python3"
    },
    "language_info": {
      "codemirror_mode": {
        "name": "ipython",
        "version": 3
      },
      "file_extension": ".py",
      "mimetype": "text/x-python",
      "name": "python",
      "nbconvert_exporter": "python",
      "pygments_lexer": "ipython3",
      "version": "3.9.12"
    },
    "vscode": {
      "interpreter": {
        "hash": "40d3a090f54c6569ab1632332b64b2c03c39dcf918b08424e98f38b5ae0af88f"
      }
    },
    "widgets": {
      "application/vnd.jupyter.widget-state+json": {
        "6db295a6ae614447afbf08353fe68404": {
          "model_module": "@jupyter-widgets/controls",
          "model_name": "HBoxModel",
          "model_module_version": "1.5.0",
          "state": {
            "_dom_classes": [],
            "_model_module": "@jupyter-widgets/controls",
            "_model_module_version": "1.5.0",
            "_model_name": "HBoxModel",
            "_view_count": null,
            "_view_module": "@jupyter-widgets/controls",
            "_view_module_version": "1.5.0",
            "_view_name": "HBoxView",
            "box_style": "",
            "children": [
              "IPY_MODEL_6c05473438444105b7e5fd6f3243f272",
              "IPY_MODEL_4e2ae8e0f2714bdbbcbe9b0bb5f89040",
              "IPY_MODEL_fce0189f684f457a80fdbbc5708a2451"
            ],
            "layout": "IPY_MODEL_03d6f46b89864d6aa0cbdcd50309da25"
          }
        },
        "6c05473438444105b7e5fd6f3243f272": {
          "model_module": "@jupyter-widgets/controls",
          "model_name": "HTMLModel",
          "model_module_version": "1.5.0",
          "state": {
            "_dom_classes": [],
            "_model_module": "@jupyter-widgets/controls",
            "_model_module_version": "1.5.0",
            "_model_name": "HTMLModel",
            "_view_count": null,
            "_view_module": "@jupyter-widgets/controls",
            "_view_module_version": "1.5.0",
            "_view_name": "HTMLView",
            "description": "",
            "description_tooltip": null,
            "layout": "IPY_MODEL_d268de89528848e28ee13c9ffef88172",
            "placeholder": "​",
            "style": "IPY_MODEL_0d1e0a21339540d5b2a4079e75b7b29d",
            "value": "100%"
          }
        },
        "4e2ae8e0f2714bdbbcbe9b0bb5f89040": {
          "model_module": "@jupyter-widgets/controls",
          "model_name": "FloatProgressModel",
          "model_module_version": "1.5.0",
          "state": {
            "_dom_classes": [],
            "_model_module": "@jupyter-widgets/controls",
            "_model_module_version": "1.5.0",
            "_model_name": "FloatProgressModel",
            "_view_count": null,
            "_view_module": "@jupyter-widgets/controls",
            "_view_module_version": "1.5.0",
            "_view_name": "ProgressView",
            "bar_style": "success",
            "description": "",
            "description_tooltip": null,
            "layout": "IPY_MODEL_2b849d3bbd6f4d718539d5a0161ce5ed",
            "max": 100,
            "min": 0,
            "orientation": "horizontal",
            "style": "IPY_MODEL_33782bc706634ef69c7fdbae647e0eea",
            "value": 100
          }
        },
        "fce0189f684f457a80fdbbc5708a2451": {
          "model_module": "@jupyter-widgets/controls",
          "model_name": "HTMLModel",
          "model_module_version": "1.5.0",
          "state": {
            "_dom_classes": [],
            "_model_module": "@jupyter-widgets/controls",
            "_model_module_version": "1.5.0",
            "_model_name": "HTMLModel",
            "_view_count": null,
            "_view_module": "@jupyter-widgets/controls",
            "_view_module_version": "1.5.0",
            "_view_name": "HTMLView",
            "description": "",
            "description_tooltip": null,
            "layout": "IPY_MODEL_d85ddc02f53a43f2a96f8abc61218719",
            "placeholder": "​",
            "style": "IPY_MODEL_11ee85ebb31e4212aeb11d3c35c695bb",
            "value": " 100/100 [00:59&lt;00:00,  1.77it/s]"
          }
        },
        "03d6f46b89864d6aa0cbdcd50309da25": {
          "model_module": "@jupyter-widgets/base",
          "model_name": "LayoutModel",
          "model_module_version": "1.2.0",
          "state": {
            "_model_module": "@jupyter-widgets/base",
            "_model_module_version": "1.2.0",
            "_model_name": "LayoutModel",
            "_view_count": null,
            "_view_module": "@jupyter-widgets/base",
            "_view_module_version": "1.2.0",
            "_view_name": "LayoutView",
            "align_content": null,
            "align_items": null,
            "align_self": null,
            "border": null,
            "bottom": null,
            "display": null,
            "flex": null,
            "flex_flow": null,
            "grid_area": null,
            "grid_auto_columns": null,
            "grid_auto_flow": null,
            "grid_auto_rows": null,
            "grid_column": null,
            "grid_gap": null,
            "grid_row": null,
            "grid_template_areas": null,
            "grid_template_columns": null,
            "grid_template_rows": null,
            "height": null,
            "justify_content": null,
            "justify_items": null,
            "left": null,
            "margin": null,
            "max_height": null,
            "max_width": null,
            "min_height": null,
            "min_width": null,
            "object_fit": null,
            "object_position": null,
            "order": null,
            "overflow": null,
            "overflow_x": null,
            "overflow_y": null,
            "padding": null,
            "right": null,
            "top": null,
            "visibility": null,
            "width": null
          }
        },
        "d268de89528848e28ee13c9ffef88172": {
          "model_module": "@jupyter-widgets/base",
          "model_name": "LayoutModel",
          "model_module_version": "1.2.0",
          "state": {
            "_model_module": "@jupyter-widgets/base",
            "_model_module_version": "1.2.0",
            "_model_name": "LayoutModel",
            "_view_count": null,
            "_view_module": "@jupyter-widgets/base",
            "_view_module_version": "1.2.0",
            "_view_name": "LayoutView",
            "align_content": null,
            "align_items": null,
            "align_self": null,
            "border": null,
            "bottom": null,
            "display": null,
            "flex": null,
            "flex_flow": null,
            "grid_area": null,
            "grid_auto_columns": null,
            "grid_auto_flow": null,
            "grid_auto_rows": null,
            "grid_column": null,
            "grid_gap": null,
            "grid_row": null,
            "grid_template_areas": null,
            "grid_template_columns": null,
            "grid_template_rows": null,
            "height": null,
            "justify_content": null,
            "justify_items": null,
            "left": null,
            "margin": null,
            "max_height": null,
            "max_width": null,
            "min_height": null,
            "min_width": null,
            "object_fit": null,
            "object_position": null,
            "order": null,
            "overflow": null,
            "overflow_x": null,
            "overflow_y": null,
            "padding": null,
            "right": null,
            "top": null,
            "visibility": null,
            "width": null
          }
        },
        "0d1e0a21339540d5b2a4079e75b7b29d": {
          "model_module": "@jupyter-widgets/controls",
          "model_name": "DescriptionStyleModel",
          "model_module_version": "1.5.0",
          "state": {
            "_model_module": "@jupyter-widgets/controls",
            "_model_module_version": "1.5.0",
            "_model_name": "DescriptionStyleModel",
            "_view_count": null,
            "_view_module": "@jupyter-widgets/base",
            "_view_module_version": "1.2.0",
            "_view_name": "StyleView",
            "description_width": ""
          }
        },
        "2b849d3bbd6f4d718539d5a0161ce5ed": {
          "model_module": "@jupyter-widgets/base",
          "model_name": "LayoutModel",
          "model_module_version": "1.2.0",
          "state": {
            "_model_module": "@jupyter-widgets/base",
            "_model_module_version": "1.2.0",
            "_model_name": "LayoutModel",
            "_view_count": null,
            "_view_module": "@jupyter-widgets/base",
            "_view_module_version": "1.2.0",
            "_view_name": "LayoutView",
            "align_content": null,
            "align_items": null,
            "align_self": null,
            "border": null,
            "bottom": null,
            "display": null,
            "flex": null,
            "flex_flow": null,
            "grid_area": null,
            "grid_auto_columns": null,
            "grid_auto_flow": null,
            "grid_auto_rows": null,
            "grid_column": null,
            "grid_gap": null,
            "grid_row": null,
            "grid_template_areas": null,
            "grid_template_columns": null,
            "grid_template_rows": null,
            "height": null,
            "justify_content": null,
            "justify_items": null,
            "left": null,
            "margin": null,
            "max_height": null,
            "max_width": null,
            "min_height": null,
            "min_width": null,
            "object_fit": null,
            "object_position": null,
            "order": null,
            "overflow": null,
            "overflow_x": null,
            "overflow_y": null,
            "padding": null,
            "right": null,
            "top": null,
            "visibility": null,
            "width": null
          }
        },
        "33782bc706634ef69c7fdbae647e0eea": {
          "model_module": "@jupyter-widgets/controls",
          "model_name": "ProgressStyleModel",
          "model_module_version": "1.5.0",
          "state": {
            "_model_module": "@jupyter-widgets/controls",
            "_model_module_version": "1.5.0",
            "_model_name": "ProgressStyleModel",
            "_view_count": null,
            "_view_module": "@jupyter-widgets/base",
            "_view_module_version": "1.2.0",
            "_view_name": "StyleView",
            "bar_color": null,
            "description_width": ""
          }
        },
        "d85ddc02f53a43f2a96f8abc61218719": {
          "model_module": "@jupyter-widgets/base",
          "model_name": "LayoutModel",
          "model_module_version": "1.2.0",
          "state": {
            "_model_module": "@jupyter-widgets/base",
            "_model_module_version": "1.2.0",
            "_model_name": "LayoutModel",
            "_view_count": null,
            "_view_module": "@jupyter-widgets/base",
            "_view_module_version": "1.2.0",
            "_view_name": "LayoutView",
            "align_content": null,
            "align_items": null,
            "align_self": null,
            "border": null,
            "bottom": null,
            "display": null,
            "flex": null,
            "flex_flow": null,
            "grid_area": null,
            "grid_auto_columns": null,
            "grid_auto_flow": null,
            "grid_auto_rows": null,
            "grid_column": null,
            "grid_gap": null,
            "grid_row": null,
            "grid_template_areas": null,
            "grid_template_columns": null,
            "grid_template_rows": null,
            "height": null,
            "justify_content": null,
            "justify_items": null,
            "left": null,
            "margin": null,
            "max_height": null,
            "max_width": null,
            "min_height": null,
            "min_width": null,
            "object_fit": null,
            "object_position": null,
            "order": null,
            "overflow": null,
            "overflow_x": null,
            "overflow_y": null,
            "padding": null,
            "right": null,
            "top": null,
            "visibility": null,
            "width": null
          }
        },
        "11ee85ebb31e4212aeb11d3c35c695bb": {
          "model_module": "@jupyter-widgets/controls",
          "model_name": "DescriptionStyleModel",
          "model_module_version": "1.5.0",
          "state": {
            "_model_module": "@jupyter-widgets/controls",
            "_model_module_version": "1.5.0",
            "_model_name": "DescriptionStyleModel",
            "_view_count": null,
            "_view_module": "@jupyter-widgets/base",
            "_view_module_version": "1.2.0",
            "_view_name": "StyleView",
            "description_width": ""
          }
        }
      }
    },
    "gpuClass": "standard"
  },
  "nbformat": 4,
  "nbformat_minor": 0
}