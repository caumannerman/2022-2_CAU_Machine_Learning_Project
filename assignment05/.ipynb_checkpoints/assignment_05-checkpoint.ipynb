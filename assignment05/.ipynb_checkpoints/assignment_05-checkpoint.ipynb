{
 "cells": [
  {
   "cell_type": "markdown",
   "metadata": {
    "id": "begY3mUTG0jC"
   },
   "source": [
    "# A neural network for a classification with multiple labels"
   ]
  },
  {
   "cell_type": "markdown",
   "metadata": {
    "id": "j9j9yKQ-G0jD"
   },
   "source": [
    "## import library"
   ]
  },
  {
   "cell_type": "code",
   "execution_count": 142,
   "metadata": {
    "id": "F1H_k97cG0jE"
   },
   "outputs": [],
   "source": [
    "import numpy as np\n",
    "import matplotlib.image as img\n",
    "import matplotlib.pyplot as plt\n",
    "import matplotlib.colors as colors\n",
    "from matplotlib import ticker, cm\n",
    "import os\n",
    "from tqdm import tqdm"
   ]
  },
  {
   "cell_type": "markdown",
   "metadata": {
    "id": "Blau9gTiG0jF"
   },
   "source": [
    "## load data"
   ]
  },
  {
   "cell_type": "code",
   "execution_count": 143,
   "metadata": {
    "id": "9_n8a1ypG0jF"
   },
   "outputs": [],
   "source": [
    "directory_data  = './sample_data'\n",
    "filename_data   = 'assignment_05_data.npz'\n",
    "path_data       = os.path.join(directory_data, filename_data) \n",
    "data            = np.load(path_data)\n",
    "\n",
    "x_train = data['x_train']\n",
    "y_train = data['y_train']\n",
    "\n",
    "x_test  = data['x_test']\n",
    "y_test  = data['y_test']\n",
    "\n",
    "x_train = np.asarray(x_train)\n",
    "y_train = np.asarray(y_train)\n",
    "\n",
    "x_test  = np.asarray(x_test)\n",
    "y_test  = np.asarray(y_test)\n",
    "\n",
    "vec_x_train = x_train.reshape(x_train.shape[0], x_train.shape[1] * x_train.shape[2])\n",
    "vec_x_test  = x_test.reshape(x_test.shape[0], x_test.shape[1] * x_test.shape[2])"
   ]
  },
  {
   "cell_type": "code",
   "execution_count": 144,
   "metadata": {
    "colab": {
     "base_uri": "https://localhost:8080/"
    },
    "id": "Vi2qSr2QG0jG",
    "outputId": "7768dbe2-f894-41ba-91e1-d204882ee11e"
   },
   "outputs": [
    {
     "name": "stdout",
     "output_type": "stream",
     "text": [
      "*************************************************\n",
      "size of x_train : (20000, 28, 28)\n",
      "size of y_train : (20000, 10)\n",
      "*************************************************\n",
      "size of x_test : (8000, 28, 28)\n",
      "size of y_test : (8000, 10)\n",
      "*************************************************\n",
      "size of vector_x_train : (20000, 784)\n",
      "size of vector_x_test : (8000, 784)\n",
      "*************************************************\n"
     ]
    }
   ],
   "source": [
    "print('*************************************************')\n",
    "print('size of x_train :', x_train.shape)\n",
    "print('size of y_train :', y_train.shape)\n",
    "print('*************************************************')\n",
    "print('size of x_test :', x_test.shape)\n",
    "print('size of y_test :', y_test.shape)\n",
    "print('*************************************************')\n",
    "print('size of vector_x_train :', vec_x_train.shape)\n",
    "print('size of vector_x_test :', vec_x_test.shape)\n",
    "print('*************************************************')"
   ]
  },
  {
   "cell_type": "markdown",
   "metadata": {
    "id": "a8vwy7vkG0jH"
   },
   "source": [
    "## index for each class"
   ]
  },
  {
   "cell_type": "code",
   "execution_count": 145,
   "metadata": {
    "id": "s0m7-laKG0jH"
   },
   "outputs": [],
   "source": [
    "number_class        = y_train.shape[1]\n",
    "length_data         = vec_x_train.shape[1]\n",
    "number_data_train   = vec_x_train.shape[0]\n",
    "number_data_test    = vec_x_test.shape[0]\n",
    "\n",
    "index_train = {}\n",
    "index_test  = {}\n",
    "\n",
    "number_index_train  = np.zeros(number_class)\n",
    "number_index_test   = np.zeros(number_class)\n",
    "\n",
    "for i in range(number_class):\n",
    "\n",
    "    index_train[i]  = np.where(y_train[:, i] == 1)\n",
    "    index_test[i]   = np.where(y_test[:, i] == 1)\n",
    "\n",
    "    number_index_train[i]   = np.shape(index_train[i])[1]\n",
    "    number_index_test[i]    = np.shape(index_test[i])[1]"
   ]
  },
  {
   "cell_type": "code",
   "execution_count": 146,
   "metadata": {
    "colab": {
     "base_uri": "https://localhost:8080/"
    },
    "id": "gSPPTM_GG0jH",
    "outputId": "977ed8ff-fb84-494f-ca2a-3b4c79226e2b"
   },
   "outputs": [
    {
     "name": "stdout",
     "output_type": "stream",
     "text": [
      "*************************************************\n",
      "number of training data : 20000\n",
      "length of testing data : 8000\n",
      "*************************************************\n",
      "number of classes : 10\n",
      "length of data : 784\n",
      "*************************************************\n",
      "number of training images for each class : [2000. 2000. 2000. 2000. 2000. 2000. 2000. 2000. 2000. 2000.]\n",
      "number of testing images for each class : [800. 800. 800. 800. 800. 800. 800. 800. 800. 800.]\n",
      "*************************************************\n"
     ]
    }
   ],
   "source": [
    "print('*************************************************')\n",
    "print('number of training data :', number_data_train)\n",
    "print('length of testing data :', number_data_test)\n",
    "print('*************************************************')\n",
    "print('number of classes :', number_class)\n",
    "print('length of data :', length_data)\n",
    "print('*************************************************')\n",
    "print('number of training images for each class :', number_index_train)\n",
    "print('number of testing images for each class :', number_index_test)\n",
    "print('*************************************************')"
   ]
  },
  {
   "cell_type": "markdown",
   "metadata": {
    "id": "3PQ0bKlmG0jI"
   },
   "source": [
    "## plot grey image"
   ]
  },
  {
   "cell_type": "code",
   "execution_count": 147,
   "metadata": {
    "id": "Xi_PL_yCG0jI"
   },
   "outputs": [],
   "source": [
    "def plot_image(title, data):\n",
    "\n",
    "    nRow = 2\n",
    "    nCol = 5\n",
    "    size = 2 \n",
    "    \n",
    "    fig, axes = plt.subplots(nRow, nCol, figsize=(size * nCol, size * nRow))\n",
    "    fig.suptitle(title, fontsize=16)\n",
    "    \n",
    "    for i in range(nRow):\n",
    "        for j in range(nCol):\n",
    "\n",
    "            k = i * nCol + j\n",
    "            axes[i, j].imshow(data[k], cmap='gray', vmin=0, vmax=1)\n",
    "\n",
    "    plt.tight_layout()\n",
    "    plt.show()"
   ]
  },
  {
   "cell_type": "code",
   "execution_count": 148,
   "metadata": {
    "colab": {
     "base_uri": "https://localhost:8080/",
     "height": 1000
    },
    "id": "QX1Y116XG0jI",
    "outputId": "4843a546-77f7-42d1-c39b-72ab33993748"
   },
   "outputs": [
    {
     "data": {
      "image/png": "[encoded data removed]",
      "text/plain": [
       "<Figure size 720x288 with 10 Axes>"
      ]
     },
     "metadata": {
      "needs_background": "light"
     },
     "output_type": "display_data"
    },
    {
     "data": {
      "image/png": "[encoded data removed]",
      "text/plain": [
       "<Figure size 720x288 with 10 Axes>"
      ]
     },
     "metadata": {
      "needs_background": "light"
     },
     "output_type": "display_data"
    },
    {
     "data": {
      "image/png": "[encoded data removed]",
      "text/plain": [
       "<Figure size 720x288 with 10 Axes>"
      ]
     },
     "metadata": {
      "needs_background": "light"
     },
     "output_type": "display_data"
    },
    {
     "data": {
      "image/png": "[encoded data removed]",
      "text/plain": [
       "<Figure size 720x288 with 10 Axes>"
      ]
     },
     "metadata": {
      "needs_background": "light"
     },
     "output_type": "display_data"
    },
    {
     "data": {
      "image/png": "[encoded data removed]",
      "text/plain": [
       "<Figure size 720x288 with 10 Axes>"
      ]
     },
     "metadata": {
      "needs_background": "light"
     },
     "output_type": "display_data"
    },
    {
     "data": {
      "image/png": "[encoded data removed]",
      "text/plain": [
       "<Figure size 720x288 with 10 Axes>"
      ]
     },
     "metadata": {
      "needs_background": "light"
     },
     "output_type": "display_data"
    },
    {
     "data": {
      "image/png": "[encoded data removed]",
      "text/plain": [
       "<Figure size 720x288 with 10 Axes>"
      ]
     },
     "metadata": {
      "needs_background": "light"
     },
     "output_type": "display_data"
    },
    {
     "data": {
      "image/png": "[encoded data removed]",
      "text/plain": [
       "<Figure size 720x288 with 10 Axes>"
      ]
     },
     "metadata": {
      "needs_background": "light"
     },
     "output_type": "display_data"
    },
    {
     "data": {
      "image/png": "[encoded data removed]",
      "text/plain": [
       "<Figure size 720x288 with 10 Axes>"
      ]
     },
     "metadata": {
      "needs_background": "light"
     },
     "output_type": "display_data"
    },
    {
     "data": {
      "image/png": "[encoded data removed]",
      "text/plain": [
       "<Figure size 720x288 with 10 Axes>"
      ]
     },
     "metadata": {
      "needs_background": "light"
     },
     "output_type": "display_data"
    }
   ],
   "source": [
    "for c in range(number_class):\n",
    "\n",
    "    index_class = c\n",
    "    title       = 'training image for digit ' + str(index_class)\n",
    "    plot_image(title, x_train[index_train[index_class][0]])"
   ]
  },
  {
   "cell_type": "markdown",
   "metadata": {
    "id": "ABfYWibJG0jJ"
   },
   "source": [
    "## initialize the neural network"
   ]
  },
  {
   "cell_type": "markdown",
   "metadata": {
    "id": "OU6o0QQ5G0jJ"
   },
   "source": [
    "- neural network consists of fullly connected linear layer followed by softmax activation function\n",
    "- the size of the fully connected layer is input (length of data) and output (number of classes)"
   ]
  },
  {
   "cell_type": "markdown",
   "metadata": {
    "id": "d4tbZWvmG0jJ"
   },
   "source": [
    "## initialize the weights for the fully connected layer"
   ]
  },
  {
   "cell_type": "markdown",
   "metadata": {
    "id": "MTaSwcwUG0jK"
   },
   "source": [
    "- create one matrix for the weights\n",
    "- consider a bias in the construction of weights"
   ]
  },
  {
   "cell_type": "code",
   "execution_count": 149,
   "metadata": {
    "id": "xiAa2CnvG0jK"
   },
   "outputs": [],
   "source": [
    "# ================================================== \n",
    "# fill up the blank\n",
    "#\n",
    "# 1 + num of input nodes\n",
    "size_input  = vec_x_train.shape[1] + 1\n",
    "# same as num of classes\n",
    "size_output = y_train.shape[1]\n",
    "#\n",
    "# ================================================== \n",
    "# (785, 10)\n",
    "weight = np.ones((size_input, size_output))"
   ]
  },
  {
   "cell_type": "code",
   "execution_count": 150,
   "metadata": {
    "colab": {
     "base_uri": "https://localhost:8080/"
    },
    "id": "_AVXByqeG0jK",
    "outputId": "6e6ff28d-a225-4547-e085-08ea66c29444"
   },
   "outputs": [
    {
     "name": "stdout",
     "output_type": "stream",
     "text": [
      "size of the weight : (785, 10)\n"
     ]
    }
   ],
   "source": [
    "print('size of the weight :', weight.shape)"
   ]
  },
  {
   "cell_type": "markdown",
   "metadata": {
    "id": "5grc0NKvG0jK"
   },
   "source": [
    "## initialize the data for considering a bias"
   ]
  },
  {
   "cell_type": "markdown",
   "metadata": {
    "id": "Dd4z_qmIG0jK"
   },
   "source": [
    "- add 1 at the end of each vectorized data"
   ]
  },
  {
   "cell_type": "code",
   "execution_count": 151,
   "metadata": {
    "id": "lYgPBfZmG0jL"
   },
   "outputs": [],
   "source": [
    "# ================================================== \n",
    "# fill up the blank\n",
    "#\n",
    "ones_train = np.ones((vec_x_train.shape[0], 1))\n",
    "ones_test = np.ones((vec_x_test.shape[0], 1))\n",
    "# (20000, 784) -> (20000, 785)\n",
    "vec_x_train = np.concatenate((vec_x_train, ones_train), axis = 1)\n",
    "# ( 8000, 784) -> ( 8000, 785)\n",
    "vec_x_test = np.concatenate((vec_x_test, ones_test), axis = 1)\n",
    "#\n",
    "# ================================================== "
   ]
  },
  {
   "cell_type": "code",
   "execution_count": 152,
   "metadata": {
    "colab": {
     "base_uri": "https://localhost:8080/"
    },
    "id": "8jcI3nz2G0jL",
    "outputId": "85aaf1d0-1106-411a-efde-1be6520a0f93"
   },
   "outputs": [
    {
     "name": "stdout",
     "output_type": "stream",
     "text": [
      "size of training data : (20000, 785)\n",
      "size of testing data : (8000, 785)\n"
     ]
    }
   ],
   "source": [
    "print('size of training data :', vec_x_train.shape)\n",
    "print('size of testing data :', vec_x_test.shape)"
   ]
  },
  {
   "cell_type": "markdown",
   "metadata": {
    "id": "RjdqEB9uG0jL"
   },
   "source": [
    "## define neural network "
   ]
  },
  {
   "cell_type": "markdown",
   "metadata": {
    "id": "YATkCUheG0jM"
   },
   "source": [
    "### define softmax function "
   ]
  },
  {
   "cell_type": "markdown",
   "metadata": {
    "id": "E9EFWAOnG0jM"
   },
   "source": [
    "- input : number of data $\\times$ number of classes\n",
    "- output : number of data $\\times$ number of classes"
   ]
  },
  {
   "cell_type": "code",
   "execution_count": 153,
   "metadata": {
    "id": "yMXV_lBrG0jM"
   },
   "outputs": [],
   "source": [
    "def activation_softmax(input):\n",
    "\n",
    "# ================================================== \n",
    "# fill up the blank\n",
    "#\n",
    "    # apply exp calculation to all elements\n",
    "    exp_input = np.exp(input)\n",
    "    # Sum the rows and take the reciprocal of all elements & reshape to make broadcast calc possible\n",
    "    exp_input_rowsum = np.reciprocal(exp_input.sum(axis=1)).reshape(input.shape[0],1)\n",
    "    # broadcast calculation of numpy\n",
    "    output = exp_input * exp_input_rowsum\n",
    "\n",
    "#\n",
    "# ================================================== \n",
    "\n",
    "    return output "
   ]
  },
  {
   "cell_type": "code",
   "execution_count": 154,
   "metadata": {
    "colab": {
     "base_uri": "https://localhost:8080/"
    },
    "id": "RBu2ufoTVg8w",
    "outputId": "d64859e2-5c41-4841-fb66-445b0efbe8e7"
   },
   "outputs": [
    {
     "name": "stdout",
     "output_type": "stream",
     "text": [
      "(20000, 785)\n",
      "(20000, 785)\n",
      "[1. 1. 1. ... 1. 1. 1.]\n"
     ]
    }
   ],
   "source": [
    "# unit-test_ activation_softmax\n",
    "print(vec_x_train.shape)\n",
    "print(activation_softmax(vec_x_train).shape)\n",
    "print(activation_softmax(vec_x_train).sum(axis=1))"
   ]
  },
  {
   "cell_type": "markdown",
   "metadata": {
    "id": "Ga8Un-mEG0jM"
   },
   "source": [
    "### define the layer"
   ]
  },
  {
   "cell_type": "markdown",
   "metadata": {
    "id": "_hzGX3F-G0jM"
   },
   "source": [
    "- input : number of data $\\times$ length of data\n",
    "- weight : length of data $\\times$ number of classes\n",
    "- output : number of data $\\times$  number of classes"
   ]
  },
  {
   "cell_type": "code",
   "execution_count": 155,
   "metadata": {
    "id": "MzBy7O85G0jM"
   },
   "outputs": [],
   "source": [
    "def layer_fully_connected(input, weight):\n",
    "\n",
    "# ================================================== \n",
    "# fill up the blank\n",
    "#\n",
    "    # ( minibatch size, 785 ) dot ( 785, num_of_classes) => (minibatch_size, num_of_classes)\n",
    "    output = input.dot(weight)\n",
    "\n",
    "#\n",
    "# ================================================== \n",
    "\n",
    "    return output"
   ]
  },
  {
   "cell_type": "code",
   "execution_count": 156,
   "metadata": {
    "colab": {
     "base_uri": "https://localhost:8080/"
    },
    "id": "l8TKd8hvV216",
    "outputId": "81bf44cf-5235-4b31-8f58-8f8ca4c77213"
   },
   "outputs": [
    {
     "name": "stdout",
     "output_type": "stream",
     "text": [
      "(20000, 10)\n"
     ]
    }
   ],
   "source": [
    "print(layer_fully_connected(vec_x_train, weight).shape)"
   ]
  },
  {
   "cell_type": "markdown",
   "metadata": {
    "id": "cjznG7B8G0jN"
   },
   "source": [
    "## define forward propagation"
   ]
  },
  {
   "cell_type": "markdown",
   "metadata": {
    "id": "c3Wj5QmrG0jN"
   },
   "source": [
    "- input : number of data $\\times$ length of data\n",
    "- weight : length of data $\\times$ number of classes\n",
    "- prediction : number of data $\\times$  number of classes"
   ]
  },
  {
   "cell_type": "code",
   "execution_count": 157,
   "metadata": {
    "id": "_Ucwn7HcG0jN"
   },
   "outputs": [],
   "source": [
    "def compute_prediction(input, weight):\n",
    "\n",
    "# ================================================== \n",
    "# fill up the blank\n",
    "#\n",
    "    fully = layer_fully_connected(input, weight)\n",
    "    prediction = activation_softmax(fully)\n",
    "\n",
    "#\n",
    "# ================================================== \n",
    "    \n",
    "    return prediction "
   ]
  },
  {
   "cell_type": "code",
   "execution_count": 158,
   "metadata": {
    "colab": {
     "base_uri": "https://localhost:8080/"
    },
    "id": "6ozLxsJtWSaT",
    "outputId": "8fad7697-b41e-4052-e8c8-bcf19f3021ec"
   },
   "outputs": [
    {
     "name": "stdout",
     "output_type": "stream",
     "text": [
      "(20000, 10)\n"
     ]
    }
   ],
   "source": [
    "print(compute_prediction(vec_x_train, weight).shape)"
   ]
  },
  {
   "cell_type": "markdown",
   "metadata": {
    "id": "mOif_3C5G0jO"
   },
   "source": [
    "## define the loss function"
   ]
  },
  {
   "cell_type": "markdown",
   "metadata": {
    "id": "c0nwQ9EfG0jO"
   },
   "source": [
    "- cross entropy between the ground truth and the prediction\n",
    "- cross entropy : $- \\sum_k y_k \\log(h_k)$\n",
    "  - $y_k$ : $k$-th element in grount truth\n",
    "  - $h_k$ : $k$-th element in prediction\n",
    "- weight decay : $\\frac{\\alpha}{2} \\| w \\|_2^2$\n",
    "- prediction : number of data $\\times$  number of classes\n",
    "- label : number of data $\\times$  number of classes\n",
    "- loss : number of data $\\times$ 1 "
   ]
  },
  {
   "cell_type": "code",
   "execution_count": 202,
   "metadata": {
    "id": "vTFT1iX1G0jO"
   },
   "outputs": [],
   "source": [
    "def compute_loss_data_fidelity(prediction, label):\n",
    "\n",
    "# ================================================== \n",
    "# fill up the blank\n",
    "#\n",
    "    temp_pred = -np.log(prediction + 1e-50)\n",
    "    loss = (temp_pred * label).sum(axis=1).reshape(prediction.shape[0], 1)\n",
    "    \n",
    "#\n",
    "# ================================================== \n",
    "    #(number of data, 1) shape\n",
    "    return loss"
   ]
  },
  {
   "cell_type": "code",
   "execution_count": 160,
   "metadata": {
    "colab": {
     "base_uri": "https://localhost:8080/"
    },
    "id": "TNeKb5H2X9bv",
    "outputId": "644d92f5-f98f-46f3-b6b3-b3db95606263"
   },
   "outputs": [
    {
     "name": "stdout",
     "output_type": "stream",
     "text": [
      "(20000, 1)\n",
      "0.0\n"
     ]
    }
   ],
   "source": [
    "print(compute_loss_data_fidelity(np.ones((20000, 10)), np.ones((20000, 10))).shape)\n",
    "print(compute_loss_data_fidelity(np.ones((20000, 10)), np.ones((20000, 10))).sum())"
   ]
  },
  {
   "cell_type": "code",
   "execution_count": 203,
   "metadata": {
    "id": "yV54lLf_G0jO"
   },
   "outputs": [],
   "source": [
    "def compute_loss_regularization(weight, alpha):\n",
    "\n",
    "# ================================================== \n",
    "# fill up the blank\n",
    "#\n",
    "    squared_sum = (weight ** 2).sum()\n",
    "    loss = (np.sqrt(squared_sum) * alpha) / 2\n",
    "\n",
    "#\n",
    "# ================================================== \n",
    "    # Scalar\n",
    "    return loss"
   ]
  },
  {
   "cell_type": "code",
   "execution_count": 162,
   "metadata": {
    "colab": {
     "base_uri": "https://localhost:8080/"
    },
    "id": "ByvV5XDqYls_",
    "outputId": "f2064db9-1335-4873-e65f-d192806941a8"
   },
   "outputs": [
    {
     "name": "stdout",
     "output_type": "stream",
     "text": [
      "0.5809475019311126\n"
     ]
    }
   ],
   "source": [
    "print(compute_loss_regularization(np.ones((3,5)), 0.3))"
   ]
  },
  {
   "cell_type": "code",
   "execution_count": 204,
   "metadata": {
    "id": "AmZFL7AyG0jP"
   },
   "outputs": [],
   "source": [
    "def compute_loss(prediction, label, weight, alpha):\n",
    "\n",
    "# ================================================== \n",
    "# fill up the blank\n",
    "#\n",
    "    loss = np.mean(compute_loss_data_fidelity(prediction, label)) + compute_loss_regularization(weight, alpha)\n",
    "#\n",
    "# ================================================== \n",
    "\n",
    "    return loss"
   ]
  },
  {
   "cell_type": "code",
   "execution_count": 164,
   "metadata": {
    "colab": {
     "base_uri": "https://localhost:8080/"
    },
    "id": "E9TwuND7eQPu",
    "outputId": "1aa5bbe4-f5b9-455a-c52b-356796d20e93"
   },
   "outputs": [
    {
     "name": "stdout",
     "output_type": "stream",
     "text": [
      "13.290033860002012\n"
     ]
    }
   ],
   "source": [
    "print(compute_loss(np.ones((20000, 10)), np.ones((20000, 10)), np.ones((785, 10)), 0.3))"
   ]
  },
  {
   "cell_type": "markdown",
   "metadata": {
    "id": "8vvhZTEnG0jP"
   },
   "source": [
    "## compute the accuracy"
   ]
  },
  {
   "cell_type": "markdown",
   "metadata": {
    "id": "InU2w_QtJcAz"
   },
   "source": []
  },
  {
   "cell_type": "markdown",
   "metadata": {
    "id": "4MM-ZPvfG0jP"
   },
   "source": [
    "- prediction : number of data $\\times$  number of classes\n",
    "- label : number of data $\\times$  number of classes\n",
    "- accuracy : scalar\n",
    "- note that iterations over the input data are not allowed inside the function"
   ]
  },
  {
   "cell_type": "code",
   "execution_count": 165,
   "metadata": {
    "id": "5yPB-BGTG0jP"
   },
   "outputs": [],
   "source": [
    "def compute_accuracy(prediction, label):\n",
    "\n",
    "# ================================================== \n",
    "# fill up the blank\n",
    "#\n",
    "    num_data = prediction.shape[0]\n",
    "    pred_max = np.argmax(prediction, axis=1)\n",
    "    label_max = np.argmax(label, axis=1)\n",
    "    accuracy = np.sum(pred_max == label_max) / num_data\n",
    "\n",
    "#\n",
    "# ================================================== \n",
    "\n",
    "    return accuracy"
   ]
  },
  {
   "cell_type": "code",
   "execution_count": 166,
   "metadata": {
    "colab": {
     "base_uri": "https://localhost:8080/"
    },
    "id": "p96YT9gMemTJ",
    "outputId": "3deddff4-bada-40a8-fa94-b32c13822d6b"
   },
   "outputs": [
    {
     "name": "stdout",
     "output_type": "stream",
     "text": [
      "0.6666666666666666\n"
     ]
    }
   ],
   "source": [
    "print(compute_accuracy(np.array([[1,2,3],[1,2,3],[3,2,1]]), np.array([[1,3, 2],[1,2,3],[3,2,1]])))"
   ]
  },
  {
   "cell_type": "markdown",
   "metadata": {
    "id": "EHe_RRWnG0jQ"
   },
   "source": [
    "## compute the gradient with respect to the weights"
   ]
  },
  {
   "cell_type": "markdown",
   "metadata": {
    "id": "CND8lThkG0jR"
   },
   "source": [
    "- note that iterations over the input data are not allowed inside the function\n",
    "- input : number of data $\\times$ length of data\n",
    "- label : number of data $\\times$ number of classes\n",
    "- prediction : number of data $\\times$  number of classes\n",
    "- gradient : length of data $\\times$ number of classes"
   ]
  },
  {
   "cell_type": "code",
   "execution_count": 167,
   "metadata": {
    "id": "oZUicJdOG0jR"
   },
   "outputs": [],
   "source": [
    "def compute_gradient_weight_data_fidelity(input, label, prediction):\n",
    "\n",
    "# ================================================== \n",
    "# fill up the blank\n",
    "#\n",
    "# input: ( minibatch_size, 785)\n",
    "# label, prediction: (minibatch_size, 10)\n",
    "    gradient = (input.T).dot(prediction - label) \n",
    "    gradient /= input.shape[0]\n",
    "\n",
    "#\n",
    "# ================================================== \n",
    "\n",
    "    return gradient"
   ]
  },
  {
   "cell_type": "code",
   "execution_count": 168,
   "metadata": {
    "colab": {
     "base_uri": "https://localhost:8080/"
    },
    "id": "KOuXCafcfIgQ",
    "outputId": "96525965-8664-449d-d034-58e9592b69dd"
   },
   "outputs": [
    {
     "name": "stdout",
     "output_type": "stream",
     "text": [
      "(785, 10)\n"
     ]
    }
   ],
   "source": [
    "print(compute_gradient_weight_data_fidelity(np.ones((20000, 785)), np.ones((20000, 10)), np.ones((20000, 10))).shape)"
   ]
  },
  {
   "cell_type": "code",
   "execution_count": 169,
   "metadata": {
    "id": "sYDjfCURG0jR"
   },
   "outputs": [],
   "source": [
    "def compute_gradient_weight_regularization(weight, alpha):\n",
    "\n",
    "# ================================================== \n",
    "# fill up the blank\n",
    "#\n",
    "\n",
    "    gradient = weight * alpha\n",
    "\n",
    "#\n",
    "# ================================================== \n",
    "\n",
    "    return gradient"
   ]
  },
  {
   "cell_type": "code",
   "execution_count": 170,
   "metadata": {
    "id": "Beg32AjuG0jS"
   },
   "outputs": [],
   "source": [
    "def compute_gradient_weight(input, label, prediction, weight, alpha):\n",
    "\n",
    "# ================================================== \n",
    "# fill up the blank\n",
    "#\n",
    "    # (785, 10)\n",
    "    gradient = compute_gradient_weight_data_fidelity(input, label, prediction) + compute_gradient_weight_regularization(weight, alpha)\n",
    "\n",
    "#\n",
    "# ================================================== \n",
    "\n",
    "    return gradient"
   ]
  },
  {
   "cell_type": "markdown",
   "metadata": {
    "id": "XQFeDAJbG0jS"
   },
   "source": [
    "## gradient descent algorithm"
   ]
  },
  {
   "cell_type": "markdown",
   "metadata": {
    "id": "8wFfM33OG0jS"
   },
   "source": [
    "- hyper-parameters"
   ]
  },
  {
   "cell_type": "code",
   "execution_count": 269,
   "metadata": {
    "id": "hgPAcRdrG0jS",
    "tags": []
   },
   "outputs": [],
   "source": [
    "# ================================================== \n",
    "# fill up the blank\n",
    "#\n",
    "#refresh\n",
    "weight = np.ones((size_input, size_output))\n",
    "number_epoch        = 100\n",
    "size_minibatch      = 2000\n",
    "learning_rate       = 0.05\n",
    "weight              = weight * 0.001\n",
    "alpha               = 0.0001\n",
    "#\n",
    "# ================================================== "
   ]
  },
  {
   "cell_type": "markdown",
   "metadata": {
    "id": "Sg0OrZxXG0jT"
   },
   "source": [
    "## variables for storing intermediate results"
   ]
  },
  {
   "cell_type": "code",
   "execution_count": 270,
   "metadata": {
    "id": "mt0RX8oIG0jT"
   },
   "outputs": [],
   "source": [
    "accuracy_train  = np.zeros(number_epoch)\n",
    "accuracy_test   = np.zeros(number_epoch)\n",
    "loss_train_mean = np.zeros(number_epoch)\n",
    "loss_train_std  = np.zeros(number_epoch)\n",
    "loss_test_mean  = np.zeros(number_epoch)\n",
    "loss_test_std   = np.zeros(number_epoch)"
   ]
  },
  {
   "cell_type": "markdown",
   "metadata": {
    "id": "YYHyDKeQG0jT"
   },
   "source": [
    "## run the gradient descent algorithm"
   ]
  },
  {
   "cell_type": "code",
   "execution_count": 271,
   "metadata": {
    "colab": {
     "base_uri": "https://localhost:8080/"
    },
    "id": "0ZTR1YSUG0jT",
    "outputId": "a862d95d-cfc0-4d97-8afc-0fbf6b464354"
   },
   "outputs": [
    {
     "name": "stderr",
     "output_type": "stream",
     "text": [
      "100%|██████████| 100/100 [00:34<00:00,  2.90it/s]\n"
     ]
    }
   ],
   "source": [
    "for i in tqdm(range(number_epoch)):\n",
    "\n",
    "    # ================================================== \n",
    "    # fill up the blank\n",
    "    # shuffle data at each epoch\n",
    "    #\n",
    "    # (20000, 785)\n",
    "    shuffled_vec_x_train = np.empty(vec_x_train.shape, dtype=vec_x_train.dtype)\n",
    "    # (20000, 10)\n",
    "    shuffled_y_train = np.empty(y_train.shape, dtype=y_train.dtype)\n",
    "    # shuffle data\n",
    "    permu = np.random.permutation(len(vec_x_train))\n",
    "\n",
    "    for o_idx, n_idx in enumerate(permu):\n",
    "      \n",
    "      shuffled_vec_x_train[n_idx] = vec_x_train[o_idx]\n",
    "      shuffled_y_train[n_idx] = y_train[o_idx]\n",
    "    \n",
    "    number_minibatch = vec_x_train.shape[0] // size_minibatch\n",
    "    #\n",
    "    # ================================================== \n",
    "    # itertaion 한 번 \n",
    "    for j in range(number_minibatch):\n",
    "\n",
    "        # ================================================== \n",
    "        # fill up the blank\n",
    "        # update weights using a mini-batch\n",
    "        #\n",
    "        iter_input = shuffled_vec_x_train[j * size_minibatch : (j + 1) * size_minibatch]\n",
    "        iter_label = shuffled_y_train[j * size_minibatch : (j + 1) * size_minibatch]\n",
    "      \n",
    "        # inferrence\n",
    "        iter_pred = compute_prediction(iter_input, weight)\n",
    "\n",
    "        #update weight \n",
    "        weight -= learning_rate * compute_gradient_weight(iter_input, iter_label, iter_pred, weight, alpha)\n",
    "        \n",
    "        #\n",
    "        # ================================================== \n",
    "    # Execute prediction using weight array that is updated during 1 epoch\n",
    "    prediction_train    = compute_prediction(vec_x_train, weight)\n",
    "    prediction_test     = compute_prediction(vec_x_test, weight)\n",
    "\n",
    "    loss_train_mean[i]  = np.mean(compute_loss(prediction_train, y_train, weight, alpha))\n",
    "    loss_test_mean[i]   = np.mean(compute_loss(prediction_test, y_test, weight, alpha))\n",
    "    loss_train_std[i]   = np.std(compute_loss(prediction_train, y_train, weight, alpha))\n",
    "    loss_test_std[i]    = np.std(compute_loss(prediction_test, y_test, weight, alpha))\n",
    "\n",
    "    accuracy_train[i]   = compute_accuracy(prediction_train, y_train)\n",
    "    accuracy_test[i]    = compute_accuracy(prediction_test, y_test)\n",
    "   "
   ]
  },
  {
   "cell_type": "markdown",
   "metadata": {
    "id": "3ftSerzaG0jU"
   },
   "source": [
    "---"
   ]
  },
  {
   "cell_type": "markdown",
   "metadata": {
    "id": "b0lFOeI2G0jU"
   },
   "source": [
    "## functions for presenting the results"
   ]
  },
  {
   "cell_type": "markdown",
   "metadata": {
    "id": "NnYJzAY6G0jU"
   },
   "source": [
    "---"
   ]
  },
  {
   "cell_type": "code",
   "execution_count": 189,
   "metadata": {
    "id": "P4OafB2DG0jU"
   },
   "outputs": [],
   "source": [
    "def function_result_01():\n",
    "\n",
    "    title           = 'loss (training)'\n",
    "    label_axis_x    = 'epoch' \n",
    "    label_axis_y    = 'loss'\n",
    "    color_mean      = 'red'\n",
    "    color_std       = 'blue'\n",
    "    alpha           = 0.3\n",
    "\n",
    "    plt.figure(figsize=(8, 6))\n",
    "    plt.title(title)\n",
    "\n",
    "    plt.plot(range(len(loss_train_mean)), loss_train_mean, '-', color = color_mean)\n",
    "    plt.fill_between(range(len(loss_train_mean)), loss_train_mean - loss_train_std, loss_train_mean + loss_train_std, facecolor = color_std, alpha = alpha) \n",
    "    \n",
    "    plt.xlabel(label_axis_x)\n",
    "    plt.ylabel(label_axis_y)\n",
    "\n",
    "    plt.tight_layout()\n",
    "    plt.show()"
   ]
  },
  {
   "cell_type": "code",
   "execution_count": 190,
   "metadata": {
    "id": "gJj-IHOFG0jU"
   },
   "outputs": [],
   "source": [
    "def function_result_02():\n",
    "\n",
    "    title           = 'loss (testing)'\n",
    "    label_axis_x    = 'epoch' \n",
    "    label_axis_y    = 'loss'\n",
    "    color_mean      = 'red'\n",
    "    color_std       = 'blue'\n",
    "    alpha           = 0.3\n",
    "\n",
    "    plt.figure(figsize=(8, 6))\n",
    "    plt.title(title)\n",
    "\n",
    "    plt.plot(range(len(loss_test_mean)), loss_test_mean, '-', color = color_mean)\n",
    "    plt.fill_between(range(len(loss_test_mean)), loss_test_mean - loss_test_std, loss_test_mean + loss_test_std, facecolor = color_std, alpha = alpha) \n",
    "    \n",
    "    plt.xlabel(label_axis_x)\n",
    "    plt.ylabel(label_axis_y)\n",
    "\n",
    "    plt.tight_layout()\n",
    "    plt.show()"
   ]
  },
  {
   "cell_type": "code",
   "execution_count": 191,
   "metadata": {
    "id": "D5ZQuPC2G0jV"
   },
   "outputs": [],
   "source": [
    "def function_result_03():\n",
    "\n",
    "    title           = 'accuracy (training)'\n",
    "    label_axis_x    = 'epoch' \n",
    "    label_axis_y    = 'accuracy'\n",
    "\n",
    "    plt.figure(figsize=(8, 6))\n",
    "    plt.title(title)\n",
    "\n",
    "    plt.plot(range(len(accuracy_train)), accuracy_train, '-', color = 'red')\n",
    "    \n",
    "    plt.xlabel(label_axis_x)\n",
    "    plt.ylabel(label_axis_y)\n",
    "\n",
    "    plt.tight_layout()\n",
    "    plt.show()"
   ]
  },
  {
   "cell_type": "code",
   "execution_count": 192,
   "metadata": {
    "id": "EIJ6TWx8G0jV"
   },
   "outputs": [],
   "source": [
    "def function_result_04():\n",
    "\n",
    "    title           = 'accuracy (testing)'\n",
    "    label_axis_x    = 'epoch' \n",
    "    label_axis_y    = 'accuracy'\n",
    "\n",
    "    plt.figure(figsize=(8, 6))\n",
    "    plt.title(title)\n",
    "\n",
    "    plt.plot(range(len(accuracy_test)), accuracy_test, '-', color = 'red')\n",
    "    \n",
    "    plt.xlabel(label_axis_x)\n",
    "    plt.ylabel(label_axis_y)\n",
    "\n",
    "    plt.tight_layout()\n",
    "    plt.show()"
   ]
  },
  {
   "cell_type": "code",
   "execution_count": 193,
   "metadata": {
    "id": "MEig7lmaG0jV"
   },
   "outputs": [],
   "source": [
    "def function_result_05():\n",
    "\n",
    "    print('final training accuracy = %9.8f' % (accuracy_train[-1]))"
   ]
  },
  {
   "cell_type": "code",
   "execution_count": 194,
   "metadata": {
    "id": "Jty1rUyiG0jV"
   },
   "outputs": [],
   "source": [
    "def function_result_06():\n",
    "\n",
    "    print('final testing accuracy = %9.8f' % (accuracy_test[-1]))"
   ]
  },
  {
   "cell_type": "markdown",
   "metadata": {
    "id": "Iq-ul0yhG0jW"
   },
   "source": [
    "---"
   ]
  },
  {
   "cell_type": "markdown",
   "metadata": {
    "id": "VRlxStI1G0jW"
   },
   "source": [
    "## results "
   ]
  },
  {
   "cell_type": "markdown",
   "metadata": {
    "id": "GtjPODacG0jW"
   },
   "source": [
    "---"
   ]
  },
  {
   "cell_type": "code",
   "execution_count": 273,
   "metadata": {
    "colab": {
     "base_uri": "https://localhost:8080/",
     "height": 1000
    },
    "id": "_GrDON7iG0jW",
    "outputId": "620b6f92-4abd-4de8-a620-09e88da9604e"
   },
   "outputs": [
    {
     "name": "stdout",
     "output_type": "stream",
     "text": [
      "\n",
      "################################################################################\n",
      "#\n",
      "# RESULT # 01\n",
      "#\n",
      "################################################################################\n",
      "\n"
     ]
    },
    {
     "data": {
      "image/png": "[encoded data removed]",
      "text/plain": [
       "<Figure size 576x432 with 1 Axes>"
      ]
     },
     "metadata": {
      "needs_background": "light"
     },
     "output_type": "display_data"
    },
    {
     "name": "stdout",
     "output_type": "stream",
     "text": [
      "\n",
      "################################################################################\n",
      "#\n",
      "# RESULT # 02\n",
      "#\n",
      "################################################################################\n",
      "\n"
     ]
    },
    {
     "data": {
      "image/png": "[encoded data removed]",
      "text/plain": [
       "<Figure size 576x432 with 1 Axes>"
      ]
     },
     "metadata": {
      "needs_background": "light"
     },
     "output_type": "display_data"
    },
    {
     "name": "stdout",
     "output_type": "stream",
     "text": [
      "\n",
      "################################################################################\n",
      "#\n",
      "# RESULT # 03\n",
      "#\n",
      "################################################################################\n",
      "\n"
     ]
    },
    {
     "data": {
      "image/png": "[encoded data removed]",
      "text/plain": [
       "<Figure size 576x432 with 1 Axes>"
      ]
     },
     "metadata": {
      "needs_background": "light"
     },
     "output_type": "display_data"
    },
    {
     "name": "stdout",
     "output_type": "stream",
     "text": [
      "\n",
      "################################################################################\n",
      "#\n",
      "# RESULT # 04\n",
      "#\n",
      "################################################################################\n",
      "\n"
     ]
    },
    {
     "data": {
      "image/png": "[encoded data removed]",
      "text/plain": [
       "<Figure size 576x432 with 1 Axes>"
      ]
     },
     "metadata": {
      "needs_background": "light"
     },
     "output_type": "display_data"
    },
    {
     "name": "stdout",
     "output_type": "stream",
     "text": [
      "\n",
      "################################################################################\n",
      "#\n",
      "# RESULT # 05\n",
      "#\n",
      "################################################################################\n",
      "\n",
      "final training accuracy = 0.15010000\n",
      "\n",
      "################################################################################\n",
      "#\n",
      "# RESULT # 06\n",
      "#\n",
      "################################################################################\n",
      "\n",
      "final testing accuracy = 0.07362500\n"
     ]
    }
   ],
   "source": [
    "number_result = 6 \n",
    "\n",
    "for i in range(number_result):\n",
    "\n",
    "    title           = '# RESULT # {:02d}'.format(i+1) \n",
    "    name_function   = 'function_result_{:02d}()'.format(i+1)\n",
    "\n",
    "    print('') \n",
    "    print('################################################################################')\n",
    "    print('#') \n",
    "    print(title)\n",
    "    print('#') \n",
    "    print('################################################################################')\n",
    "    print('') \n",
    "\n",
    "    eval(name_function)"
   ]
  },
  {
   "cell_type": "code",
   "execution_count": 180,
   "metadata": {
    "id": "K0ejfojbG0jW"
   },
   "outputs": [],
   "source": []
  }
 ],
 "metadata": {
  "colab": {
   "provenance": []
  },
  "interpreter": {
   "hash": "40d3a090f54c6569ab1632332b64b2c03c39dcf918b08424e98f38b5ae0af88f"
  },
  "kernelspec": {
   "display_name": "Python 3 (ipykernel)",
   "language": "python",
   "name": "python3"
  },
  "language_info": {
   "codemirror_mode": {
    "name": "ipython",
    "version": 3
   },
   "file_extension": ".py",
   "mimetype": "text/x-python",
   "name": "python",
   "nbconvert_exporter": "python",
   "pygments_lexer": "ipython3",
   "version": "3.8.2"
  },
  "metadata": {
   "interpreter": {
    "hash": "31f2aee4e71d21fbe5cf8b01ff0e069b9275f58929596ceb00d14d90e3e16cd6"
   }
  }
 },
 "nbformat": 4,
 "nbformat_minor": 1
}
