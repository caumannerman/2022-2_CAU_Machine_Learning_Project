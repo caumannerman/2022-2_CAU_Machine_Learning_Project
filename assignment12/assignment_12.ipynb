{
  "cells": [
    {
      "cell_type": "markdown",
      "metadata": {
        "id": "K29I-OwCEYzW",
        "outputId": "db8b297c-a4b8-457a-b43f-7570135306c7"
      },
      "source": [
        "# Image Generation via Generative Adversarial Networks"
      ]
    },
    {
      "cell_type": "markdown",
      "metadata": {
        "id": "EhP5EEAg7eHV"
      },
      "source": [
        "## import libraries"
      ]
    },
    {
      "cell_type": "code",
      "execution_count": 1,
      "metadata": {
        "id": "cqY89iY37eHW"
      },
      "outputs": [],
      "source": [
        "import torch\n",
        "import torchvision\n",
        "from torch.utils.data import Dataset\n",
        "from os import listdir\n",
        "from os.path import join\n",
        "from torchvision import datasets, transforms\n",
        "from torch.utils.data import DataLoader\n",
        "from PIL import Image\n",
        "import matplotlib.pyplot as plt\n",
        "import numpy as np\n",
        "import torch.nn as nn\n",
        "import torch.nn.functional as F\n",
        "import torch.optim as optim\n",
        "from math import log10\n",
        "from tqdm import tqdm\n",
        "import os"
      ]
    },
    {
      "cell_type": "markdown",
      "metadata": {
        "id": "zb68MVhr7eHX"
      },
      "source": [
        "## load data"
      ]
    },
    {
      "cell_type": "code",
      "source": [
        "from google.colab import drive\n",
        "drive.mount('/content/drive')"
      ],
      "metadata": {
        "colab": {
          "base_uri": "https://localhost:8080/"
        },
        "id": "jud8jK0r73HI",
        "outputId": "7f6ddf40-ee7e-4973-88e8-1dcf785a4cec"
      },
      "execution_count": 2,
      "outputs": [
        {
          "output_type": "stream",
          "name": "stdout",
          "text": [
            "Drive already mounted at /content/drive; to attempt to forcibly remount, call drive.mount(\"/content/drive\", force_remount=True).\n"
          ]
        }
      ]
    },
    {
      "cell_type": "code",
      "execution_count": 3,
      "metadata": {
        "id": "gYnxrKjr7eHX"
      },
      "outputs": [],
      "source": [
        "directory_data  = '/content/drive/MyDrive/2022_ml_assignment/'\n",
        "filename_data   = 'assignment_12_data.npz'\n",
        "data            = np.load(os.path.join(directory_data, filename_data))\n",
        "real            = data['real_images']"
      ]
    },
    {
      "cell_type": "code",
      "execution_count": 4,
      "metadata": {
        "colab": {
          "base_uri": "https://localhost:8080/"
        },
        "id": "r_wrM99l7eHY",
        "outputId": "c9c4f6b2-dacf-4b00-9d88-c97cb4ffa42b"
      },
      "outputs": [
        {
          "output_type": "stream",
          "name": "stdout",
          "text": [
            "size of real data: (4324, 32, 32)\n"
          ]
        }
      ],
      "source": [
        "print('size of real data:', real.shape)"
      ]
    },
    {
      "cell_type": "markdown",
      "metadata": {
        "id": "NuC5Kd6X7eHZ"
      },
      "source": [
        "## plot data"
      ]
    },
    {
      "cell_type": "code",
      "execution_count": 5,
      "metadata": {
        "id": "NRywm0SU7eHZ"
      },
      "outputs": [],
      "source": [
        "def plot_image(title, image):\n",
        "    \n",
        "    nRow = 3\n",
        "    nCol = 4\n",
        "    size = 3\n",
        "    \n",
        "    fig, axes = plt.subplots(nRow, nCol, figsize=(size * nCol, size * nRow))\n",
        "    fig.suptitle(title, fontsize=16)\n",
        "   \n",
        "    for r in range(nRow): \n",
        "        for c in range(nCol):\n",
        "            k = c * 300 + r * nCol * 300\n",
        "            axes[r, c].imshow(image[k], cmap='gray')\n",
        "\n",
        "    plt.tight_layout()\n",
        "    plt.show()"
      ]
    },
    {
      "cell_type": "code",
      "execution_count": 6,
      "metadata": {
        "colab": {
          "base_uri": "https://localhost:8080/",
          "height": 657
        },
        "id": "YGYdI45h7eHa",
        "outputId": "af119c17-29df-46ab-fe63-f35a7658cc50"
      },
      "outputs": [
        {
          "output_type": "display_data",
          "data": {
            "text/plain": [
              "<Figure size 864x648 with 12 Axes>"
            ],
            "image/png": "[encoded data removed]"
          },
          "metadata": {
            "needs_background": "light"
          }
        }
      ],
      "source": [
        "plot_image('training data', real)"
      ]
    },
    {
      "cell_type": "markdown",
      "metadata": {
        "id": "587gUgXD7eHb"
      },
      "source": [
        "## custom data loader for the PyTorch framework"
      ]
    },
    {
      "cell_type": "code",
      "execution_count": 7,
      "metadata": {
        "id": "4v8VnPdg7eHb"
      },
      "outputs": [],
      "source": [
        "class dataset(Dataset):\n",
        "    \n",
        "    def __init__(self, image):\n",
        "        \n",
        "        self.image = image\n",
        "    \n",
        "    def __getitem__(self, index):\n",
        "        \n",
        "        sample  = self.image[index]\n",
        "        sample  = torch.FloatTensor(sample).unsqueeze(dim=0)\n",
        "\n",
        "        return (sample)\n",
        "    \n",
        "    def __len__(self):\n",
        "\n",
        "        number_image = len(self.image)\n",
        "\n",
        "        return (number_image)"
      ]
    },
    {
      "cell_type": "markdown",
      "metadata": {
        "id": "Ds0scBWP7eHc"
      },
      "source": [
        "## setting device"
      ]
    },
    {
      "cell_type": "code",
      "execution_count": 8,
      "metadata": {
        "id": "g-F8l2Dr7eHc"
      },
      "outputs": [],
      "source": [
        "device = torch.device('cuda' if torch.cuda.is_available() else 'cpu')"
      ]
    },
    {
      "cell_type": "code",
      "execution_count": 9,
      "metadata": {
        "colab": {
          "base_uri": "https://localhost:8080/"
        },
        "id": "KACLkJcB7eHd",
        "outputId": "2792f337-a799-4149-e95c-0366647373c7"
      },
      "outputs": [
        {
          "output_type": "stream",
          "name": "stdout",
          "text": [
            "cuda\n"
          ]
        }
      ],
      "source": [
        "print(device)"
      ]
    },
    {
      "cell_type": "markdown",
      "metadata": {
        "id": "NSBOITZf7eHe"
      },
      "source": [
        "## construct datasets and dataloaders "
      ]
    },
    {
      "cell_type": "code",
      "execution_count": 10,
      "metadata": {
        "id": "CejnM2FB7eHe"
      },
      "outputs": [],
      "source": [
        "size_minibatch  = 32\n",
        "dim_latent      = 64\n",
        "\n",
        "dataset_real    = dataset(real)\n",
        "dataloader_real = torch.utils.data.DataLoader(dataset_real, batch_size=size_minibatch, shuffle=True, drop_last=True)"
      ]
    },
    {
      "cell_type": "code",
      "source": [
        "# check\n",
        "for x in dataloader_real:\n",
        "    print(x.shape)\n",
        "    break"
      ],
      "metadata": {
        "colab": {
          "base_uri": "https://localhost:8080/"
        },
        "id": "8x54ElJdWnCJ",
        "outputId": "8a54fe16-ed2a-450a-d244-d182123edd17"
      },
      "execution_count": 11,
      "outputs": [
        {
          "output_type": "stream",
          "name": "stdout",
          "text": [
            "torch.Size([32, 1, 32, 32])\n"
          ]
        }
      ]
    },
    {
      "cell_type": "markdown",
      "metadata": {
        "id": "8ZedWeoU7eHf"
      },
      "source": [
        "## neural networks "
      ]
    },
    {
      "cell_type": "code",
      "execution_count": 12,
      "metadata": {
        "id": "TXT03P7z7eHf"
      },
      "outputs": [],
      "source": [
        "class Discriminator(nn.Module):\n",
        "    def __init__(self):\n",
        "        super(Discriminator, self).__init__()\n",
        "\n",
        "        self.linear1 = nn.Linear(32*32, 512)\n",
        "        self.linear2 = nn.Linear(512, 256)\n",
        "        self.linear3 = nn.Linear(256, 1)\n",
        "        self.leaky_relu = nn.LeakyReLU(0.2)\n",
        "        self.sigmoid = nn.Sigmoid()\n",
        "\n",
        "\n",
        "    def forward(self, x):\n",
        "        x = x.view(x.size(0), -1)\n",
        "        x = self.leaky_relu(self.linear1(x))\n",
        "        x = self.leaky_relu(self.linear2(x))\n",
        "        x = self.linear3(x)\n",
        "        x = self.sigmoid(x)\n",
        "        return x"
      ]
    },
    {
      "cell_type": "code",
      "source": [
        "# check\n",
        "tempx = torch.randn(16,1,32,32).to(device)\n",
        "model_dis = Discriminator().to(device)\n",
        "output = model_dis(tempx)\n",
        "print(output.shape)"
      ],
      "metadata": {
        "colab": {
          "base_uri": "https://localhost:8080/"
        },
        "id": "gC0gLxquZZWa",
        "outputId": "c5d7defa-84ef-4845-9f39-16663eb1d2d8"
      },
      "execution_count": 13,
      "outputs": [
        {
          "output_type": "stream",
          "name": "stdout",
          "text": [
            "torch.Size([16, 1])\n"
          ]
        }
      ]
    },
    {
      "cell_type": "code",
      "execution_count": 14,
      "metadata": {
        "id": "ugx-zDJq7eHg"
      },
      "outputs": [],
      "source": [
        "class Generator(nn.Module): \n",
        "    def __init__(self):\n",
        "        super(Generator, self).__init__()\n",
        "\n",
        "        self.linear1 = nn.Linear(64, 128)\n",
        "        self.linear2 = nn.Linear(128, 256)\n",
        "        self.linear3 = nn.Linear(256, 512)\n",
        "        self.linear4 = nn.Linear(512, 32*32)\n",
        "        self.relu = nn.LeakyReLU(0.2)\n",
        "        self.sigmoid = nn.Sigmoid()\n",
        "\n",
        "    def forward(self, x):\n",
        "        x = self.relu(self.linear1(x))\n",
        "        x = self.relu(self.linear2(x))\n",
        "        x = self.relu(self.linear3(x))\n",
        "        x = self.linear4(x)\n",
        "        x = self.sigmoid(x)\n",
        "        x = x.view(x.size(0), *(1,32,32))\n",
        "        return x"
      ]
    },
    {
      "cell_type": "code",
      "source": [
        "#check\n",
        "tempx = torch.randn(20,64).to(device) # random noise\n",
        "model_gen = Generator().to(device)\n",
        "output = model_gen(tempx) # noise를 입력받아 이미지 생성\n",
        "# output = output.view(output.size(0), *(1,32,32))\n",
        "print(output.shape)"
      ],
      "metadata": {
        "colab": {
          "base_uri": "https://localhost:8080/"
        },
        "id": "Ca2b3hBXYEN3",
        "outputId": "54db2329-f245-412e-ac4c-70a38692da88"
      },
      "execution_count": 15,
      "outputs": [
        {
          "output_type": "stream",
          "name": "stdout",
          "text": [
            "torch.Size([20, 1, 32, 32])\n"
          ]
        }
      ]
    },
    {
      "cell_type": "markdown",
      "metadata": {
        "id": "YnXCIjqB7eHg"
      },
      "source": [
        "## build network"
      ]
    },
    {
      "cell_type": "code",
      "execution_count": 16,
      "metadata": {
        "id": "ujiR8_BF7eHh"
      },
      "outputs": [],
      "source": [
        "generator       = Generator().to(device)\n",
        "discriminator   = Discriminator().to(device)"
      ]
    },
    {
      "cell_type": "markdown",
      "metadata": {
        "id": "LFaVbpbu7eHi"
      },
      "source": [
        "## compute the prediction"
      ]
    },
    {
      "cell_type": "code",
      "execution_count": 17,
      "metadata": {
        "id": "-xCRDGkh7eHi"
      },
      "outputs": [],
      "source": [
        "def compute_prediction(model, input):\n",
        "\n",
        "    prediction = model(input)\n",
        "\n",
        "    return prediction"
      ]
    },
    {
      "cell_type": "markdown",
      "metadata": {
        "id": "T1xQpNYb7eHj"
      },
      "source": [
        "## compute the accuracy"
      ]
    },
    {
      "cell_type": "code",
      "execution_count": 18,
      "metadata": {
        "id": "lT-mvzef7eHj"
      },
      "outputs": [],
      "source": [
        "def compute_bounding_mask(prediction_binary):\n",
        "    \n",
        "    bounding_mask = torch.zeros_like(prediction_binary)\n",
        "    \n",
        "    for i in range(prediction_binary.shape[0]):\n",
        "        prediction = prediction_binary[i]\n",
        "        (idx_row, idx_col) = torch.nonzero(prediction, as_tuple=True)\n",
        "        \n",
        "        if len(idx_row) > 0: \n",
        "            idx_row_min = idx_row.min()\n",
        "            idx_row_max = idx_row.max()\n",
        "        \n",
        "            idx_col_min = idx_col.min()\n",
        "            idx_col_max = idx_col.max()\n",
        "    \n",
        "            bounding_mask[i, idx_row_min:idx_row_max+1, idx_col_min:idx_col_max+1] = 1 \n",
        "    \n",
        "    return bounding_mask"
      ]
    },
    {
      "cell_type": "code",
      "execution_count": 19,
      "metadata": {
        "id": "TCQvHNQr7eHk"
      },
      "outputs": [],
      "source": [
        "def compute_accuracy(prediction):\n",
        "\n",
        "    binary      = (prediction >= 0.5)\n",
        "    mask        = compute_bounding_mask(binary)\n",
        "    \n",
        "    intersection = (binary & mask).float().sum((1, 2))\n",
        "    union        = (binary | mask).float().sum((1, 2))\n",
        "\n",
        "    eps         = 1e-8\n",
        "    correct     = (intersection + eps) / (union + eps)\n",
        "    accuracy    = correct.mean() * 100.0\n",
        "    accuracy    = accuracy.cpu() \n",
        "    \n",
        "    return accuracy"
      ]
    },
    {
      "cell_type": "code",
      "source": [
        "# Initialize BCELoss function\n",
        "criterion = nn.BCELoss()\n",
        "learning_rate = 0.0001\n",
        "# Beta1 hyperparam for Adam optimizers\n",
        "beta1 = 0.5\n",
        "\n",
        "\n",
        "# Establish convention for real and fake labels during training\n",
        "real_label = 1.\n",
        "fake_label = 0.\n",
        "\n",
        "# Setup Adam optimizers for both G and D\n",
        "d_optimizer = optim.Adam(discriminator.parameters(), lr=learning_rate, betas=(beta1, 0.999))\n",
        "g_optimizer = optim.Adam(generator.parameters(), lr=learning_rate, betas=(beta1, 0.999))"
      ],
      "metadata": {
        "id": "juZ1otISD2Hi"
      },
      "execution_count": 20,
      "outputs": []
    },
    {
      "cell_type": "markdown",
      "metadata": {
        "id": "fNxJnQzA7eHk"
      },
      "source": [
        "## train"
      ]
    },
    {
      "cell_type": "code",
      "execution_count": 22,
      "metadata": {
        "id": "c5W2W2Rj7eHl"
      },
      "outputs": [],
      "source": [
        "def train(generator, discriminator, dataloader):\n",
        "    \n",
        "    for index_batch, (real) in enumerate(dataloader):\n",
        "        real        = real.to(device)\n",
        "        # print(\"real\", real.shape)\n",
        "        size_batch  = len(real)\n",
        "        #노이즈 생성\n",
        "        latent      = torch.randn(size_batch, dim_latent, device=device)\n",
        "        # latent      = torch.reshape(latent, [size_batch, dim_latent, 1, 1])\n",
        "        # print(latent.shape)\n",
        "        \n",
        "        # 라벨을 만들어 줍니다. 1 for real, 0 for fake\n",
        "        real_label = torch.Tensor(size_batch,1).fill_(1.0).to(device)\n",
        "        fake_label = torch.Tensor(size_batch,1).fill_(0.0).to(device)\n",
        "        \n",
        "        \n",
        "\n",
        "        # ---------------------------------------------------------------------------\n",
        "        #  \n",
        "        # update the generator\n",
        "        #  \n",
        "        # ---------------------------------------------------------------------------\n",
        "        generator.train()\n",
        "        discriminator.eval()\n",
        "        # Initialize grad\n",
        "        g_optimizer.zero_grad()\n",
        "        d_optimizer.zero_grad()\n",
        "\n",
        "        # fake image를 generator와 noize vector 'z' 를 통해 만들어주기\n",
        "\n",
        "        fake_images = generator(latent)\n",
        "        # print(\"fake\", fake_images.shape)\n",
        "\n",
        "        # loss function에 fake image와 real 넘겨주기\n",
        "        # 만약 generator가 discriminator를 속이면, g_loss가 줄어든다.\n",
        "\n",
        "        g_loss = criterion(discriminator(fake_images), real_label)\n",
        "        # backpropagation를 통해 generator 학습\n",
        "        g_loss.backward()\n",
        "        g_optimizer.step()\n",
        "\n",
        "        # ---------------------------------------------------------------------------\n",
        "        #  \n",
        "        # update the discriminator\n",
        "        #  \n",
        "        # ---------------------------------------------------------------------------\n",
        "        generator.eval()\n",
        "        discriminator.train()\n",
        "\n",
        "        # Initialize grad\n",
        "        d_optimizer.zero_grad()\n",
        "        g_optimizer.zero_grad()\n",
        "\n",
        "        # generator와 noise vector 'z'로 fake image 생성\n",
        "\n",
        "        fake_images = generator(latent)\n",
        "\n",
        "        # fake image와 fake label, real image와 real label을 넘겨 loss 계산\n",
        "        fake_loss = criterion(discriminator(fake_images), fake_label)\n",
        "        real_loss = criterion(discriminator(real), real_label)\n",
        "        d_loss = (fake_loss + real_loss) / 2\n",
        "        # backpropagation을 통해 discriminator 학습\n",
        "        # 이 부분에서는 generator는 학습시키지 않음\n",
        "        d_loss.backward()\n",
        "        d_optimizer.step()"
      ]
    },
    {
      "cell_type": "markdown",
      "metadata": {
        "id": "CbPc6FG47eHl"
      },
      "source": [
        "## test"
      ]
    },
    {
      "cell_type": "code",
      "execution_count": 23,
      "metadata": {
        "id": "JOi_nUvn7eHm"
      },
      "outputs": [],
      "source": [
        "def test(generator, latent):\n",
        "    \n",
        "    generator.eval()\n",
        "    \n",
        "    prediction  = generator(latent)\n",
        "    prediction  = prediction.squeeze(axis=1)\n",
        "    accuracy    = compute_accuracy(prediction)\n",
        "    \n",
        "    return accuracy"
      ]
    },
    {
      "cell_type": "markdown",
      "metadata": {
        "id": "3-k61T_q7eHm"
      },
      "source": [
        "## training epoch"
      ]
    },
    {
      "cell_type": "code",
      "execution_count": 24,
      "metadata": {
        "colab": {
          "base_uri": "https://localhost:8080/"
        },
        "id": "yx9KLhCT7eHm",
        "outputId": "9197ec31-c574-4d0b-fe58-844e1a373215"
      },
      "outputs": [
        {
          "output_type": "stream",
          "name": "stderr",
          "text": [
            "100%|██████████| 50/50 [00:43<00:00,  1.16it/s]\n"
          ]
        }
      ],
      "source": [
        "number_epoch    = 50\n",
        "accuracy_epoch  = np.zeros(number_epoch)\n",
        "\n",
        "num_latent_test = 100\n",
        "latent_test = torch.randn(num_latent_test, dim_latent, device=device)\n",
        "# latent_test = torch.reshape(latent_test, [num_latent_test, dim_latent, 1, 1])\n",
        "\n",
        "for i in tqdm(range(number_epoch)):\n",
        "    train(generator, discriminator, dataloader_real)\n",
        "    accuracy = test(generator, latent_test)\n",
        "    accuracy_epoch[i] = accuracy"
      ]
    },
    {
      "cell_type": "markdown",
      "metadata": {
        "id": "l0asiygd7eHn"
      },
      "source": [
        "---"
      ]
    },
    {
      "cell_type": "markdown",
      "metadata": {
        "id": "Gl5aS5vh7eHn"
      },
      "source": [
        "# functions for presenting the results"
      ]
    },
    {
      "cell_type": "markdown",
      "metadata": {
        "id": "CRzvYVft7eHo"
      },
      "source": [
        "---"
      ]
    },
    {
      "cell_type": "code",
      "execution_count": 25,
      "metadata": {
        "id": "lMpmcPfS7eHo"
      },
      "outputs": [],
      "source": [
        "def function_result_01():\n",
        "\n",
        "    num_latent_visualize = 16\n",
        "\n",
        "    latent_visualize = torch.randn(num_latent_visualize, dim_latent, device=device)\n",
        "    # latent_visualize = torch.reshape(latent_visualize, [num_latent_visualize, dim_latent, 1, 1]) \n",
        "\n",
        "    prediction = compute_prediction(generator, latent_visualize)\n",
        "    prediction = prediction.squeeze(axis=1)\n",
        "    prediction_binary = (prediction >= 0.5)\n",
        "    bounding_mask = compute_bounding_mask(prediction_binary)\n",
        "        \n",
        "    fake = prediction.detach().cpu()\n",
        "    mask = bounding_mask.detach().cpu()\n",
        "\n",
        "    nRow = 4\n",
        "    nCol = 4 \n",
        "    size = 3 \n",
        "    \n",
        "    title = 'fake image'\n",
        "    fig, axes = plt.subplots(nRow, nCol, figsize=(size * nCol, size * nRow))\n",
        "    fig.suptitle(title, fontsize=16)\n",
        "\n",
        "    for r in range(nRow): \n",
        "        for c in range(nCol):\n",
        "            k = c + r * nCol\n",
        "            axes[r, c].imshow(fake[k], cmap='gray', vmin=0, vmax=1)\n",
        "            axes[r, c].xaxis.set_visible(False)\n",
        "            axes[r, c].yaxis.set_visible(False)\n",
        "\n",
        "    plt.tight_layout()\n",
        "    plt.show()\n",
        "    \n",
        "    title = 'bounding mask'\n",
        "    fig, axes = plt.subplots(nRow, nCol, figsize=(size * nCol, size * nRow))\n",
        "    fig.suptitle(title, fontsize=16)\n",
        "\n",
        "    for r in range(nRow): \n",
        "        for c in range(nCol):\n",
        "            k = c + r * nCol\n",
        "            axes[r, c].imshow(mask[k], cmap='gray', vmin=0, vmax=1)\n",
        "            axes[r, c].xaxis.set_visible(False)\n",
        "            axes[r, c].yaxis.set_visible(False)\n",
        "                        \n",
        "    plt.tight_layout()\n",
        "    plt.show()"
      ]
    },
    {
      "cell_type": "code",
      "execution_count": 26,
      "metadata": {
        "id": "7a6mWqtT7eHo"
      },
      "outputs": [],
      "source": [
        "def function_result_02():\n",
        "\n",
        "    title           = 'accuracy'\n",
        "    label_axis_x    = 'epoch' \n",
        "    label_axis_y    = 'accuracy'\n",
        "    \n",
        "    plt.figure(figsize=(8, 6))\n",
        "    plt.title(title)\n",
        "    \n",
        "    plt.plot(accuracy_epoch)\n",
        "    \n",
        "    plt.xlabel(label_axis_x)\n",
        "    plt.ylabel(label_axis_y)\n",
        "\n",
        "    plt.tight_layout()\n",
        "    plt.show()"
      ]
    },
    {
      "cell_type": "code",
      "execution_count": 27,
      "metadata": {
        "id": "_5ORb7yK7eHp"
      },
      "outputs": [],
      "source": [
        "def function_result_03():\n",
        "\n",
        "    print('final accuracy = %9.8f' % (accuracy_epoch[-1]))"
      ]
    },
    {
      "cell_type": "markdown",
      "metadata": {
        "id": "uLO2-jLX7eHp"
      },
      "source": [
        "---"
      ]
    },
    {
      "cell_type": "markdown",
      "metadata": {
        "id": "5svoiiKg7eHp"
      },
      "source": [
        "## results"
      ]
    },
    {
      "cell_type": "markdown",
      "metadata": {
        "id": "iu6TmbQH7eHq"
      },
      "source": [
        "---"
      ]
    },
    {
      "cell_type": "code",
      "execution_count": 28,
      "metadata": {
        "colab": {
          "base_uri": "https://localhost:8080/",
          "height": 1000
        },
        "id": "-SzNpHy_7eHq",
        "outputId": "df4e6011-4ee2-4c92-af58-3332039a9eca"
      },
      "outputs": [
        {
          "output_type": "stream",
          "name": "stdout",
          "text": [
            "\n",
            "################################################################################\n",
            "#\n",
            "# RESULT # 01\n",
            "#\n",
            "################################################################################\n",
            "\n"
          ]
        },
        {
          "output_type": "display_data",
          "data": {
            "text/plain": [
              "<Figure size 864x864 with 16 Axes>"
            ],
            "image/png": "[encoded data removed]"
          },
          "metadata": {
            "needs_background": "light"
          }
        },
        {
          "output_type": "display_data",
          "data": {
            "text/plain": [
              "<Figure size 864x864 with 16 Axes>"
            ],
            "image/png": "[encoded data removed]"
          },
          "metadata": {
            "needs_background": "light"
          }
        },
        {
          "output_type": "stream",
          "name": "stdout",
          "text": [
            "\n",
            "################################################################################\n",
            "#\n",
            "# RESULT # 02\n",
            "#\n",
            "################################################################################\n",
            "\n"
          ]
        },
        {
          "output_type": "display_data",
          "data": {
            "text/plain": [
              "<Figure size 576x432 with 1 Axes>"
            ],
            "image/png": "[encoded data removed]"
          },
          "metadata": {
            "needs_background": "light"
          }
        },
        {
          "output_type": "stream",
          "name": "stdout",
          "text": [
            "\n",
            "################################################################################\n",
            "#\n",
            "# RESULT # 03\n",
            "#\n",
            "################################################################################\n",
            "\n",
            "final accuracy = 71.30995178\n"
          ]
        }
      ],
      "source": [
        "number_result = 3\n",
        "\n",
        "for i in range(number_result):\n",
        "\n",
        "    title           = '# RESULT # {:02d}'.format(i+1) \n",
        "    name_function   = 'function_result_{:02d}()'.format(i+1)\n",
        "\n",
        "    print('') \n",
        "    print('################################################################################')\n",
        "    print('#') \n",
        "    print(title)\n",
        "    print('#') \n",
        "    print('################################################################################')\n",
        "    print('') \n",
        "\n",
        "    eval(name_function)"
      ]
    }
  ],
  "metadata": {
    "colab": {
      "name": "assignment_02.ipynb",
      "provenance": [],
      "machine_shape": "hm"
    },
    "kernelspec": {
      "display_name": "Python 3.9.6 64-bit",
      "language": "python",
      "name": "python3"
    },
    "language_info": {
      "codemirror_mode": {
        "name": "ipython",
        "version": 3
      },
      "file_extension": ".py",
      "mimetype": "text/x-python",
      "name": "python",
      "nbconvert_exporter": "python",
      "pygments_lexer": "ipython3",
      "version": "3.8.10"
    },
    "vscode": {
      "interpreter": {
        "hash": "31f2aee4e71d21fbe5cf8b01ff0e069b9275f58929596ceb00d14d90e3e16cd6"
      }
    },
    "accelerator": "GPU",
    "gpuClass": "standard"
  },
  "nbformat": 4,
  "nbformat_minor": 0
}