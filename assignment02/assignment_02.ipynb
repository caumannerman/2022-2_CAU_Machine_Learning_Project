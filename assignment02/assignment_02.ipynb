{
  "cells": [
    {
      "cell_type": "markdown",
      "metadata": {
        "id": "grgFob5xgqLp"
      },
      "source": [
        "# Logistic Regression for a Binary Classification of Images"
      ]
    },
    {
      "cell_type": "markdown",
      "metadata": {
        "id": "r25pHaT-gqLs"
      },
      "source": [
        "## import library"
      ]
    },
    {
      "cell_type": "code",
      "execution_count": 2,
      "metadata": {
        "id": "lG7oEstrgqLt"
      },
      "outputs": [],
      "source": [
        "import numpy as np\n",
        "import matplotlib.image as img\n",
        "import matplotlib.pyplot as plt\n",
        "import matplotlib.colors as colors\n",
        "from matplotlib import ticker, cm\n",
        "import os"
      ]
    },
    {
      "cell_type": "markdown",
      "metadata": {
        "id": "u7t_rbyzgqLu"
      },
      "source": [
        "## load data"
      ]
    },
    {
      "cell_type": "code",
      "execution_count": 3,
      "metadata": {
        "id": "hWeuwM4OgqLu"
      },
      "outputs": [],
      "source": [
        "directory_data  = './sample_data/'\n",
        "filename_data   = 'assignment_02_data.npz'\n",
        "path_data       = os.path.join(directory_data, filename_data) \n",
        "data            = np.load(path_data)\n",
        "\n",
        "x = data['x']\n",
        "y = data['y']\n",
        "\n",
        "im_0    = x[0,:,:]\n",
        "im_1    = x[1,:,:]\n",
        "\n",
        "label_0 = y[0]\n",
        "label_1 = y[1]"
      ]
    },
    {
      "cell_type": "code",
      "execution_count": 4,
      "metadata": {
        "id": "2iLYHBE-gqLv",
        "outputId": "4b2160d4-2ce4-4795-f81e-1bbc54265577",
        "colab": {
          "base_uri": "https://localhost:8080/"
        }
      },
      "outputs": [
        {
          "output_type": "stream",
          "name": "stdout",
          "text": [
            "size of data : (2, 28, 28)\n",
            "number of images : 2\n",
            "size of image : (28, 28)\n",
            "size of label : (2,)\n",
            "data type of image : float64\n",
            "data type of label : float64\n",
            "number of image : 2\n",
            "height of image : 28\n",
            "width of image : 28\n"
          ]
        }
      ],
      "source": [
        "print('size of data :', x.shape)\n",
        "print('number of images :', x.shape[0])\n",
        "print('size of image :', x[0,:,:].shape)\n",
        "print('size of label :', y.shape)\n",
        "\n",
        "print('data type of image :', x.dtype)\n",
        "print('data type of label :', y.dtype)\n",
        "\n",
        "print('number of image :', x.shape[0])\n",
        "print('height of image :', x.shape[1])\n",
        "print('width of image :', x.shape[2])"
      ]
    },
    {
      "cell_type": "code",
      "source": [
        "#data 구조 파악을 위한 연습용 셀\n",
        "print(x.shape, y.shape)\n",
        "print(x)\n",
        "print(y)\n",
        "print(\"---------------------\")\n",
        "print(x[0].shape)\n",
        "print(x[0][0].shape)\n",
        "print(x[:,0])\n",
        "print(\"---------------------\")\n",
        "print(\"im0_shape = \", im_0.shape)\n",
        "print(\"label_0.shape = \", label_0.shape)\n",
        "print(type(label_0))"
      ],
      "metadata": {
        "colab": {
          "base_uri": "https://localhost:8080/"
        },
        "id": "1i38STBoUoPb",
        "outputId": "207e48a4-d4eb-462d-9650-0f5eb5b0cdb1"
      },
      "execution_count": 5,
      "outputs": [
        {
          "output_type": "stream",
          "name": "stdout",
          "text": [
            "(2, 28, 28) (2,)\n",
            "[[[0. 0. 0. ... 0. 0. 0.]\n",
            "  [0. 0. 0. ... 0. 0. 0.]\n",
            "  [0. 0. 0. ... 0. 0. 0.]\n",
            "  ...\n",
            "  [0. 0. 0. ... 0. 0. 0.]\n",
            "  [0. 0. 0. ... 0. 0. 0.]\n",
            "  [0. 0. 0. ... 0. 0. 0.]]\n",
            "\n",
            " [[0. 0. 0. ... 0. 0. 0.]\n",
            "  [0. 0. 0. ... 0. 0. 0.]\n",
            "  [0. 0. 0. ... 0. 0. 0.]\n",
            "  ...\n",
            "  [0. 0. 0. ... 0. 0. 0.]\n",
            "  [0. 0. 0. ... 0. 0. 0.]\n",
            "  [0. 0. 0. ... 0. 0. 0.]]]\n",
            "[0. 1.]\n",
            "---------------------\n",
            "(28, 28)\n",
            "(28,)\n",
            "[[0. 0. 0. 0. 0. 0. 0. 0. 0. 0. 0. 0. 0. 0. 0. 0. 0. 0. 0. 0. 0. 0. 0. 0.\n",
            "  0. 0. 0. 0.]\n",
            " [0. 0. 0. 0. 0. 0. 0. 0. 0. 0. 0. 0. 0. 0. 0. 0. 0. 0. 0. 0. 0. 0. 0. 0.\n",
            "  0. 0. 0. 0.]]\n",
            "---------------------\n",
            "im0_shape =  (28, 28)\n",
            "label_0.shape =  ()\n",
            "<class 'numpy.float64'>\n"
          ]
        }
      ]
    },
    {
      "cell_type": "markdown",
      "metadata": {
        "id": "ZI_dDf_WgqLw"
      },
      "source": [
        "\n",
        "\n",
        "```\n",
        "# 코드로 형식 지정됨\n",
        "```\n",
        "\n",
        "## plot grey image"
      ]
    },
    {
      "cell_type": "code",
      "execution_count": 6,
      "metadata": {
        "id": "LD_2cDAigqLw"
      },
      "outputs": [],
      "source": [
        "def plot_image_gray(title1, data1, title2, data2):\n",
        "\n",
        "    size_width  = 8 \n",
        "    size_height = 4 \n",
        "    \n",
        "    fig = plt.figure(figsize=(size_width, size_height))\n",
        "\n",
        "    rows = 1\n",
        "    cols = 2\n",
        "\n",
        "    ax1 = fig.add_subplot(rows, cols, 1)\n",
        "    ax2 = fig.add_subplot(rows, cols, 2)\n",
        "\n",
        "    ax1.set_title(title1)\n",
        "    ax1.imshow(data1, cmap='gray', vmin=0, vmax=1)\n",
        "\n",
        "    ax2.set_title(title2)\n",
        "    ax2.imshow(data2, cmap='gray', vmin=0, vmax=1)\n",
        "\n",
        "    plt.tight_layout()\n",
        "    plt.show()"
      ]
    },
    {
      "cell_type": "code",
      "execution_count": 7,
      "metadata": {
        "id": "RYp2-22rgqLx",
        "outputId": "03b5e6f6-b58d-4a39-b3b9-d9ce72ed8da2",
        "colab": {
          "base_uri": "https://localhost:8080/",
          "height": 312
        }
      },
      "outputs": [
        {
          "output_type": "display_data",
          "data": {
            "text/plain": [
              "<Figure size 576x288 with 2 Axes>"
            ],
            "image/png": "[encoded data removed]"
          },
          "metadata": {
            "needs_background": "light"
          }
        }
      ],
      "source": [
        "plot_image_gray('image 0', im_0, 'image 1', im_1)"
      ]
    },
    {
      "cell_type": "markdown",
      "metadata": {
        "id": "bO5mMl6rgqLx"
      },
      "source": [
        "## create color images from gray ones"
      ]
    },
    {
      "cell_type": "code",
      "execution_count": 8,
      "metadata": {
        "id": "3A_syDV9gqLy"
      },
      "outputs": [],
      "source": [
        "#일단 3개 채널 의 28*28*3 컬러 이미지를 만들며 0으로 채워넣음\n",
        "im_0_red    = np.zeros((im_0.shape[0], im_0.shape[1], 3))\n",
        "im_0_green  = np.zeros((im_0.shape[0], im_0.shape[1], 3))\n",
        "im_0_blue   = np.zeros((im_0.shape[0], im_0.shape[1], 3))\n",
        "\n",
        "im_1_red    = np.zeros((im_1.shape[0], im_1.shape[1], 3))\n",
        "im_1_green  = np.zeros((im_1.shape[0], im_1.shape[1], 3))\n",
        "im_1_blue   = np.zeros((im_1.shape[0], im_1.shape[1], 3))\n",
        "#각각의 채널에 im_0, 즉 흑백의 0 혹은 1 사진을 그대로 넣는다 => 새빨간, 초록, 새파란 0과 1이 만들어진다\n",
        "im_0_red[:,:,0]     = im_0\n",
        "im_0_green[:,:,1]   = im_0\n",
        "im_0_blue[:,:,2]    = im_0\n",
        "\n",
        "im_1_red[:,:,0]     = im_1\n",
        "im_1_green[:,:,1]   = im_1\n",
        "im_1_blue[:,:,2]    = im_1"
      ]
    },
    {
      "cell_type": "code",
      "execution_count": 9,
      "metadata": {
        "id": "L1mIeOhYgqLy",
        "outputId": "2f37905e-3a32-4f33-b609-64382d06c92e",
        "colab": {
          "base_uri": "https://localhost:8080/"
        }
      },
      "outputs": [
        {
          "output_type": "stream",
          "name": "stdout",
          "text": [
            "size of red image for 0 :  (28, 28, 3)\n",
            "size of green image for 0 :  (28, 28, 3)\n",
            "size of blue image for 0 :  (28, 28, 3)\n"
          ]
        }
      ],
      "source": [
        "print('size of red image for 0 : ', im_0_red.shape)\n",
        "print('size of green image for 0 : ', im_0_green.shape)\n",
        "print('size of blue image for 0 : ', im_0_blue.shape)"
      ]
    },
    {
      "cell_type": "markdown",
      "metadata": {
        "id": "KZpl1fhGgqLz"
      },
      "source": [
        "## plot color image"
      ]
    },
    {
      "cell_type": "code",
      "execution_count": 10,
      "metadata": {
        "id": "w04MAtuIgqLz"
      },
      "outputs": [],
      "source": [
        "def plot_image_color(title1, data1, title2, data2, title3, data3):\n",
        "    \n",
        "    size_width  = 12 \n",
        "    size_height = 4 \n",
        "    \n",
        "    fig = plt.figure(figsize=(size_width, size_height))\n",
        "\n",
        "    rows = 1\n",
        "    cols = 3\n",
        "\n",
        "    ax1 = fig.add_subplot(rows, cols, 1)\n",
        "    ax2 = fig.add_subplot(rows, cols, 2)\n",
        "    ax3 = fig.add_subplot(rows, cols, 3)\n",
        "        \n",
        "    ax1.set_title(title1)\n",
        "    ax1.imshow(data1, vmin=0, vmax=1)\n",
        "\n",
        "    ax2.set_title(title2)\n",
        "    ax2.imshow(data2, vmin=0, vmax=1)\n",
        "    \n",
        "    ax3.set_title(title3)\n",
        "    ax3.imshow(data3, vmin=0, vmax=1)\n",
        "    \n",
        "    plt.tight_layout()\n",
        "    plt.show()"
      ]
    },
    {
      "cell_type": "code",
      "execution_count": 11,
      "metadata": {
        "id": "JmeCx6iPgqLz",
        "outputId": "171c4a8c-1bff-44e1-e3ad-7e0738fe5474",
        "colab": {
          "base_uri": "https://localhost:8080/",
          "height": 619
        }
      },
      "outputs": [
        {
          "output_type": "display_data",
          "data": {
            "text/plain": [
              "<Figure size 864x288 with 3 Axes>"
            ],
            "image/png": "[encoded data removed]"
          },
          "metadata": {
            "needs_background": "light"
          }
        },
        {
          "output_type": "display_data",
          "data": {
            "text/plain": [
              "<Figure size 864x288 with 3 Axes>"
            ],
            "image/png": "[encoded data removed]"
          },
          "metadata": {
            "needs_background": "light"
          }
        }
      ],
      "source": [
        "plot_image_color('image 0 : red', im_0_red, 'image 0 : green', im_0_green, 'image 0 : blue', im_0_blue)\n",
        "plot_image_color('image 1 : red', im_1_red, 'image 1 : green', im_1_green, 'image 1 : blue', im_1_blue)"
      ]
    },
    {
      "cell_type": "markdown",
      "metadata": {
        "id": "hrBZ4DIXgqL0"
      },
      "source": [
        "## initialize input data"
      ]
    },
    {
      "cell_type": "markdown",
      "metadata": {
        "id": "-JAMcJ4CgqL0"
      },
      "source": [
        "- vectorize input image matrices into vectors \n",
        "\n",
        "*   항목 추가\n",
        "*   항목 추가\n",
        "\n",
        "(row-major order)"
      ]
    },
    {
      "cell_type": "code",
      "execution_count": 12,
      "metadata": {
        "id": "lRlJzLq6gqL0"
      },
      "outputs": [],
      "source": [
        "# ================================================== \n",
        "# fill up the blank\n",
        "# \n",
        "# 1차원으로 변경\n",
        "vec_0   = im_0.reshape(-1)\n",
        "vec_1   = im_1.reshape(-1)\n",
        "#\n",
        "# ================================================== "
      ]
    },
    {
      "cell_type": "code",
      "execution_count": 13,
      "metadata": {
        "id": "ZqDaeFeggqL1",
        "outputId": "4643528c-362e-463e-eb37-fae70b28971d",
        "colab": {
          "base_uri": "https://localhost:8080/"
        }
      },
      "outputs": [
        {
          "output_type": "stream",
          "name": "stdout",
          "text": [
            "size of vec 0 :  (784,)\n",
            "size of vec 1 :  (784,)\n"
          ]
        }
      ],
      "source": [
        "print('size of vec 0 : ', vec_0.shape)\n",
        "print('size of vec 1 : ', vec_1.shape)"
      ]
    },
    {
      "cell_type": "markdown",
      "metadata": {
        "id": "QcBiVp0tgqL1"
      },
      "source": [
        "## initialize a linear layer for the neural network"
      ]
    },
    {
      "cell_type": "markdown",
      "metadata": {
        "id": "GdFtrvZkgqL1"
      },
      "source": [
        "- initialize the weights in a fully connected layer (zero matrix)\n",
        "- dimension\n",
        "  - input : length of input data\n",
        "  - output : 1"
      ]
    },
    {
      "cell_type": "code",
      "execution_count": 14,
      "metadata": {
        "id": "fcKpJp8UgqL2"
      },
      "outputs": [],
      "source": [
        "size_input  = len(vec_0)\n",
        "size_output = 1\n",
        "\n",
        "# ================================================== \n",
        "# fill up the blank\n",
        "#\n",
        "weight = np.zeros((size_output, size_input))\n",
        "#\n",
        "# ================================================== "
      ]
    },
    {
      "cell_type": "code",
      "execution_count": 15,
      "metadata": {
        "id": "kPEGgYGagqL2",
        "outputId": "4f3abb4e-b8d8-45ce-b98e-cfe45e02f870",
        "colab": {
          "base_uri": "https://localhost:8080/"
        }
      },
      "outputs": [
        {
          "output_type": "stream",
          "name": "stdout",
          "text": [
            "size of weight :  (1, 784)\n"
          ]
        }
      ],
      "source": [
        "print('size of weight : ', weight.shape)"
      ]
    },
    {
      "cell_type": "markdown",
      "metadata": {
        "id": "Ml2tMPcvgqL2"
      },
      "source": [
        "## define a linear layer "
      ]
    },
    {
      "cell_type": "markdown",
      "metadata": {
        "id": "xtGAUuawgqL3"
      },
      "source": [
        "- input\n",
        "  - input data\n",
        "  - dimension : $m \\times 1$\n",
        "- weight\n",
        "  - weight associated with the layer of the neural network\n",
        "  - dimension : $p \\times m$\n",
        "- return\n",
        "  - output of the layer\n",
        "  - dimension : $p \\times 1$"
      ]
    },
    {
      "cell_type": "code",
      "execution_count": 16,
      "metadata": {
        "id": "eAEZuEVTgqL3"
      },
      "outputs": [],
      "source": [
        "def layer_linear(input, weight):\n",
        "\n",
        "# ================================================== \n",
        "# fill up the blank\n",
        "#\n",
        "    output = weight.dot(input)\n",
        "#\n",
        "# ================================================== \n",
        "\n",
        "    return output"
      ]
    },
    {
      "cell_type": "code",
      "source": [
        "#함수 테스트 셀\n",
        "print(vec_0.shape, weight.shape)\n",
        "temp_out = layer_linear(vec_0, weight)\n",
        "print(temp_out.shape)\n",
        "print(temp_out)"
      ],
      "metadata": {
        "colab": {
          "base_uri": "https://localhost:8080/"
        },
        "id": "QeM2ZBZSt26v",
        "outputId": "67f78658-7125-4dcf-af29-365aed615449"
      },
      "execution_count": 17,
      "outputs": [
        {
          "output_type": "stream",
          "name": "stdout",
          "text": [
            "(784,) (1, 784)\n",
            "(1,)\n",
            "[0.]\n"
          ]
        }
      ]
    },
    {
      "cell_type": "markdown",
      "metadata": {
        "id": "C8vYVuRMgqL3"
      },
      "source": [
        "## define sigmoid function "
      ]
    },
    {
      "cell_type": "code",
      "execution_count": 18,
      "metadata": {
        "id": "W-O0My0zgqL3"
      },
      "outputs": [],
      "source": [
        "def activation_sigmoid(input):\n",
        "\n",
        "# ================================================== \n",
        "# fill up the blank\n",
        "#\n",
        "    output = 1 / (1 + np.exp(-input))\n",
        "#\n",
        "# ================================================== \n",
        "\n",
        "    return output "
      ]
    },
    {
      "cell_type": "code",
      "source": [
        "temp_sigmoid_out = activation_sigmoid(temp_out)\n",
        "print(temp_sigmoid_out.shape)\n",
        "print(temp_sigmoid_out)"
      ],
      "metadata": {
        "colab": {
          "base_uri": "https://localhost:8080/"
        },
        "id": "0Ba7MtmIum67",
        "outputId": "61d1c446-f81d-4310-c46f-3d6692760523"
      },
      "execution_count": 19,
      "outputs": [
        {
          "output_type": "stream",
          "name": "stdout",
          "text": [
            "(1,)\n",
            "[0.5]\n"
          ]
        }
      ]
    },
    {
      "cell_type": "markdown",
      "metadata": {
        "id": "FcwmmuHggqL4"
      },
      "source": [
        "## define forward propagation"
      ]
    },
    {
      "cell_type": "code",
      "execution_count": 20,
      "metadata": {
        "id": "gQX_oTVbgqL4"
      },
      "outputs": [],
      "source": [
        "def propagation_forward(input, weight):\n",
        "\n",
        "# ================================================== \n",
        "# fill up the blank\n",
        "#\n",
        "    output      = layer_linear(input, weight)\n",
        "    prediction  = activation_sigmoid(output)\n",
        "#\n",
        "# ================================================== \n",
        "\n",
        "    return prediction "
      ]
    },
    {
      "cell_type": "code",
      "source": [
        "temp_prediction = propagation_forward(vec_0, weight)\n",
        "print(temp_prediction.shape)\n",
        "print(temp_prediction)"
      ],
      "metadata": {
        "colab": {
          "base_uri": "https://localhost:8080/"
        },
        "id": "d5483qQbvQpe",
        "outputId": "d75c0324-3741-43d3-9676-ae775c408b11"
      },
      "execution_count": 21,
      "outputs": [
        {
          "output_type": "stream",
          "name": "stdout",
          "text": [
            "(1,)\n",
            "[0.5]\n"
          ]
        }
      ]
    },
    {
      "cell_type": "markdown",
      "metadata": {
        "id": "dGopmEYtgqL4"
      },
      "source": [
        "## define the loss function"
      ]
    },
    {
      "cell_type": "markdown",
      "metadata": {
        "id": "VD2Ggf9ygqL5"
      },
      "source": [
        "- cross entropy between the ground truth and the prediction\n",
        "- cross entropy : $-y \\log(h) - (1-y) \\log(1-h)$\n",
        "  - $y$ : grount truth\n",
        "  - $h$ : prediction\n",
        "- output dimension : $1 \\times 1$"
      ]
    },
    {
      "cell_type": "code",
      "execution_count": 22,
      "metadata": {
        "id": "wCaBIIzggqL5"
      },
      "outputs": [],
      "source": [
        "def compute_loss(prediction, label):\n",
        "\n",
        "# ================================================== \n",
        "# fill up the blank\n",
        "#\n",
        "    loss = -label * np.log(prediction) - (1-label) * np.log(1 - prediction)\n",
        "#\n",
        "# ================================================== \n",
        "\n",
        "    return loss"
      ]
    },
    {
      "cell_type": "code",
      "source": [
        "temp_loss = compute_loss(temp_prediction, label_0)\n",
        "print(temp_loss)"
      ],
      "metadata": {
        "colab": {
          "base_uri": "https://localhost:8080/"
        },
        "id": "NwZSmlNdvzy_",
        "outputId": "726d14da-5640-4bf7-f44b-e7668a3b222f"
      },
      "execution_count": 23,
      "outputs": [
        {
          "output_type": "stream",
          "name": "stdout",
          "text": [
            "[0.69314718]\n"
          ]
        }
      ]
    },
    {
      "cell_type": "markdown",
      "metadata": {
        "id": "-SSIGLNigqL6"
      },
      "source": [
        "## compute the gradient of the loss with respect to the model parameter"
      ]
    },
    {
      "cell_type": "code",
      "execution_count": 24,
      "metadata": {
        "id": "3XPuylQzgqL7"
      },
      "outputs": [],
      "source": [
        "def compute_gradient(input, prediction, label):\n",
        "\n",
        "# ================================================== \n",
        "# fill up the blank\n",
        "#\n",
        "    residual    = prediction - label\n",
        "    gradient    = residual * input\n",
        "#\n",
        "# ================================================== \n",
        "\n",
        "    return gradient"
      ]
    },
    {
      "cell_type": "code",
      "source": [
        "temp_gradient = compute_gradient(vec_0, temp_prediction, label_0)\n",
        "print(temp_gradient.shape)"
      ],
      "metadata": {
        "colab": {
          "base_uri": "https://localhost:8080/"
        },
        "id": "of5qYBD5wHRN",
        "outputId": "6d5cc357-81f5-4a37-f111-3f66fbd1132e"
      },
      "execution_count": 25,
      "outputs": [
        {
          "output_type": "stream",
          "name": "stdout",
          "text": [
            "(784,)\n"
          ]
        }
      ]
    },
    {
      "cell_type": "markdown",
      "metadata": {
        "id": "iQ-9-Bx2gqL7"
      },
      "source": [
        "## gradient descent algorithm"
      ]
    },
    {
      "cell_type": "markdown",
      "metadata": {
        "id": "X8xLZAlHgqL7"
      },
      "source": [
        "- hyper-parameters"
      ]
    },
    {
      "cell_type": "code",
      "execution_count": 26,
      "metadata": {
        "tags": [],
        "id": "yByMZWHwgqL8"
      },
      "outputs": [],
      "source": [
        "number_iteration    = 500\n",
        "learning_rate       = 0.01"
      ]
    },
    {
      "cell_type": "code",
      "execution_count": 27,
      "metadata": {
        "id": "ZtY25iBegqL8"
      },
      "outputs": [],
      "source": [
        "loss_iter   = np.zeros(number_iteration)\n",
        "loss_iter_0 = np.zeros(number_iteration)\n",
        "loss_iter_1 = np.zeros(number_iteration)\n",
        "\n",
        "pred_iter_0 = np.zeros(number_iteration)\n",
        "pred_iter_1 = np.zeros(number_iteration)"
      ]
    },
    {
      "cell_type": "markdown",
      "metadata": {
        "id": "ArbCGNYpgqL8"
      },
      "source": [
        "## run the gradient descent algorithm"
      ]
    },
    {
      "cell_type": "code",
      "execution_count": 28,
      "metadata": {
        "id": "EfI_fO3TgqL8"
      },
      "outputs": [],
      "source": [
        "for i in range(number_iteration):\n",
        "\n",
        "# ================================================== \n",
        "# fill up the blank\n",
        "#\n",
        "    pred_0  = propagation_forward(vec_0, weight)\n",
        "    loss_0  = compute_loss(pred_0, label_0)\n",
        "    grad_0  = compute_gradient(vec_0, pred_0, label_0)\n",
        "\n",
        "    pred_1  = propagation_forward(vec_1, weight)\n",
        "    loss_1  = compute_loss(pred_1, label_1)\n",
        "    grad_1  = compute_gradient(vec_1, pred_1, label_1)\n",
        "\n",
        "    loss    = ( loss_0 + loss_1 ) / 2\n",
        "    grad    = ( grad_0 + grad_1) / 2\n",
        "    weight  = weight - learning_rate * grad\n",
        "#\n",
        "# ================================================== \n",
        "\n",
        "    loss_iter_0[i]  = loss_0 \n",
        "    loss_iter_1[i]  = loss_1\n",
        "    loss_iter[i]    = loss\n",
        "\n",
        "    pred_iter_0[i]  = pred_0\n",
        "    pred_iter_1[i]  = pred_1"
      ]
    },
    {
      "cell_type": "markdown",
      "metadata": {
        "id": "pNE2j_QBgqL9"
      },
      "source": [
        "---"
      ]
    },
    {
      "cell_type": "markdown",
      "metadata": {
        "id": "xvxttlktgqL9"
      },
      "source": [
        "## functions for presenting the results"
      ]
    },
    {
      "cell_type": "markdown",
      "metadata": {
        "id": "fST4kgrGgqL-"
      },
      "source": [
        "---"
      ]
    },
    {
      "cell_type": "code",
      "execution_count": 29,
      "metadata": {
        "id": "Mra95x6GgqL-"
      },
      "outputs": [],
      "source": [
        "def function_result_01():\n",
        "\n",
        "    title           = 'loss for image 0'\n",
        "    label_axis_x    = 'iteration' \n",
        "    label_axis_y    = 'loss'\n",
        "\n",
        "    plt.figure(figsize=(8, 6))\n",
        "    plt.title(title)\n",
        "\n",
        "# ================================================== \n",
        "# fill up the blank\n",
        "#\n",
        "    \n",
        "    iter_range = np.arange(1, number_iteration + 1)\n",
        "    plt.plot( iter_range, loss_iter_0, '-', color = 'red')\n",
        "\n",
        "\n",
        "\n",
        "#\n",
        "# ================================================== \n",
        "\n",
        "    plt.tight_layout()\n",
        "    plt.show()"
      ]
    },
    {
      "cell_type": "code",
      "execution_count": 30,
      "metadata": {
        "id": "iFeo8lOigqL-"
      },
      "outputs": [],
      "source": [
        "def function_result_02():\n",
        "\n",
        "    title           = 'loss for image 1'\n",
        "    label_axis_x    = 'iteration' \n",
        "    label_axis_y    = 'loss'\n",
        "     \n",
        "    plt.figure(figsize=(8, 6))\n",
        "    plt.title(title)\n",
        "\n",
        "# ================================================== \n",
        "# fill up the blank\n",
        "#\n",
        "\n",
        "    iter_range = np.arange(1, number_iteration + 1)\n",
        "    plt.plot( iter_range, loss_iter_1, '-', color = 'blue')\n",
        "\n",
        "\n",
        "#\n",
        "# ================================================== \n",
        "\n",
        "    plt.tight_layout()\n",
        "    plt.show()"
      ]
    },
    {
      "cell_type": "code",
      "execution_count": 31,
      "metadata": {
        "id": "8BKlXpbmgqL-"
      },
      "outputs": [],
      "source": [
        "def function_result_03():\n",
        "\n",
        "    title           = 'totla loss'\n",
        "    label_axis_x    = 'iteration' \n",
        "    label_axis_y    = 'loss'\n",
        "\n",
        "    plt.figure(figsize=(8, 6))\n",
        "    plt.title(title)\n",
        "\n",
        "# ================================================== \n",
        "# fill up the blank\n",
        "#\n",
        "\n",
        "    iter_range = np.arange(1, number_iteration + 1)\n",
        "    plt.plot( iter_range, loss_iter_0, '-', color = 'red', label = \"image 0\")\n",
        "    plt.plot( iter_range, loss_iter_1, '-', color = 'blue', label = \"image 1\")\n",
        "    plt.plot( iter_range, loss_iter, '-', color = 'green', label = \"total\")\n",
        "    plt.legend()\n",
        "\n",
        "#\n",
        "# ================================================== \n",
        "\n",
        "    plt.tight_layout()\n",
        "    plt.show()"
      ]
    },
    {
      "cell_type": "code",
      "execution_count": 32,
      "metadata": {
        "id": "YjgcUiycgqL_"
      },
      "outputs": [],
      "source": [
        "def function_result_04():\n",
        "\n",
        "    title           = 'prediction for image 0'\n",
        "    label_axis_x    = 'iteration' \n",
        "    label_axis_y    = 'prediction'\n",
        "\n",
        "    plt.figure(figsize=(8, 6))\n",
        "    plt.title(title)\n",
        "\n",
        "# ================================================== \n",
        "# fill up the blank\n",
        "#\n",
        "\n",
        "    iter_range = np.arange(1, number_iteration + 1)\n",
        "    plt.plot( iter_range, pred_iter_0, '-', color = 'red')\n",
        "\n",
        "\n",
        "#\n",
        "# ================================================== \n",
        "    \n",
        "    plt.tight_layout()\n",
        "    plt.show()"
      ]
    },
    {
      "cell_type": "code",
      "execution_count": 33,
      "metadata": {
        "id": "vojItQcQgqL_"
      },
      "outputs": [],
      "source": [
        "def function_result_05():\n",
        "\n",
        "    title           = 'prediction for image 1'\n",
        "    label_axis_x    = 'iteration' \n",
        "    label_axis_y    = 'prediction'\n",
        "\n",
        "    plt.figure(figsize=(8, 6))\n",
        "    plt.title(title)\n",
        "\n",
        "# ================================================== \n",
        "# fill up the blank\n",
        "#\n",
        "\n",
        "    iter_range = np.arange(1, number_iteration + 1)\n",
        "    plt.plot( iter_range, pred_iter_1, '-', color = 'blue')\n",
        "\n",
        "\n",
        "#\n",
        "# ================================================== \n",
        "\n",
        "    plt.tight_layout()\n",
        "    plt.show()"
      ]
    },
    {
      "cell_type": "code",
      "execution_count": 34,
      "metadata": {
        "id": "cAKViJGqgqL_"
      },
      "outputs": [],
      "source": [
        "def function_result_06():\n",
        "\n",
        "    title           = 'prediction'\n",
        "    label_axis_x    = 'iteration' \n",
        "    label_axis_y    = 'prediction'\n",
        "\n",
        "    plt.figure(figsize=(8, 6))\n",
        "    plt.title(title)\n",
        "\n",
        "# ================================================== \n",
        "# fill up the blank\n",
        "#\n",
        "\n",
        "    iter_range = np.arange(1, number_iteration + 1)\n",
        "    plt.plot( iter_range, pred_iter_0, '-', color = 'red', label = \"image 0\")\n",
        "    plt.plot( iter_range, pred_iter_1, '-', color = 'blue', label = \"image 1\")\n",
        "    plt.legend()\n",
        "\n",
        "#\n",
        "# ================================================== \n",
        "\n",
        "    plt.tight_layout()\n",
        "    plt.show()"
      ]
    },
    {
      "cell_type": "code",
      "execution_count": 35,
      "metadata": {
        "id": "2lIpRBxPgqMA"
      },
      "outputs": [],
      "source": [
        "def function_result_07():\n",
        "\n",
        "    print('prediction = %12.10f' % (pred_iter_0[0]))"
      ]
    },
    {
      "cell_type": "code",
      "execution_count": 36,
      "metadata": {
        "id": "K4kgfyTkgqMA"
      },
      "outputs": [],
      "source": [
        "def function_result_08():\n",
        "\n",
        "    print('prediction = %12.10f' % (pred_iter_1[0]))"
      ]
    },
    {
      "cell_type": "code",
      "execution_count": 37,
      "metadata": {
        "id": "QEHguhvPgqMA"
      },
      "outputs": [],
      "source": [
        "def function_result_09():\n",
        "\n",
        "    print('prediction = %12.10f' % (pred_iter_0[-1]))"
      ]
    },
    {
      "cell_type": "code",
      "execution_count": 38,
      "metadata": {
        "id": "17AjQaDogqMA"
      },
      "outputs": [],
      "source": [
        "def function_result_10():\n",
        "\n",
        "    print('prediction = %12.10f' % (pred_iter_1[-1]))"
      ]
    },
    {
      "cell_type": "code",
      "execution_count": 39,
      "metadata": {
        "id": "gysIZ5uFgqMA"
      },
      "outputs": [],
      "source": [
        "def function_result_11():\n",
        "\n",
        "    print('loss = %12.10f' % (loss_iter_0[-1]))"
      ]
    },
    {
      "cell_type": "code",
      "execution_count": 40,
      "metadata": {
        "id": "j1haRGB5gqMB"
      },
      "outputs": [],
      "source": [
        "def function_result_12():\n",
        "\n",
        "    print('loss = %12.10f' % (loss_iter_1[-1]))"
      ]
    },
    {
      "cell_type": "code",
      "execution_count": 41,
      "metadata": {
        "id": "uR6CwfWqgqMB"
      },
      "outputs": [],
      "source": [
        "def function_result_13():\n",
        "\n",
        "    print('loss = %12.10f' % (loss_iter[-1]))"
      ]
    },
    {
      "cell_type": "markdown",
      "metadata": {
        "id": "x6L8XJAzgqMB"
      },
      "source": [
        "---"
      ]
    },
    {
      "cell_type": "markdown",
      "metadata": {
        "id": "9zoUD38egqMB"
      },
      "source": [
        "## results "
      ]
    },
    {
      "cell_type": "markdown",
      "metadata": {
        "id": "gi96JxxjgqMB"
      },
      "source": [
        "---"
      ]
    },
    {
      "cell_type": "code",
      "execution_count": 42,
      "metadata": {
        "id": "umXhHvT4gqMC",
        "outputId": "476d9868-52c1-419b-cd87-d92635e5fce9",
        "colab": {
          "base_uri": "https://localhost:8080/",
          "height": 1000
        }
      },
      "outputs": [
        {
          "output_type": "stream",
          "name": "stdout",
          "text": [
            "\n",
            "################################################################################\n",
            "#\n",
            "# RESULT # 01\n",
            "#\n",
            "################################################################################\n",
            "\n"
          ]
        },
        {
          "output_type": "display_data",
          "data": {
            "text/plain": [
              "<Figure size 576x432 with 1 Axes>"
            ],
            "image/png": "[encoded data removed]"
          },
          "metadata": {
            "needs_background": "light"
          }
        },
        {
          "output_type": "stream",
          "name": "stdout",
          "text": [
            "\n",
            "################################################################################\n",
            "#\n",
            "# RESULT # 02\n",
            "#\n",
            "################################################################################\n",
            "\n"
          ]
        },
        {
          "output_type": "display_data",
          "data": {
            "text/plain": [
              "<Figure size 576x432 with 1 Axes>"
            ],
            "image/png": "[encoded data removed]"
          },
          "metadata": {
            "needs_background": "light"
          }
        },
        {
          "output_type": "stream",
          "name": "stdout",
          "text": [
            "\n",
            "################################################################################\n",
            "#\n",
            "# RESULT # 03\n",
            "#\n",
            "################################################################################\n",
            "\n"
          ]
        },
        {
          "output_type": "display_data",
          "data": {
            "text/plain": [
              "<Figure size 576x432 with 1 Axes>"
            ],
            "image/png": "[encoded data removed]"
          },
          "metadata": {
            "needs_background": "light"
          }
        },
        {
          "output_type": "stream",
          "name": "stdout",
          "text": [
            "\n",
            "################################################################################\n",
            "#\n",
            "# RESULT # 04\n",
            "#\n",
            "################################################################################\n",
            "\n"
          ]
        },
        {
          "output_type": "display_data",
          "data": {
            "text/plain": [
              "<Figure size 576x432 with 1 Axes>"
            ],
            "image/png": "[encoded data removed]"
          },
          "metadata": {
            "needs_background": "light"
          }
        },
        {
          "output_type": "stream",
          "name": "stdout",
          "text": [
            "\n",
            "################################################################################\n",
            "#\n",
            "# RESULT # 05\n",
            "#\n",
            "################################################################################\n",
            "\n"
          ]
        },
        {
          "output_type": "display_data",
          "data": {
            "text/plain": [
              "<Figure size 576x432 with 1 Axes>"
            ],
            "image/png": "[encoded data removed]"
          },
          "metadata": {
            "needs_background": "light"
          }
        },
        {
          "output_type": "stream",
          "name": "stdout",
          "text": [
            "\n",
            "################################################################################\n",
            "#\n",
            "# RESULT # 06\n",
            "#\n",
            "################################################################################\n",
            "\n"
          ]
        },
        {
          "output_type": "display_data",
          "data": {
            "text/plain": [
              "<Figure size 576x432 with 1 Axes>"
            ],
            "image/png": "[encoded data removed]"
          },
          "metadata": {
            "needs_background": "light"
          }
        },
        {
          "output_type": "stream",
          "name": "stdout",
          "text": [
            "\n",
            "################################################################################\n",
            "#\n",
            "# RESULT # 07\n",
            "#\n",
            "################################################################################\n",
            "\n",
            "prediction = 0.5000000000\n",
            "\n",
            "################################################################################\n",
            "#\n",
            "# RESULT # 08\n",
            "#\n",
            "################################################################################\n",
            "\n",
            "prediction = 0.5000000000\n",
            "\n",
            "################################################################################\n",
            "#\n",
            "# RESULT # 09\n",
            "#\n",
            "################################################################################\n",
            "\n",
            "prediction = 0.0058987888\n",
            "\n",
            "################################################################################\n",
            "#\n",
            "# RESULT # 10\n",
            "#\n",
            "################################################################################\n",
            "\n",
            "prediction = 0.9907446562\n",
            "\n",
            "################################################################################\n",
            "#\n",
            "# RESULT # 11\n",
            "#\n",
            "################################################################################\n",
            "\n",
            "loss = 0.0059162553\n",
            "\n",
            "################################################################################\n",
            "#\n",
            "# RESULT # 12\n",
            "#\n",
            "################################################################################\n",
            "\n",
            "loss = 0.0092984407\n",
            "\n",
            "################################################################################\n",
            "#\n",
            "# RESULT # 13\n",
            "#\n",
            "################################################################################\n",
            "\n",
            "loss = 0.0076073480\n"
          ]
        }
      ],
      "source": [
        "number_result = 13\n",
        "\n",
        "for i in range(number_result):\n",
        "\n",
        "    title           = '# RESULT # {:02d}'.format(i+1) \n",
        "    name_function   = 'function_result_{:02d}()'.format(i+1)\n",
        "\n",
        "    print('') \n",
        "    print('################################################################################')\n",
        "    print('#') \n",
        "    print(title)\n",
        "    print('#') \n",
        "    print('################################################################################')\n",
        "    print('') \n",
        "\n",
        "    eval(name_function)"
      ]
    },
    {
      "cell_type": "code",
      "execution_count": 42,
      "metadata": {
        "id": "inUmvEjYgqMC"
      },
      "outputs": [],
      "source": []
    }
  ],
  "metadata": {
    "interpreter": {
      "hash": "40d3a090f54c6569ab1632332b64b2c03c39dcf918b08424e98f38b5ae0af88f"
    },
    "kernelspec": {
      "display_name": "Python 3.8.5 64-bit (conda)",
      "language": "python",
      "name": "python3"
    },
    "language_info": {
      "codemirror_mode": {
        "name": "ipython",
        "version": 3
      },
      "file_extension": ".py",
      "mimetype": "text/x-python",
      "name": "python",
      "nbconvert_exporter": "python",
      "pygments_lexer": "ipython3",
      "version": "3.9.12"
    },
    "metadata": {
      "interpreter": {
        "hash": "31f2aee4e71d21fbe5cf8b01ff0e069b9275f58929596ceb00d14d90e3e16cd6"
      }
    },
    "colab": {
      "provenance": []
    }
  },
  "nbformat": 4,
  "nbformat_minor": 0
}